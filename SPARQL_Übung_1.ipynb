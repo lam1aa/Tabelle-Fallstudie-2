{
   "cells": [
      {
         "cell_type": "markdown",
         "metadata": {},
         "source": [
            "# Übung - Metadaten suchen & filtern"
         ]
      },
      {
         "cell_type": "markdown",
         "metadata": {},
         "source": [
            "*In diesem Abschnitt:*  \n",
            "\n",
            "- *Eingrenzung der Suche nach offenen Daten auf das Wort „Baumkataster“*\n",
            "- *Eingrenzung der Suche nach offenen Daten „Baumkataster“ auf den Zeitraum 2010-2015 (2017 ist etwas random...)*\n",
            "- *Dann durch Erinnern an Gesetz Änderung des Zeitraums auf 2015-2025*"
         ]
      },
      {
         "cell_type": "markdown",
         "metadata": {},
         "source": [
            "In dieser Übung wollen wir mit Hilfe von SPARQL Metadaten suchen und filtern, wie im vorherigen Abschnitt gezeigt. Dabei unterstützen wir Dr. Amir Weber in seinem Untersuchungsauftrag, zu prüfen, welche offen verfügbaren Daten existieren, die dazu beitragen können, den Baumbestand in einer bestimmten Region zu ermitteln.\n",
            "\n",
            "Nachdem wir im letzten Abschnitt nach offenen Daten im Allgemeinen gesucht haben, gilt es nun, die Suche zu verfeinern bzw. die Suchergebnisse zu filtern. Dazu werden wir in einem ersten Schritt nach Datensätzen suchen, die das Wort \"Baumkataster\" im Titel beinhalten. In einem weiteren Schritt werden wir das Ergebnis danach auf einen Zeitabschnitt beschränken."
         ]
      },
      {
         "cell_type": "markdown",
         "metadata": {},
         "source": [
            "## Suche nach \"Baumkataster\""
         ]
      },
      {
         "cell_type": "markdown",
         "metadata": {},
         "source": [
            "**Erklärung des Codes**"
         ]
      },
      {
         "cell_type": "markdown",
         "metadata": {},
         "source": [
            "Als erstes setzen wir mit\n",
            "\n",
            "`(%endpoint https://data.europa.eu/sparql)` \n",
            "\n",
            "wieder unsere Verknüpfung zur Schnittstelle des europäischen Datenportals data.europa.eu. "
         ]
      },
      {
         "cell_type": "markdown",
         "metadata": {},
         "source": [
            "Auch die PREFIXES kennen Sie bereits aus dem vorigen Abschnitt:\n",
            "\n",
            "Mit dem PREFIX\n",
            "\n",
            "`(dct: <http://purl.org/dc/terms/>)`\n",
            "\n",
            "kürzen wir Verweise auf die angegebene Adresse (der Namensraum der Dublic Core Metadata Initiative) auf *dct* (dublin core term).\n",
            "\n",
            "Mit dem PREFIX \n",
            "\n",
            "`(dcatde: <http://dcat-ap.de/def/dcatde/>)` \n",
            "\n",
            "kürzen wir Verweise aus dem Namensraum von DCAT-AP auf *dcatde* (data catalog vocabulary deutschland).\n",
            "\n",
            "Mit den SELECT-Befehlen geben wir die Eigenschaften an, die wir sehen wollen. Die wären lediglich als Spalten zu sehen, nur wenn wir die in der SELECT-Zeile angeben.\n",
            "\n",
            "Dann ...\n",
            "\n",
            "mit den FILTER-Befehlen, z.B.\n",
            "\n",
            "`FILTER(isURI(?contributorid))`\n",
            "\n",
            "führen wir zusätzliche Bedingungen ein, die die Datensätze erfüllen müssen, um aufgelistet zu werden. Damit geben wir an, dass nur Ergebnisse angezeigt werden sollen, bei denen der Bereitsteller als URI-Link angegeben ist.\n",
            "\n",
            "Die Funktion `strstarts` zusammen mit dem angegebenen Wert legt fest, mit welcher Zeichenfolge die Angabe beginnen muss."
         ]
      },
      {
         "cell_type": "markdown",
         "metadata": {},
         "source": [
            "**Code und Output** Vorsicht: Übung teilen: erst Suche nach Baumkataster + in einem neuem Fenster Suche nach Zeitabschnitt..."
         ]
      },
      {
         "cell_type": "markdown",
         "metadata": {
            "vscode": {
               "languageId": "python"
            }
         },
         "source": [
            "Als nächstes wollen wir uns alle Datensätze ansehen die im Titel das Wort \"Baumkataster\" beinhalten."
         ]
      },
      {
         "cell_type": "code",
         "execution_count": 6,
         "metadata": {
            "vscode": {
               "languageId": "plaintext"
            }
         },
         "outputs": [
            {
               "data": {
                  "text/html": [
                     "<div class=\"krn-spql\"><div class=\"magic\">Endpoint set to: https://data.europa.eu/sparql</div></div>"
                  ],
                  "text/plain": [
                     "Endpoint set to: https://data.europa.eu/sparql\n"
                  ]
               },
               "metadata": {},
               "output_type": "display_data"
            },
            {
               "data": {
                  "text/html": [
                     "<div class=\"krn-spql\"><table><tr class=hdr><th>uri</th>\n",
                     "<th>title</th>\n",
                     "<th>contributorid</th>\n",
                     "<th>modified</th></tr><tr class=odd><td class=val><a href=\"http://data.europa.eu/88u/dataset/fcdceb2e-d16d-410c-ba0f-521ba8c6effa\" target=\"_other\">http://data.europa.eu/88u/dataset/fcdceb2e-d16d-410c-ba0f-521ba8c6effa</a></td>\n",
                     "<td class=val>Fachpläne - Baumkataster</td>\n",
                     "<td class=val><a href=\"http://dcat-ap.de/def/contributors/datenBW\" target=\"_other\">http://dcat-ap.de/def/contributors/datenBW</a></td>\n",
                     "<td class=val>2025-01-03T08:49:41.490922</td></tr><tr class=even><td class=val><a href=\"http://data.europa.eu/88u/dataset/c1c61928-c602-4e37-af31-2d23901e2540\" target=\"_other\">http://data.europa.eu/88u/dataset/c1c61928-c602-4e37-af31-2d23901e2540</a></td>\n",
                     "<td class=val>Straßenbaumkataster Hamburg</td>\n",
                     "<td class=val><a href=\"http://dcat-ap.de/def/contributors/transparenzportalHamburg\" target=\"_other\">http://dcat-ap.de/def/contributors/transparenzportalHamburg</a></td>\n",
                     "<td class=val>2025-01-25T23:05:06.709577</td></tr><tr class=odd><td class=val><a href=\"http://data.europa.eu/88u/dataset/19676799-fedb-4d1a-a89a-26fba887b3f0~~2\" target=\"_other\">http://data.europa.eu/88u/dataset/19676799-fedb-4d1a-a89a-26fba887b3f0~~2</a></td>\n",
                     "<td class=val>Straßenbaumkataster Hamburger Hafen</td>\n",
                     "<td class=val><a href=\"http://dcat-ap.de/def/contributors/transparenzportalHamburg\" target=\"_other\">http://dcat-ap.de/def/contributors/transparenzportalHamburg</a></td>\n",
                     "<td class=val>2025-01-24T21:38:49.974593</td></tr><tr class=even><td class=val><a href=\"http://data.europa.eu/88u/dataset/fb87ef77-86bf-444f-8f43-d73ef0708e42\" target=\"_other\">http://data.europa.eu/88u/dataset/fb87ef77-86bf-444f-8f43-d73ef0708e42</a></td>\n",
                     "<td class=val>D30 Baumkataster der Kreisstadt Bergheim</td>\n",
                     "<td class=val><a href=\"http://dcat-ap.de/def/contributors/openNRW\" target=\"_other\">http://dcat-ap.de/def/contributors/openNRW</a></td>\n",
                     "<td class=val>2021-09-08T08:02:44+02:00</td></tr><tr class=odd><td class=val><a href=\"http://data.europa.eu/88u/dataset/5f0aaf45-f380-49b3-87be-51abaddacbe0\" target=\"_other\">http://data.europa.eu/88u/dataset/5f0aaf45-f380-49b3-87be-51abaddacbe0</a></td>\n",
                     "<td class=val>Baumkataster Norderstedt</td>\n",
                     "<td class=val><a href=\"http://dcat-ap.de/def/contributors/schleswigHolstein\" target=\"_other\">http://dcat-ap.de/def/contributors/schleswigHolstein</a></td>\n",
                     "<td class=val>2022-04-12T07:58:22.519048</td></tr><tr class=even><td class=val><a href=\"http://data.europa.eu/88u/dataset/cfbe70e6-6078-42db-8c9b-f8745ee8916e\" target=\"_other\">http://data.europa.eu/88u/dataset/cfbe70e6-6078-42db-8c9b-f8745ee8916e</a></td>\n",
                     "<td class=val>Baumkataster</td>\n",
                     "<td class=val><a href=\"http://dcat-ap.de/def/contributors/schleswigHolstein\" target=\"_other\">http://dcat-ap.de/def/contributors/schleswigHolstein</a></td>\n",
                     "<td class=val>2023-06-09T05:25:52.631385</td></tr><tr class=odd><td class=val><a href=\"http://data.europa.eu/88u/dataset/b16bb333-26ca-4743-9663-723d63f57259\" target=\"_other\">http://data.europa.eu/88u/dataset/b16bb333-26ca-4743-9663-723d63f57259</a></td>\n",
                     "<td class=val>Digitales Baumkataster Münster</td>\n",
                     "<td class=val><a href=\"http://dcat-ap.de/def/contributors/openNRW\" target=\"_other\">http://dcat-ap.de/def/contributors/openNRW</a></td>\n",
                     "<td class=val>2025-03-13T13:28:04+01:00</td></tr><tr class=even><td class=val><a href=\"http://data.europa.eu/88u/dataset/200e532c-a381-4611-ba05-4ed7afc31230\" target=\"_other\">http://data.europa.eu/88u/dataset/200e532c-a381-4611-ba05-4ed7afc31230</a></td>\n",
                     "<td class=val>Baumkataster des ASG Wesel</td>\n",
                     "<td class=val><a href=\"http://dcat-ap.de/def/contributors/openNRW\" target=\"_other\">http://dcat-ap.de/def/contributors/openNRW</a></td>\n",
                     "<td class=val>2024-05-28T11:46:06.401383</td></tr><tr class=odd><td class=val><a href=\"http://data.europa.eu/88u/dataset/baumkataster_stadt_wuerzburg-wuerzburg\" target=\"_other\">http://data.europa.eu/88u/dataset/baumkataster_stadt_wuerzburg-wuerzburg</a></td>\n",
                     "<td class=val>Baumkataster der Stadt Würzburg</td>\n",
                     "<td class=val><a href=\"http://dcat-ap.de/def/contributors/openDataBayern\" target=\"_other\">http://dcat-ap.de/def/contributors/openDataBayern</a></td>\n",
                     "<td class=val>2024-11-14T13:33:38.241Z</td></tr><tr class=even><td class=val><a href=\"http://data.europa.eu/88u/dataset/https-registry-gdi-de-org-id-de-sn-stlp-cee75d75-4b4e-4bea-9d24-8b5993b54479\" target=\"_other\">http://data.europa.eu/88u/dataset/https-registry-gdi-de-org-id-de-sn-stlp-cee75d75-4b4e-4bea-9d24-8b5993b54479</a></td>\n",
                     "<td class=val>Baumkataster, Stadt Leipzig</td>\n",
                     "<td class=val><a href=\"http://dcat-ap.de/def/contributors/freistaatSachsen\" target=\"_other\">http://dcat-ap.de/def/contributors/freistaatSachsen</a></td>\n",
                     "<td class=val>2025-02-19</td></tr><tr class=odd><td class=val><a href=\"http://data.europa.eu/88u/dataset/59dd9d5d-cd65-43f8-bd13-d82734e640ef\" target=\"_other\">http://data.europa.eu/88u/dataset/59dd9d5d-cd65-43f8-bd13-d82734e640ef</a></td>\n",
                     "<td class=val>Baumkataster Koeln 2020</td>\n",
                     "<td class=val><a href=\"http://dcat-ap.de/def/contributors/openNRW\" target=\"_other\">http://dcat-ap.de/def/contributors/openNRW</a></td>\n",
                     "<td class=val>2024-06-25T08:34:10+02:00</td></tr><tr class=even><td class=val><a href=\"http://data.europa.eu/88u/dataset/https-open-bydata-de-api-hub-repo-datasets-baumkataster-haar\" target=\"_other\">http://data.europa.eu/88u/dataset/https-open-bydata-de-api-hub-repo-datasets-baumkataster-haar</a></td>\n",
                     "<td class=val>Baumkataster der Stadt Haar</td>\n",
                     "<td class=val><a href=\"http://dcat-ap.de/def/contributors/openDataBayern\" target=\"_other\">http://dcat-ap.de/def/contributors/openDataBayern</a></td>\n",
                     "<td class=val>2025-03-11T10:56:42.343637</td></tr><tr class=odd><td class=val><a href=\"http://data.europa.eu/88u/dataset/https-open-bydata-de-api-hub-repo-datasets-baumkataster-der-stadt-hassfurt\" target=\"_other\">http://data.europa.eu/88u/dataset/https-open-bydata-de-api-hub-repo-datasets-baumkataster-der-stadt-hassfurt</a></td>\n",
                     "<td class=val>Baumkataster der Stadt Haßfurt</td>\n",
                     "<td class=val><a href=\"http://dcat-ap.de/def/contributors/openDataBayern\" target=\"_other\">http://dcat-ap.de/def/contributors/openDataBayern</a></td>\n",
                     "<td class=val>2023-11-24</td></tr><tr class=even><td class=val><a href=\"http://data.europa.eu/88u/dataset/b62818fc-6af8-4896-a4d4-c35ee4864c9f\" target=\"_other\">http://data.europa.eu/88u/dataset/b62818fc-6af8-4896-a4d4-c35ee4864c9f</a></td>\n",
                     "<td class=val>Baumkataster der Hansestadt Lübeck</td>\n",
                     "<td class=val><a href=\"http://dcat-ap.de/def/contributors/schleswigHolstein\" target=\"_other\">http://dcat-ap.de/def/contributors/schleswigHolstein</a></td>\n",
                     "<td class=val>2025-02-25T16:30:03.236777</td></tr><tr class=odd><td class=val><a href=\"http://data.europa.eu/88u/dataset/3a14f846-13a1-47d9-874f-3843007d85b7\" target=\"_other\">http://data.europa.eu/88u/dataset/3a14f846-13a1-47d9-874f-3843007d85b7</a></td>\n",
                     "<td class=val>Baumkataster - Amt Beetsee Gemeinde Beetzseeheide (WMS)</td>\n",
                     "<td class=val><a href=\"http://dcat-ap.de/def/contributors/openDataBrandenburg\" target=\"_other\">http://dcat-ap.de/def/contributors/openDataBrandenburg</a></td>\n",
                     "<td class=val>2024-12-04T14:04:13</td></tr><tr class=even><td class=val><a href=\"http://data.europa.eu/88u/dataset/https-open-bydata-de-api-hub-repo-datasets-baumkataster-der-stadt-erlangen\" target=\"_other\">http://data.europa.eu/88u/dataset/https-open-bydata-de-api-hub-repo-datasets-baumkataster-der-stadt-erlangen</a></td>\n",
                     "<td class=val>Baumkataster der Stadt Erlangen</td>\n",
                     "<td class=val><a href=\"http://dcat-ap.de/def/contributors/openDataBayern\" target=\"_other\">http://dcat-ap.de/def/contributors/openDataBayern</a></td>\n",
                     "<td class=val>2024-04-11T05:39:58.589234</td></tr><tr class=odd><td class=val><a href=\"http://data.europa.eu/88u/dataset/https-open-bydata-de-api-hub-repo-datasets-baumkataster-der-stadt-erlangen\" target=\"_other\">http://data.europa.eu/88u/dataset/https-open-bydata-de-api-hub-repo-datasets-baumkataster-der-stadt-erlangen</a></td>\n",
                     "<td class=val>Baumkataster der Stadt Erlangen</td>\n",
                     "<td class=val><a href=\"http://dcat-ap.de/def/contributors/stadtErlangen\" target=\"_other\">http://dcat-ap.de/def/contributors/stadtErlangen</a></td>\n",
                     "<td class=val>2024-04-11T05:39:58.589234</td></tr><tr class=even><td class=val><a href=\"http://data.europa.eu/88u/dataset/7a9f509a-9fb0-4c3c-a2d2-4cdd980e5e33\" target=\"_other\">http://data.europa.eu/88u/dataset/7a9f509a-9fb0-4c3c-a2d2-4cdd980e5e33</a></td>\n",
                     "<td class=val>Baumkataster der Hansestadt Lübeck</td>\n",
                     "<td class=val><a href=\"http://dcat-ap.de/def/contributors/schleswigHolstein\" target=\"_other\">http://dcat-ap.de/def/contributors/schleswigHolstein</a></td>\n",
                     "<td class=val>2025-02-26T07:34:24.603558</td></tr><tr class=odd><td class=val><a href=\"http://data.europa.eu/88u/dataset/0056a74a-6153-440f-a68f-aaea93a3bf25\" target=\"_other\">http://data.europa.eu/88u/dataset/0056a74a-6153-440f-a68f-aaea93a3bf25</a></td>\n",
                     "<td class=val>Baumkataster Koeln 2017</td>\n",
                     "<td class=val><a href=\"http://dcat-ap.de/def/contributors/openNRW\" target=\"_other\">http://dcat-ap.de/def/contributors/openNRW</a></td>\n",
                     "<td class=val>2024-06-25T08:34:10+02:00</td></tr><tr class=even><td class=val><a href=\"http://data.europa.eu/88u/dataset/baumkat_01\" target=\"_other\">http://data.europa.eu/88u/dataset/baumkat_01</a></td>\n",
                     "<td class=val>Baumkataster</td>\n",
                     "<td class=val><a href=\"http://dcat-ap.de/def/contributors/openDataBayern\" target=\"_other\">http://dcat-ap.de/def/contributors/openDataBayern</a></td>\n",
                     "<td class=val>2025-03-25</td></tr></table><div class=\"tinfo\">Total: 30, Shown: 20</div></div>"
                  ]
               },
               "metadata": {},
               "output_type": "display_data"
            }
         ],
         "source": [
            "%endpoint https://data.europa.eu/sparql\n",
            "PREFIX dct: <http://purl.org/dc/terms/>\n",
            "PREFIX dcatde: <http://dcat-ap.de/def/dcatde/>\n",
            "\n",
            "SELECT ?uri ?title ?contributorid ?modified WHERE {\n",
            "    {\n",
            "        SELECT ?uri ?title ?contributorid ?modified WHERE {\n",
            "            ?uri dct:title ?title .\n",
            "            ?uri dcatde:contributorID ?contributorid .\n",
            "            ?uri dct:modified ?modified .\n",
            "            FILTER(isURI(?contributorid))\n",
            "            FILTER(strstarts(str(?contributorid), \"http://dcat-ap.de/def/contributors/\"))       \n",
            "            FILTER(CONTAINS(LCASE(?title), \"baumkataster\"))\n",
            "        }\n",
            "    }\n",
            "}"
         ]
      },
      {
         "cell_type": "markdown",
         "metadata": {},
         "source": [
            "## Eingrenzung auf einen Zeitraum"
         ]
      },
      {
         "cell_type": "markdown",
         "metadata": {},
         "source": [
            "Nachdem wir uns mit der obigen Abfrage offene Daten deutscher Bereitsteller, die das Wort \"Baumkataster\" beinhalten, haben anzeigen lassen, wollen wir das Ergebnis nun auf einen Zeitraum eingrenzen.\n",
            "\n",
            "Dr. Weber hat erstmal den Zeitraum 2010-2015 gewählt. "
         ]
      },
      {
         "cell_type": "code",
         "execution_count": 5,
         "metadata": {
            "vscode": {
               "languageId": "plaintext"
            }
         },
         "outputs": [
            {
               "data": {
                  "text/html": [
                     "<div class=\"krn-spql\"><div class=\"magic\">Endpoint set to: https://data.europa.eu/sparql</div></div>"
                  ],
                  "text/plain": [
                     "Endpoint set to: https://data.europa.eu/sparql\n"
                  ]
               },
               "metadata": {},
               "output_type": "display_data"
            },
            {
               "data": {
                  "text/html": [
                     "<div class=\"krn-spql\"><table><tr class=hdr><th>uri</th>\n",
                     "<th>title</th>\n",
                     "<th>contributorid</th>\n",
                     "<th>modified</th></tr></table><div class=\"tinfo\">Total: 0, Shown: 0</div></div>"
                  ]
               },
               "metadata": {},
               "output_type": "display_data"
            }
         ],
         "source": [
            "%endpoint https://data.europa.eu/sparql\n",
            "PREFIX dct: <http://purl.org/dc/terms/>\n",
            "PREFIX dcatde: <http://dcat-ap.de/def/dcatde/>\n",
            "\n",
            "SELECT ?uri ?title ?contributorid ?modified WHERE {\n",
            "    {\n",
            "        SELECT ?uri ?title ?contributorid ?modified WHERE {\n",
            "            ?uri dct:title ?title .\n",
            "            ?uri dcatde:contributorID ?contributorid .\n",
            "            ?uri dct:modified ?modified .\n",
            "            FILTER(isURI(?contributorid))\n",
            "            FILTER(strstarts(str(?contributorid), \"http://dcat-ap.de/def/contributors/\"))       \n",
            "            FILTER(CONTAINS(LCASE(?title), \"baumkataster\"))\n",
            "            FILTER(\n",
            "                CONTAINS(STR(?modified), \"2010\") || \n",
            "                CONTAINS(STR(?modified), \"2011\") || \n",
            "                CONTAINS(STR(?modified), \"2012\") || \n",
            "                CONTAINS(STR(?modified), \"2013\") || \n",
            "                CONTAINS(STR(?modified), \"2014\") || \n",
            "                CONTAINS(STR(?modified), \"2015\") \n",
            "                )\n",
            "        }\n",
            "    }\n",
            "}"
         ]
      },
      {
         "cell_type": "markdown",
         "metadata": {},
         "source": [
            "## Anpassen der Abfrage"
         ]
      },
      {
         "cell_type": "markdown",
         "metadata": {},
         "source": [
            "Nachdem er sich die Ausgabe angesehen hat, fällt Dr. Amir Weber ein, dass im Sommer 2017 das sog. Open-Data-Gesetz in Kraft getreten ist. Damit wurden Behörden der unmittelbaren Bundesverwaltung dazu verpflichtet, Datensätze \"open\", also offen und für alle zugänglich, bereitzustellen.\n",
            "\n",
            "Er vermutet daher einen Anstieg der eingepflegten Daten nach 2017 und passt seine SPARQL-Abrage dementsprechend an. Wir wollen daher nun Daten aus den Jahren 2015 bis 2025 suchen."
         ]
      },
      {
         "cell_type": "markdown",
         "metadata": {
            "vscode": {
               "languageId": "python"
            }
         },
         "source": [
            "**Code und Output**"
         ]
      },
      {
         "cell_type": "code",
         "execution_count": 8,
         "metadata": {
            "vscode": {
               "languageId": "plaintext"
            }
         },
         "outputs": [
            {
               "data": {
                  "text/html": [
                     "<div class=\"krn-spql\"><div class=\"magic\">Endpoint set to: https://data.europa.eu/sparql</div></div>"
                  ],
                  "text/plain": [
                     "Endpoint set to: https://data.europa.eu/sparql\n"
                  ]
               },
               "metadata": {},
               "output_type": "display_data"
            },
            {
               "data": {
                  "text/html": [
                     "<div class=\"krn-spql\"><table><tr class=hdr><th>uri</th>\n",
                     "<th>title</th>\n",
                     "<th>contributorid</th>\n",
                     "<th>modified</th></tr><tr class=odd><td class=val><a href=\"http://data.europa.eu/88u/dataset/fcdceb2e-d16d-410c-ba0f-521ba8c6effa\" target=\"_other\">http://data.europa.eu/88u/dataset/fcdceb2e-d16d-410c-ba0f-521ba8c6effa</a></td>\n",
                     "<td class=val>Fachpläne - Baumkataster</td>\n",
                     "<td class=val><a href=\"http://dcat-ap.de/def/contributors/datenBW\" target=\"_other\">http://dcat-ap.de/def/contributors/datenBW</a></td>\n",
                     "<td class=val>2025-01-03T08:49:41.490922</td></tr><tr class=even><td class=val><a href=\"http://data.europa.eu/88u/dataset/c1c61928-c602-4e37-af31-2d23901e2540\" target=\"_other\">http://data.europa.eu/88u/dataset/c1c61928-c602-4e37-af31-2d23901e2540</a></td>\n",
                     "<td class=val>Straßenbaumkataster Hamburg</td>\n",
                     "<td class=val><a href=\"http://dcat-ap.de/def/contributors/transparenzportalHamburg\" target=\"_other\">http://dcat-ap.de/def/contributors/transparenzportalHamburg</a></td>\n",
                     "<td class=val>2025-01-25T23:05:06.709577</td></tr><tr class=odd><td class=val><a href=\"http://data.europa.eu/88u/dataset/19676799-fedb-4d1a-a89a-26fba887b3f0~~2\" target=\"_other\">http://data.europa.eu/88u/dataset/19676799-fedb-4d1a-a89a-26fba887b3f0~~2</a></td>\n",
                     "<td class=val>Straßenbaumkataster Hamburger Hafen</td>\n",
                     "<td class=val><a href=\"http://dcat-ap.de/def/contributors/transparenzportalHamburg\" target=\"_other\">http://dcat-ap.de/def/contributors/transparenzportalHamburg</a></td>\n",
                     "<td class=val>2025-01-24T21:38:49.974593</td></tr><tr class=even><td class=val><a href=\"http://data.europa.eu/88u/dataset/fb87ef77-86bf-444f-8f43-d73ef0708e42\" target=\"_other\">http://data.europa.eu/88u/dataset/fb87ef77-86bf-444f-8f43-d73ef0708e42</a></td>\n",
                     "<td class=val>D30 Baumkataster der Kreisstadt Bergheim</td>\n",
                     "<td class=val><a href=\"http://dcat-ap.de/def/contributors/openNRW\" target=\"_other\">http://dcat-ap.de/def/contributors/openNRW</a></td>\n",
                     "<td class=val>2021-09-08T08:02:44+02:00</td></tr><tr class=odd><td class=val><a href=\"http://data.europa.eu/88u/dataset/5f0aaf45-f380-49b3-87be-51abaddacbe0\" target=\"_other\">http://data.europa.eu/88u/dataset/5f0aaf45-f380-49b3-87be-51abaddacbe0</a></td>\n",
                     "<td class=val>Baumkataster Norderstedt</td>\n",
                     "<td class=val><a href=\"http://dcat-ap.de/def/contributors/schleswigHolstein\" target=\"_other\">http://dcat-ap.de/def/contributors/schleswigHolstein</a></td>\n",
                     "<td class=val>2022-04-12T07:58:22.519048</td></tr><tr class=even><td class=val><a href=\"http://data.europa.eu/88u/dataset/cfbe70e6-6078-42db-8c9b-f8745ee8916e\" target=\"_other\">http://data.europa.eu/88u/dataset/cfbe70e6-6078-42db-8c9b-f8745ee8916e</a></td>\n",
                     "<td class=val>Baumkataster</td>\n",
                     "<td class=val><a href=\"http://dcat-ap.de/def/contributors/schleswigHolstein\" target=\"_other\">http://dcat-ap.de/def/contributors/schleswigHolstein</a></td>\n",
                     "<td class=val>2023-06-09T05:25:52.631385</td></tr><tr class=odd><td class=val><a href=\"http://data.europa.eu/88u/dataset/b16bb333-26ca-4743-9663-723d63f57259\" target=\"_other\">http://data.europa.eu/88u/dataset/b16bb333-26ca-4743-9663-723d63f57259</a></td>\n",
                     "<td class=val>Digitales Baumkataster Münster</td>\n",
                     "<td class=val><a href=\"http://dcat-ap.de/def/contributors/openNRW\" target=\"_other\">http://dcat-ap.de/def/contributors/openNRW</a></td>\n",
                     "<td class=val>2025-03-13T13:28:04+01:00</td></tr><tr class=even><td class=val><a href=\"http://data.europa.eu/88u/dataset/200e532c-a381-4611-ba05-4ed7afc31230\" target=\"_other\">http://data.europa.eu/88u/dataset/200e532c-a381-4611-ba05-4ed7afc31230</a></td>\n",
                     "<td class=val>Baumkataster des ASG Wesel</td>\n",
                     "<td class=val><a href=\"http://dcat-ap.de/def/contributors/openNRW\" target=\"_other\">http://dcat-ap.de/def/contributors/openNRW</a></td>\n",
                     "<td class=val>2024-05-28T11:46:06.401383</td></tr><tr class=odd><td class=val><a href=\"http://data.europa.eu/88u/dataset/baumkataster_stadt_wuerzburg-wuerzburg\" target=\"_other\">http://data.europa.eu/88u/dataset/baumkataster_stadt_wuerzburg-wuerzburg</a></td>\n",
                     "<td class=val>Baumkataster der Stadt Würzburg</td>\n",
                     "<td class=val><a href=\"http://dcat-ap.de/def/contributors/openDataBayern\" target=\"_other\">http://dcat-ap.de/def/contributors/openDataBayern</a></td>\n",
                     "<td class=val>2024-11-14T13:33:38.241Z</td></tr><tr class=even><td class=val><a href=\"http://data.europa.eu/88u/dataset/https-registry-gdi-de-org-id-de-sn-stlp-cee75d75-4b4e-4bea-9d24-8b5993b54479\" target=\"_other\">http://data.europa.eu/88u/dataset/https-registry-gdi-de-org-id-de-sn-stlp-cee75d75-4b4e-4bea-9d24-8b5993b54479</a></td>\n",
                     "<td class=val>Baumkataster, Stadt Leipzig</td>\n",
                     "<td class=val><a href=\"http://dcat-ap.de/def/contributors/freistaatSachsen\" target=\"_other\">http://dcat-ap.de/def/contributors/freistaatSachsen</a></td>\n",
                     "<td class=val>2025-02-19</td></tr><tr class=odd><td class=val><a href=\"http://data.europa.eu/88u/dataset/59dd9d5d-cd65-43f8-bd13-d82734e640ef\" target=\"_other\">http://data.europa.eu/88u/dataset/59dd9d5d-cd65-43f8-bd13-d82734e640ef</a></td>\n",
                     "<td class=val>Baumkataster Koeln 2020</td>\n",
                     "<td class=val><a href=\"http://dcat-ap.de/def/contributors/openNRW\" target=\"_other\">http://dcat-ap.de/def/contributors/openNRW</a></td>\n",
                     "<td class=val>2024-06-25T08:34:10+02:00</td></tr><tr class=even><td class=val><a href=\"http://data.europa.eu/88u/dataset/https-open-bydata-de-api-hub-repo-datasets-baumkataster-haar\" target=\"_other\">http://data.europa.eu/88u/dataset/https-open-bydata-de-api-hub-repo-datasets-baumkataster-haar</a></td>\n",
                     "<td class=val>Baumkataster der Stadt Haar</td>\n",
                     "<td class=val><a href=\"http://dcat-ap.de/def/contributors/openDataBayern\" target=\"_other\">http://dcat-ap.de/def/contributors/openDataBayern</a></td>\n",
                     "<td class=val>2025-03-11T10:56:42.343637</td></tr><tr class=odd><td class=val><a href=\"http://data.europa.eu/88u/dataset/https-open-bydata-de-api-hub-repo-datasets-baumkataster-der-stadt-hassfurt\" target=\"_other\">http://data.europa.eu/88u/dataset/https-open-bydata-de-api-hub-repo-datasets-baumkataster-der-stadt-hassfurt</a></td>\n",
                     "<td class=val>Baumkataster der Stadt Haßfurt</td>\n",
                     "<td class=val><a href=\"http://dcat-ap.de/def/contributors/openDataBayern\" target=\"_other\">http://dcat-ap.de/def/contributors/openDataBayern</a></td>\n",
                     "<td class=val>2023-11-24</td></tr><tr class=even><td class=val><a href=\"http://data.europa.eu/88u/dataset/b62818fc-6af8-4896-a4d4-c35ee4864c9f\" target=\"_other\">http://data.europa.eu/88u/dataset/b62818fc-6af8-4896-a4d4-c35ee4864c9f</a></td>\n",
                     "<td class=val>Baumkataster der Hansestadt Lübeck</td>\n",
                     "<td class=val><a href=\"http://dcat-ap.de/def/contributors/schleswigHolstein\" target=\"_other\">http://dcat-ap.de/def/contributors/schleswigHolstein</a></td>\n",
                     "<td class=val>2025-02-25T16:30:03.236777</td></tr><tr class=odd><td class=val><a href=\"http://data.europa.eu/88u/dataset/3a14f846-13a1-47d9-874f-3843007d85b7\" target=\"_other\">http://data.europa.eu/88u/dataset/3a14f846-13a1-47d9-874f-3843007d85b7</a></td>\n",
                     "<td class=val>Baumkataster - Amt Beetsee Gemeinde Beetzseeheide (WMS)</td>\n",
                     "<td class=val><a href=\"http://dcat-ap.de/def/contributors/openDataBrandenburg\" target=\"_other\">http://dcat-ap.de/def/contributors/openDataBrandenburg</a></td>\n",
                     "<td class=val>2024-12-04T14:04:13</td></tr><tr class=even><td class=val><a href=\"http://data.europa.eu/88u/dataset/https-open-bydata-de-api-hub-repo-datasets-baumkataster-der-stadt-erlangen\" target=\"_other\">http://data.europa.eu/88u/dataset/https-open-bydata-de-api-hub-repo-datasets-baumkataster-der-stadt-erlangen</a></td>\n",
                     "<td class=val>Baumkataster der Stadt Erlangen</td>\n",
                     "<td class=val><a href=\"http://dcat-ap.de/def/contributors/openDataBayern\" target=\"_other\">http://dcat-ap.de/def/contributors/openDataBayern</a></td>\n",
                     "<td class=val>2024-04-11T05:39:58.589234</td></tr><tr class=odd><td class=val><a href=\"http://data.europa.eu/88u/dataset/https-open-bydata-de-api-hub-repo-datasets-baumkataster-der-stadt-erlangen\" target=\"_other\">http://data.europa.eu/88u/dataset/https-open-bydata-de-api-hub-repo-datasets-baumkataster-der-stadt-erlangen</a></td>\n",
                     "<td class=val>Baumkataster der Stadt Erlangen</td>\n",
                     "<td class=val><a href=\"http://dcat-ap.de/def/contributors/stadtErlangen\" target=\"_other\">http://dcat-ap.de/def/contributors/stadtErlangen</a></td>\n",
                     "<td class=val>2024-04-11T05:39:58.589234</td></tr><tr class=even><td class=val><a href=\"http://data.europa.eu/88u/dataset/7a9f509a-9fb0-4c3c-a2d2-4cdd980e5e33\" target=\"_other\">http://data.europa.eu/88u/dataset/7a9f509a-9fb0-4c3c-a2d2-4cdd980e5e33</a></td>\n",
                     "<td class=val>Baumkataster der Hansestadt Lübeck</td>\n",
                     "<td class=val><a href=\"http://dcat-ap.de/def/contributors/schleswigHolstein\" target=\"_other\">http://dcat-ap.de/def/contributors/schleswigHolstein</a></td>\n",
                     "<td class=val>2025-02-26T07:34:24.603558</td></tr><tr class=odd><td class=val><a href=\"http://data.europa.eu/88u/dataset/0056a74a-6153-440f-a68f-aaea93a3bf25\" target=\"_other\">http://data.europa.eu/88u/dataset/0056a74a-6153-440f-a68f-aaea93a3bf25</a></td>\n",
                     "<td class=val>Baumkataster Koeln 2017</td>\n",
                     "<td class=val><a href=\"http://dcat-ap.de/def/contributors/openNRW\" target=\"_other\">http://dcat-ap.de/def/contributors/openNRW</a></td>\n",
                     "<td class=val>2024-06-25T08:34:10+02:00</td></tr><tr class=even><td class=val><a href=\"http://data.europa.eu/88u/dataset/baumkat_01\" target=\"_other\">http://data.europa.eu/88u/dataset/baumkat_01</a></td>\n",
                     "<td class=val>Baumkataster</td>\n",
                     "<td class=val><a href=\"http://dcat-ap.de/def/contributors/openDataBayern\" target=\"_other\">http://dcat-ap.de/def/contributors/openDataBayern</a></td>\n",
                     "<td class=val>2025-03-25</td></tr></table><div class=\"tinfo\">Total: 30, Shown: 20</div></div>"
                  ]
               },
               "metadata": {},
               "output_type": "display_data"
            }
         ],
         "source": [
            "%endpoint https://data.europa.eu/sparql\n",
            "PREFIX dct: <http://purl.org/dc/terms/>\n",
            "PREFIX dcatde: <http://dcat-ap.de/def/dcatde/>\n",
            "\n",
            "SELECT ?uri ?title ?contributorid ?modified WHERE {\n",
            "    {\n",
            "        SELECT ?uri ?title ?contributorid ?modified WHERE {\n",
            "            ?uri dct:title ?title .\n",
            "            ?uri dcatde:contributorID ?contributorid .\n",
            "            ?uri dct:modified ?modified .\n",
            "            FILTER(isURI(?contributorid))\n",
            "            FILTER(strstarts(str(?contributorid), \"http://dcat-ap.de/def/contributors/\"))       \n",
            "            FILTER(CONTAINS(LCASE(?title), \"baumkataster\"))\n",
            "            FILTER(\n",
            "                CONTAINS(STR(?modified), \"2015\") ||\n",
            "                CONTAINS(STR(?modified), \"2016\") ||\n",
            "                CONTAINS(STR(?modified), \"2017\") ||\n",
            "                CONTAINS(STR(?modified), \"2018\") ||\n",
            "                CONTAINS(STR(?modified), \"2019\") ||\n",
            "                CONTAINS(STR(?modified), \"2020\") ||\n",
            "                CONTAINS(STR(?modified), \"2021\") ||\n",
            "                CONTAINS(STR(?modified), \"2022\") ||\n",
            "                CONTAINS(STR(?modified), \"2023\") ||\n",
            "                CONTAINS(STR(?modified), \"2024\") ||\n",
            "                CONTAINS(STR(?modified), \"2025\")\n",
            "            )\n",
            "        }\n",
            "    }\n",
            "}\n"
         ]
      },
      {
         "cell_type": "markdown",
         "metadata": {},
         "source": [
            "## Zusammenfassung"
         ]
      },
      {
         "cell_type": "markdown",
         "metadata": {},
         "source": [
            "In diesem Abschnitt haben wir uns dem Forschungsauftrag von Dr. Weber gewidmet und unsere Suche nach offenen deutschen Behördendaten auf solche eingegrenzt, die das Wort Baumkataster im Titel tragen. Anschließend haben wir die Suche auf einen bestimmten Zeitraum eingegrenzt und diesen verschoben. \n",
            "\n",
            "Dabei haben wir die Kenntnisse der Befehle PREFIX, SELECT und WHERE gefestigt und die FILTER-Funktion kennengelernt.\n",
            "\n",
            "Im nächsten Abschnitt wird die Anzeige des Ergebnisses so angepasst, dass wir uns anzeigen lassen können, welche Datenbereitsteller am produktivsten sind und welche Formate verwendet werden."
         ]
      }
   ],
   "metadata": {
      "kernelspec": {
         "display_name": "SPARQL",
         "language": "sparql",
         "name": "sparql"
      },
      "language_info": {
         "codemirror_mode": {
            "name": "sparql"
         },
         "mimetype": "application/sparql-query",
         "name": "sparql",
         "pygments_lexer": "sparql-nb"
      }
   },
   "nbformat": 4,
   "nbformat_minor": 2
}
