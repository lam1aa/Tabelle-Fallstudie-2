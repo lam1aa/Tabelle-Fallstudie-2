{
 "cells": [
  {
   "cell_type": "code",
   "execution_count": null,
   "id": "33b0c934",
   "metadata": {
    "vscode": {
     "languageId": "plaintext"
    }
   },
   "outputs": [],
   "source": [
    "SELECT ?item ?itemLabel ?locationLabel WHERE {\n",
    "  ?item wdt:P31 wd:Q4421.  # Instance of forest\n",
    "  ?item wdt:P276 ?location.  # Located in\n",
    "  ?location wdt:P17 wd:Q183.  # Located in Germany (Germany's Wikidata entity)\n",
    "\n",
    "  SERVICE wikibase:label { bd:serviceParam wikibase:language \"en\". }\n",
    "}"
   ]
  },
  {
   "cell_type": "code",
   "execution_count": null,
   "id": "d3976cc0",
   "metadata": {
    "vscode": {
     "languageId": "plaintext"
    }
   },
   "outputs": [],
   "source": [
    "SELECT ?item ?itemLabel ?locationLabel WHERE {\n",
    "  ?item wdt:P31 wd:Q4421.  # Instance of forest\n",
    "  ?item wdt:P276 ?location.  # Located in\n",
    "\n",
    "  SERVICE wikibase:label { bd:serviceParam wikibase:language \"en\". }\n",
    "}\n",
    "LIMIT 300\n"
   ]
  },
  {
   "cell_type": "code",
   "execution_count": null,
   "id": "ee7a887e",
   "metadata": {
    "vscode": {
     "languageId": "plaintext"
    }
   },
   "outputs": [],
   "source": [
    "SELECT ?tree ?treeLabel ?image WHERE {\n",
    "  ?tree wdt:P31 wd:Q10884.  # Instance of tree\n",
    "  OPTIONAL { ?tree wdt:P18 ?image. }  # Image property (P18)\n",
    "\n",
    "  SERVICE wikibase:label { bd:serviceParam wikibase:language \"en\". }\n",
    "}\n",
    "LIMIT 50"
   ]
  },
  {
   "cell_type": "code",
   "execution_count": null,
   "id": "3fa7b0dc",
   "metadata": {
    "vscode": {
     "languageId": "plaintext"
    }
   },
   "outputs": [],
   "source": [
    "SELECT DISTINCT ?dataset ?datasetLabel WHERE {\n",
    "  ?dataset wdt:P31 wd:Q1172284.  # Instance of dataset\n",
    "  ?dataset rdfs:label ?datasetLabel.\n",
    "  FILTER(\n",
    "    CONTAINS(LCASE(?datasetLabel), \"tree\") || \n",
    "    CONTAINS(LCASE(?datasetLabel), \"forest\") || \n",
    "    CONTAINS(LCASE(?datasetLabel), \"wood\") || \n",
    "    CONTAINS(LCASE(?datasetLabel), \"vegetation\") ||\n",
    "    CONTAINS(LCASE(?datasetLabel), \"canopy\") ||\n",
    "    CONTAINS(LCASE(?datasetLabel), \"forest cover\") ||\n",
    "    CONTAINS(LCASE(?datasetLabel), \"ecosystem\") ||\n",
    "    CONTAINS(LCASE(?datasetLabel), \"tree planting\") ||\n",
    "    CONTAINS(LCASE(?datasetLabel), \"biodiversity\") ||\n",
    "    CONTAINS(LCASE(?datasetLabel), \"deforestation\") ||\n",
    "    CONTAINS(LCASE(?datasetLabel), \"arboreal\")\n",
    "  )\n",
    "\n",
    "  SERVICE wikibase:label { bd:serviceParam wikibase:language \"en\". }\n",
    "}\n",
    "LIMIT 100"
   ]
  }
 ],
 "metadata": {
  "language_info": {
   "name": "python"
  }
 },
 "nbformat": 4,
 "nbformat_minor": 5
}
