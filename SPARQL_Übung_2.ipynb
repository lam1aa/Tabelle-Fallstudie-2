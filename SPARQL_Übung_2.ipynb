{
 "cells": [
  {
   "cell_type": "markdown",
   "metadata": {},
   "source": [
    "# 🚀 Übung - Metadaten gruppieren & auswerten "
   ]
  },
  {
   "cell_type": "markdown",
   "metadata": {
    "vscode": {
     "languageId": "plaintext"
    }
   },
   "source": [
    "Nachdem wir im vorherigen Abschnitt gelernt haben, wie sich offene Datensätze mit Hilfe von SPARQL gezielt durchsuchen und filtern lassen, möchten wir Dr. Amir Weber in dieser Phase seiner Untersuchung weiter unterstützen. \n",
    "\n",
    "Um besser einschätzen zu können, welche Datenquellen für seine Analyse relevant sind, genügt es jedoch nicht, nur einzelne Datensätze zu finden. Es interessiert ihn auch, welche Institutionen regelmäßig entsprechende Daten bereitstellen und in welchen Formaten diese verfügbar sind. Dies kann Aufschluss darüber geben, wie verlässlich und zugänglich bestimmte Datenquellen sind.\n",
    "\n",
    "In dieser Übung werden wir daher SPARQL nutzen, um Metadaten zu gruppieren und quantitativ auszuwerten. Wir analysieren, in welchen Datenformaten diese Informationen angeboten werden, um Dr. Weber bei der technischen Einschätzung der Weiterverwendbarkeit zu unterstützen.\n",
    "\n",
    "Diese aggregierten Informationen geben ihm wertvolle Hinweise auf die Datenqualität, Veröffentlichungsfrequenz und technische Nutzbarkeit – und legen damit die Grundlage für fundierte Entscheidungen im weiteren Verlauf seiner Analyse."
   ]
  },
  {
   "cell_type": "markdown",
   "metadata": {},
   "source": [
    "## Daten gruppieren"
   ]
  },
  {
   "cell_type": "markdown",
   "metadata": {},
   "source": [
    "Im ersten Schritt lassen wir uns anzeigen, welche Datenbereitsteller die meisten Datensätze mit dem Begriff „Baumkataster“ im Titel veröffentlicht haben. Durch diese Gruppierung erhält Dr. Weber einen schnellen Überblick darüber, welche Institutionen oder Verwaltungseinheiten in den letzten Jahren besonders aktiv im Bereich der baumbezogenen offenen Daten waren – ein wichtiger Hinweis auf mögliche Hauptquellen für seine weitere Recherche."
   ]
  },
  {
   "cell_type": "markdown",
   "metadata": {},
   "source": [
    ":::{admonition} Erklärung des Codes\n",
    ":class: hinweis, dropdown\n",
    "\n",
    "Zu den bekannten Prefixes kommt nun `rdfs` dazu, um das RDF Schema, also allgemeine Begriffsdefinitionen einzuschließen.\n",
    "\n",
    "Der `COUNT` Befehl in SPARQL wird verwendet, um die Anzahl der Ergebnisse zu zählen, die eine bestimmte Bedingung erfüllen. Der `AS` Befehl folgt dem `COUNT` und dient dazu, das Ergebnis der Zählung einer Variablen zuzuweisen, die dann im Ergebnis verwendet werden kann. `DISTINCT` gibt an, dass nur eindeutige (\"distinct\") Werte der Variable `?datasetTitle` gezählt werden sollen. `AS ?uniqueDatasetTitleCount` weist das Ergebnis der Zählung der Variable `?uniqueDatasetTitleCount` zu. Diese Variable kann dann im Ergebnis verwendet werden, um die Anzahl der eindeutigen Titel (?datasetTitle) für jede `contributorID` anzuzeigen. \n",
    "\n",
    "Die Bedingung `(LANG(?datasetTitle) = \"\" || LANG(?datasetTitle) = \"de\")` wird verwendet, um sicherzustellen, dass nur Titel (?datasetTitle) ausgewählt werden, die entweder keine Sprachinformation haben (\"\") oder explizit als Deutsch (\"de\") gekennzeichnet sind. Dies ist wichtig, da nicht alle Datenbereitsteller Information über die Sprache des Datensatzes einschließen. Die Suche nach Datensätzen mit deutscher Sprachinformation mag überflüsig wirken, denn das Wort \"Baumkataster\" ist bereits ein deutsches Wort. Trotzdem wollen wir diese Funktion an dieser Stelle hervorheben, weil wir später davon Gebrauch machen werden.\n",
    ":::"
   ]
  },
  {
   "cell_type": "markdown",
   "metadata": {},
   "source": [
    "**Code**"
   ]
  },
  {
   "cell_type": "code",
   "execution_count": null,
   "metadata": {
    "tags": [
     "hide-cell",
     "skip-execution"
    ]
   },
   "outputs": [],
   "source": [
    "%endpoint https://data.europa.eu/sparql\n",
    "PREFIX dcat: <http://www.w3.org/ns/dcat#>\n",
    "PREFIX dct: <http://purl.org/dc/terms/>\n",
    "PREFIX dcatde: <http://dcat-ap.de/def/dcatde/>\n",
    "PREFIX rdfs: <http://www.w3.org/2000/01/rdf-schema#>\n",
    "PREFIX pg: <http://dcat-ap.de/def/politicalGeocoding/>\n",
    "\n",
    "SELECT ?contributorID (COUNT(DISTINCT ?datasetTitle) AS ?uniqueDatasetTitleCount)\n",
    "WHERE {\n",
    "  ?datasetURI a dcat:Dataset;\n",
    "              dct:title ?datasetTitle;\n",
    "              dcatde:contributorID ?contributorID;\n",
    "              dct:modified ?modified.\n",
    "  FILTER((LANG(?datasetTitle) = \"\" || LANG(?datasetTitle) = \"de\") && CONTAINS(LCASE(?datasetTitle), \"baumkataster\"))\n",
    "  FILTER(\n",
    "      CONTAINS(STR(?modified), \"2015\") ||\n",
    "      CONTAINS(STR(?modified), \"2016\") ||\n",
    "      CONTAINS(STR(?modified), \"2017\") || \n",
    "      CONTAINS(STR(?modified), \"2018\") || \n",
    "      CONTAINS(STR(?modified), \"2019\") ||\n",
    "      CONTAINS(STR(?modified), \"2020\") ||\n",
    "      CONTAINS(STR(?modified), \"2021\") ||\n",
    "      CONTAINS(STR(?modified), \"2022\") ||\n",
    "      CONTAINS(STR(?modified), \"2023\") ||\n",
    "      CONTAINS(STR(?modified), \"2024\") ||\n",
    "  \t  CONTAINS(STR(?modified), \"2025\") \n",
    "\n",
    "\n",
    "               )\n",
    "}\n",
    "GROUP BY ?contributorID"
   ]
  },
  {
   "cell_type": "markdown",
   "metadata": {},
   "source": [
    "**Output**"
   ]
  },
  {
   "cell_type": "code",
   "execution_count": null,
   "metadata": {
    "tags": [
     "hide-cell",
     "remove-input"
    ],
    "vscode": {
     "languageId": "plaintext"
    }
   },
   "outputs": [],
   "source": [
    "%endpoint https://data.europa.eu/sparql\n",
    "PREFIX dcat: <http://www.w3.org/ns/dcat#>\n",
    "PREFIX dct: <http://purl.org/dc/terms/>\n",
    "PREFIX dcatde: <http://dcat-ap.de/def/dcatde/>\n",
    "PREFIX rdfs: <http://www.w3.org/2000/01/rdf-schema#>\n",
    "PREFIX pg: <http://dcat-ap.de/def/politicalGeocoding/>\n",
    "\n",
    "SELECT ?contributorID (COUNT(DISTINCT ?datasetTitle) AS ?uniqueDatasetTitleCount)\n",
    "WHERE {\n",
    "  ?datasetURI a dcat:Dataset;\n",
    "              dct:title ?datasetTitle;\n",
    "              dcatde:contributorID ?contributorID;\n",
    "              dct:modified ?modified.\n",
    "  FILTER((LANG(?datasetTitle) = \"\" || LANG(?datasetTitle) = \"de\") && CONTAINS(LCASE(?datasetTitle), \"baumkataster\"))\n",
    "  FILTER(\n",
    "      CONTAINS(STR(?modified), \"2015\") ||\n",
    "      CONTAINS(STR(?modified), \"2016\") ||\n",
    "      CONTAINS(STR(?modified), \"2017\") || \n",
    "      CONTAINS(STR(?modified), \"2018\") || \n",
    "      CONTAINS(STR(?modified), \"2019\") ||\n",
    "      CONTAINS(STR(?modified), \"2020\") ||\n",
    "      CONTAINS(STR(?modified), \"2021\") ||\n",
    "      CONTAINS(STR(?modified), \"2022\") ||\n",
    "      CONTAINS(STR(?modified), \"2023\") ||\n",
    "      CONTAINS(STR(?modified), \"2024\") ||\n",
    "  \t  CONTAINS(STR(?modified), \"2025\") \n",
    "\n",
    "\n",
    "               )\n",
    "}\n",
    "GROUP BY ?contributorID"
   ]
  },
  {
   "cell_type": "markdown",
   "metadata": {},
   "source": [
    "**Erklärung des Ergebnisses**\n",
    "\n",
    "Jeweils 8 Datensätze stammen aus Nordrhein-Westfalen und Rheinland-Pfalz, 6 aus Bayern und 4 aus Brandenburg.\n",
    "\n",
    "Auffällig ist, dass ganz verschiedene Institutionen und Verwaltungsebenen offene Daten bereitstellen. Hinter `http://dcat-ap.de/def/contributors/mobilithek` verbirgt sich die <a href=\"https://mobilithek.info/\" class=\"external-link\" target=\"_blank\">Mobilithek</a> des Bundesverkehrsministeriums und neben Bundesländern finden sich auch kommunale Datenbereitsteller."
   ]
  },
  {
   "cell_type": "markdown",
   "metadata": {},
   "source": [
    "## Dateiformate"
   ]
  },
  {
   "cell_type": "markdown",
   "metadata": {},
   "source": [
    "Im Anschluss interessiert sich Dr. Weber dafür, in welchen Formaten die Baumkataster-Daten vorliegen, da dies direkte Auswirkungen auf deren Weiterverwendbarkeit hat. Während offene Formate wie CSV, GeoJSON oder XML eine einfache Analyse ermöglichen, können proprietäre oder unstrukturierte Formate die Weiterverarbeitung erschweren.\n",
    "\n",
    "Daher erweitern wir unsere SPARQL-Abfrage, um für jeden Datenbereitsteller zu ermitteln, wie viele unterschiedliche Datenformate er im Zusammenhang mit Baumkataster-Daten anbietet. Diese Auswertung hilft Dr. Weber dabei einzuschätzen, bei welchen Anbietern er mit einem breiten und technisch zugänglichen Angebot rechnen kann – ein entscheidender Aspekt für seine geplante Analyse des Baumbestands."
   ]
  },
  {
   "cell_type": "markdown",
   "metadata": {},
   "source": [
    ":::{admonition} Erklärung des Codes\n",
    ":class: hinweis, dropdown\n",
    "\n",
    "Statt der Titel, zählen wir nun mit dem Befehl `SELECT ?contributorID (COUNT(DISTINCT ?format) AS ?formatCount)` die verschiedenen Formate, die mit den Datensätzen verbunden sind.\n",
    "\n",
    "Mit dem `WHERE`-Befehl suchen wir nach Datensätzen (`dcat:Dataset`), die die folgenden Eigenschaften haben:\n",
    "- `dct:title`: einen Titel.\n",
    "- `dcatde:contributorID`: eine ID des Datenbereitstellers.\n",
    "- `dct:modified`: ein Datum der letzten Änderung.\n",
    "sowie mit `OPTIONAL` nach dem Katalog des Datensatzes, wenn er vorhanden ist.\n",
    "\n",
    "Dazu filtern wir mit `FILTER`, dass der Titel entweder keine Sprachangabe haben kann oder in Deutsch vorliegen muss, das Wort \"baumkataster\" enthält (unabhängig von Groß- oder Kleinschreibung) und innerhalb des Zeitraums von 2015 bis 2025 veröffentlicht wurden.\n",
    "\n",
    "`?datasetURI dcat:distribution ?distribution.` und `?distribution dct:format ?format.` geben zudem an, dass der Datensatz eine Distribution und diese ein bestimmtes Format haben muss.\n",
    "\n",
    "Mit `GROUP BY ?contributorID` werden die Ergebnisse nach dem Datenbereitsteller sortiert.\n",
    ":::"
   ]
  },
  {
   "cell_type": "markdown",
   "metadata": {},
   "source": [
    "**Code**"
   ]
  },
  {
   "cell_type": "code",
   "execution_count": null,
   "metadata": {
    "tags": [
     "hide-cell",
     "skip-execution"
    ]
   },
   "outputs": [],
   "source": [
    "%endpoint https://data.europa.eu/sparql\n",
    "PREFIX dcat: <http://www.w3.org/ns/dcat#>\n",
    "PREFIX dct: <http://purl.org/dc/terms/>\n",
    "PREFIX dcatde: <http://dcat-ap.de/def/dcatde/>\n",
    "PREFIX rdfs: <http://www.w3.org/2000/01/rdf-schema#>\n",
    "PREFIX pg: <http://dcat-ap.de/def/politicalGeocoding/>\n",
    "\n",
    "SELECT ?contributorID (COUNT(DISTINCT ?format) AS ?formatCount)\n",
    "WHERE {\n",
    "  ?datasetURI a dcat:Dataset;\n",
    "              dct:title ?datasetTitle;\n",
    "              dcatde:contributorID ?contributorID;\n",
    "              dct:modified ?modified.\n",
    "  OPTIONAL { ?datasetURI dcat:catalog ?catalog. }\n",
    "  FILTER((LANG(?datasetTitle) = \"\" || LANG(?datasetTitle) = \"de\") && CONTAINS(LCASE(?datasetTitle), \"baumkataster\"))\n",
    "  FILTER(\n",
    "      CONTAINS(STR(?modified), \"2015\") ||\n",
    "      CONTAINS(STR(?modified), \"2016\") ||\n",
    "      CONTAINS(STR(?modified), \"2017\") || \n",
    "      CONTAINS(STR(?modified), \"2018\") || \n",
    "      CONTAINS(STR(?modified), \"2019\") ||\n",
    "      CONTAINS(STR(?modified), \"2020\") ||\n",
    "      CONTAINS(STR(?modified), \"2021\") ||\n",
    "      CONTAINS(STR(?modified), \"2022\") ||\n",
    "      CONTAINS(STR(?modified), \"2023\") ||\n",
    "      CONTAINS(STR(?modified), \"2024\") ||\n",
    "      CONTAINS(STR(?modified), \"2025\")\n",
    "  )\n",
    "\n",
    "  ?datasetURI dcat:distribution ?distribution.\n",
    "  ?distribution dct:format ?format.\n",
    "}\n",
    "GROUP BY ?contributorID\n"
   ]
  },
  {
   "cell_type": "markdown",
   "metadata": {},
   "source": [
    "**Output**"
   ]
  },
  {
   "cell_type": "code",
   "execution_count": null,
   "metadata": {
    "tags": [
     "hide-cell",
     "remove-input"
    ],
    "vscode": {
     "languageId": "plaintext"
    }
   },
   "outputs": [],
   "source": [
    "%endpoint https://data.europa.eu/sparql\n",
    "PREFIX dcat: <http://www.w3.org/ns/dcat#>\n",
    "PREFIX dct: <http://purl.org/dc/terms/>\n",
    "PREFIX dcatde: <http://dcat-ap.de/def/dcatde/>\n",
    "PREFIX rdfs: <http://www.w3.org/2000/01/rdf-schema#>\n",
    "PREFIX pg: <http://dcat-ap.de/def/politicalGeocoding/>\n",
    "\n",
    "SELECT ?contributorID (COUNT(DISTINCT ?format) AS ?formatCount)\n",
    "WHERE {\n",
    "  ?datasetURI a dcat:Dataset;\n",
    "              dct:title ?datasetTitle;\n",
    "              dcatde:contributorID ?contributorID;\n",
    "              dct:modified ?modified.\n",
    "  OPTIONAL { ?datasetURI dcat:catalog ?catalog. }\n",
    "  FILTER((LANG(?datasetTitle) = \"\" || LANG(?datasetTitle) = \"de\") && CONTAINS(LCASE(?datasetTitle), \"baumkataster\"))\n",
    "  FILTER(\n",
    "      CONTAINS(STR(?modified), \"2015\") ||\n",
    "      CONTAINS(STR(?modified), \"2016\") ||\n",
    "      CONTAINS(STR(?modified), \"2017\") || \n",
    "      CONTAINS(STR(?modified), \"2018\") || \n",
    "      CONTAINS(STR(?modified), \"2019\") ||\n",
    "      CONTAINS(STR(?modified), \"2020\") ||\n",
    "      CONTAINS(STR(?modified), \"2021\") ||\n",
    "      CONTAINS(STR(?modified), \"2022\") ||\n",
    "      CONTAINS(STR(?modified), \"2023\") ||\n",
    "      CONTAINS(STR(?modified), \"2024\") ||\n",
    "      CONTAINS(STR(?modified), \"2025\")\n",
    "  )\n",
    "\n",
    "  ?datasetURI dcat:distribution ?distribution.\n",
    "  ?distribution dct:format ?format.\n",
    "}\n",
    "GROUP BY ?contributorID\n"
   ]
  },
  {
   "cell_type": "markdown",
   "metadata": {},
   "source": [
    "**Erklärung des Ergebnisses**\n",
    "\n",
    "wir erhalten eine einfache Liste mit zwei Spalten: den Datenbereitstellern und der Summe von Formaten der eingestellten Datensätze. Das bedeutet, dass NRW mit seinen eingestellten Dateien auf 29 verschiedene Dateiformate kommt und Bayern auf 21. Das heißt allerdings nicht, dass alle Datensätze in jeweils jedem Format vorhanden sind. Ablesbar ist aus dieser Zusammenstellung lediglich ein gewisses Maß an Flexibilität. "
   ]
  },
  {
   "cell_type": "markdown",
   "metadata": {},
   "source": [
    "## Eingrenzung der Abfrage"
   ]
  },
  {
   "cell_type": "markdown",
   "metadata": {},
   "source": [
    "Nachdem Dr. Weber nun einen Überblick darüber erhalten hat, welche Datenbereitsteller aktiv sind und in welchen Formaten die Daten zur Verfügung stehen, möchte er sich für einen konkreten Datensatz entscheiden, um seine Analyse zu starten. Dabei ist es ihm wichtig, den regionalen Bezug zum Raum Berlin-Brandenburg zu wahren, da seine bisherigen Untersuchungen vor allem auf diese Region fokussiert waren.\n",
    "\n",
    "Er entscheidet sich daher, gezielt nach Datensätzen zu suchen, die von der Plattform „Open Data Brandenburg“ bereitgestellt werden und das Stichwort „Baumkataster“ im Titel führen. Durch diese gezielte Einschränkung kann Dr. Weber sicherstellen, dass die Daten sowohl thematisch relevant als auch geographisch passend sind – und damit eine geeignete Grundlage für die weitere Analyse des Baumbestands in der Region darstellen."
   ]
  },
  {
   "cell_type": "markdown",
   "metadata": {},
   "source": [
    "Um direkt auf die Daten zugreifen zu können, erweitern wir die Abfrage um die Zugriffs-URL (accessURL). Diese verweist auf die konkrete Stelle, an der der Datensatz heruntergeladen oder weiterverarbeitet werden kann – ein praktischer Schritt, der es Dr. Weber ermöglicht, ohne Umwege mit der Analyse zu beginnen."
   ]
  },
  {
   "cell_type": "markdown",
   "metadata": {},
   "source": [
    "**Code**"
   ]
  },
  {
   "cell_type": "code",
   "execution_count": null,
   "metadata": {
    "tags": [
     "hide-cell",
     "skip-execution"
    ]
   },
   "outputs": [],
   "source": [
    "%endpoint https://www.govdata.de/sparql\n",
    "PREFIX dcat: <http://www.w3.org/ns/dcat#>\n",
    "PREFIX dct: <http://purl.org/dc/terms/>\n",
    "PREFIX dcatde: <http://dcat-ap.de/def/dcatde/>\n",
    "PREFIX rdfs: <http://www.w3.org/2000/01/rdf-schema#>\n",
    "PREFIX pg: <http://dcat-ap.de/def/politicalGeocoding/>\n",
    "\n",
    "SELECT ?datasetURI ?datasetTitle ?datasetDescription ?accessURL\n",
    "WHERE {\n",
    "  ?datasetURI a dcat:Dataset;\n",
    "              dct:title ?datasetTitle;\n",
    "              dct:description ?datasetDescription;\n",
    "              dcatde:contributorID <http://dcat-ap.de/def/contributors/openDataBrandenburg>;\n",
    "              dct:modified ?modified;\n",
    "              dcat:distribution ?distribution.\n",
    "              \n",
    "  ?distribution dcat:accessURL ?accessURL.\n",
    "  \n",
    "  FILTER((LANG(?datasetTitle) = \"\" || LANG(?datasetTitle) = \"de\") && CONTAINS(LCASE(?datasetTitle), \"baumkataster\"))\n",
    "  \n",
    "  FILTER(\n",
    "    CONTAINS(STR(?modified), \"2017\") || \n",
    "    CONTAINS(STR(?modified), \"2018\") || \n",
    "    CONTAINS(STR(?modified), \"2019\") || \n",
    "    CONTAINS(STR(?modified), \"2020\") || \n",
    "    CONTAINS(STR(?modified), \"2021\") || \n",
    "    CONTAINS(STR(?modified), \"2022\") || \n",
    "    CONTAINS(STR(?modified), \"2023\") || \n",
    "    CONTAINS(STR(?modified), \"2024\") || \n",
    "    CONTAINS(STR(?modified), \"2025\")\n",
    "  )\n",
    "}\n",
    "ORDER BY ?datasetTitle\n"
   ]
  },
  {
   "cell_type": "markdown",
   "metadata": {},
   "source": [
    "**Output**"
   ]
  },
  {
   "cell_type": "code",
   "execution_count": null,
   "metadata": {
    "tags": [
     "hide-cell",
     "remove-input"
    ],
    "vscode": {
     "languageId": "plaintext"
    }
   },
   "outputs": [],
   "source": [
    "%endpoint https://www.govdata.de/sparql\n",
    "PREFIX dcat: <http://www.w3.org/ns/dcat#>\n",
    "PREFIX dct: <http://purl.org/dc/terms/>\n",
    "PREFIX dcatde: <http://dcat-ap.de/def/dcatde/>\n",
    "PREFIX rdfs: <http://www.w3.org/2000/01/rdf-schema#>\n",
    "PREFIX pg: <http://dcat-ap.de/def/politicalGeocoding/>\n",
    "\n",
    "SELECT ?datasetURI ?datasetTitle ?datasetDescription ?accessURL\n",
    "WHERE {\n",
    "  ?datasetURI a dcat:Dataset;\n",
    "              dct:title ?datasetTitle;\n",
    "              dct:description ?datasetDescription;\n",
    "              dcatde:contributorID <http://dcat-ap.de/def/contributors/openDataBrandenburg>;\n",
    "              dct:modified ?modified;\n",
    "              dcat:distribution ?distribution.\n",
    "              \n",
    "  ?distribution dcat:accessURL ?accessURL.\n",
    "  \n",
    "  FILTER((LANG(?datasetTitle) = \"\" || LANG(?datasetTitle) = \"de\") && CONTAINS(LCASE(?datasetTitle), \"baumkataster\"))\n",
    "  \n",
    "  FILTER(\n",
    "    CONTAINS(STR(?modified), \"2017\") || \n",
    "    CONTAINS(STR(?modified), \"2018\") || \n",
    "    CONTAINS(STR(?modified), \"2019\") || \n",
    "    CONTAINS(STR(?modified), \"2020\") || \n",
    "    CONTAINS(STR(?modified), \"2021\") || \n",
    "    CONTAINS(STR(?modified), \"2022\") || \n",
    "    CONTAINS(STR(?modified), \"2023\") || \n",
    "    CONTAINS(STR(?modified), \"2024\") || \n",
    "    CONTAINS(STR(?modified), \"2025\")\n",
    "  )\n",
    "}\n",
    "ORDER BY ?datasetTitle\n"
   ]
  },
  {
   "cell_type": "markdown",
   "metadata": {},
   "source": [
    "Dr. Weber entscheidet sich schließlich, den Datensatz „Baumkataster Frankfurt (Oder) - (WFS-BAUMKATASTER)” genauer unter die Lupe zu nehmen, da er für seine Analyse relevante Informationen zu den Baumstandorten in der Region liefern könnte. Dieser Datensatz scheint zunächst vielversprechend, da er auf den ersten Blick sowohl geografische als auch baumspezifische Daten zu liefern scheint.\n",
    "\n",
    "Leider stellt Dr. Weber bei der Überprüfung fest, dass sich der betreffende Datensatz nicht direkt herunterladen lässt oder die bereitgestellte URL nicht wie erwartet funktioniert.\n",
    "\n",
    "Das zeigt: Auch wenn Metadaten vielversprechende Informationen liefern, ist es in der Praxis oft notwendig, die tatsächliche Verfügbarkeit und Zugänglichkeit der Daten manuell zu prüfen. Dr. Weber wird seine Suche daher fortsetzen müssen – eventuell mit einer breiteren geografischen Eingrenzung oder indem er nach anderen relevanten Begriffen sucht.\n",
    "\n",
    "Da sich der ausgewählte Datensatz nicht wie gewünscht herunterladen lässt, entscheidet sich Dr. Weber dazu, seine Suche thematisch zu erweitern. Ihm ist bewusst, dass nicht alle relevanten Informationen unter dem Begriff „Baumkataster“ veröffentlicht werden. Ein verwandter Begriff, der insbesondere in städtischen Kontexten häufig auftaucht, ist „Baumpflanzungen“ – ein Thema, das ebenfalls Rückschlüsse auf den aktuellen Baumbestand sowie stadtplanerische Maßnahmen erlaubt.\n",
    "\n",
    "Dr. Weber formuliert daher eine neue SPARQL-Abfrage, die zusätzlich nach Datensätzen sucht, in deren Titel der Begriff „Baumpflanzungen“ vorkommt. So erhofft er sich, weitere geeignete Datensätze zu identifizieren, die ihm bei der Analyse des Baumwachstums und der Nachpflanzungen im Raum Berlin-Brandenburg nützliche Hinweise liefern können."
   ]
  },
  {
   "cell_type": "markdown",
   "metadata": {},
   "source": [
    "**Code**"
   ]
  },
  {
   "cell_type": "code",
   "execution_count": null,
   "metadata": {
    "tags": [
     "hide-cell",
     "skip-execution"
    ],
    "vscode": {
     "languageId": "python"
    }
   },
   "outputs": [],
   "source": [
    "%endpoint https://www.govdata.de/sparql\n",
    "PREFIX dcat: <http://www.w3.org/ns/dcat#>\n",
    "PREFIX dct: <http://purl.org/dc/terms/>\n",
    "PREFIX dcatde: <http://dcat-ap.de/def/dcatde/>\n",
    "PREFIX rdfs: <http://www.w3.org/2000/01/rdf-schema#>\n",
    "PREFIX pg: <http://dcat-ap.de/def/politicalGeocoding/>\n",
    "\n",
    "SELECT ?datasetURI ?datasetTitle ?datasetDescription ?accessURL\n",
    "WHERE {\n",
    "  ?datasetURI a dcat:Dataset;\n",
    "              dct:title ?datasetTitle;\n",
    "              dct:description ?datasetDescription;\n",
    "              dct:modified ?modified;\n",
    "              dcat:distribution ?distribution.\n",
    "\n",
    "  ?distribution dcat:accessURL ?accessURL.\n",
    "\n",
    "  FILTER(\n",
    "    (LANG(?datasetTitle) = \"\" || LANG(?datasetTitle) = \"de\") &&\n",
    "    (\n",
    "      CONTAINS(LCASE(?datasetTitle), \"baumkataster\") || \n",
    "      CONTAINS(LCASE(?datasetTitle), \"baumpflanzungen\")\n",
    "    )\n",
    "  )\n",
    "\n",
    "  FILTER(\n",
    "    CONTAINS(STR(?modified), \"2015\") || \n",
    "    CONTAINS(STR(?modified), \"2016\") ||\n",
    "    CONTAINS(STR(?modified), \"2017\") || \n",
    "    CONTAINS(STR(?modified), \"2018\") || \n",
    "    CONTAINS(STR(?modified), \"2019\") || \n",
    "    CONTAINS(STR(?modified), \"2020\") || \n",
    "    CONTAINS(STR(?modified), \"2021\") || \n",
    "    CONTAINS(STR(?modified), \"2022\") || \n",
    "    CONTAINS(STR(?modified), \"2023\") || \n",
    "    CONTAINS(STR(?modified), \"2024\") || \n",
    "    CONTAINS(STR(?modified), \"2025\")\n",
    "  )\n",
    "}\n",
    "ORDER BY ?datasetTitle\n",
    "OFFSET 140"
   ]
  },
  {
   "cell_type": "markdown",
   "metadata": {},
   "source": [
    "**Output**"
   ]
  },
  {
   "cell_type": "code",
   "execution_count": null,
   "metadata": {
    "tags": [
     "hide-cell",
     "remove-input"
    ],
    "vscode": {
     "languageId": "python"
    }
   },
   "outputs": [],
   "source": [
    "%endpoint https://www.govdata.de/sparql\n",
    "PREFIX dcat: <http://www.w3.org/ns/dcat#>\n",
    "PREFIX dct: <http://purl.org/dc/terms/>\n",
    "PREFIX dcatde: <http://dcat-ap.de/def/dcatde/>\n",
    "PREFIX rdfs: <http://www.w3.org/2000/01/rdf-schema#>\n",
    "PREFIX pg: <http://dcat-ap.de/def/politicalGeocoding/>\n",
    "\n",
    "SELECT ?datasetURI ?datasetTitle ?datasetDescription ?accessURL\n",
    "WHERE {\n",
    "  ?datasetURI a dcat:Dataset;\n",
    "              dct:title ?datasetTitle;\n",
    "              dct:description ?datasetDescription;\n",
    "              dct:modified ?modified;\n",
    "              dcat:distribution ?distribution.\n",
    "\n",
    "  ?distribution dcat:accessURL ?accessURL.\n",
    "\n",
    "  FILTER(\n",
    "    (LANG(?datasetTitle) = \"\" || LANG(?datasetTitle) = \"de\") &&\n",
    "    (\n",
    "      CONTAINS(LCASE(?datasetTitle), \"baumkataster\") || \n",
    "      CONTAINS(LCASE(?datasetTitle), \"baumpflanzungen\")\n",
    "    )\n",
    "  )\n",
    "\n",
    "  FILTER(\n",
    "    CONTAINS(STR(?modified), \"2015\") || \n",
    "    CONTAINS(STR(?modified), \"2016\") ||\n",
    "    CONTAINS(STR(?modified), \"2017\") || \n",
    "    CONTAINS(STR(?modified), \"2018\") || \n",
    "    CONTAINS(STR(?modified), \"2019\") || \n",
    "    CONTAINS(STR(?modified), \"2020\") || \n",
    "    CONTAINS(STR(?modified), \"2021\") || \n",
    "    CONTAINS(STR(?modified), \"2022\") || \n",
    "    CONTAINS(STR(?modified), \"2023\") || \n",
    "    CONTAINS(STR(?modified), \"2024\") || \n",
    "    CONTAINS(STR(?modified), \"2025\")\n",
    "  )\n",
    "}\n",
    "ORDER BY ?datasetTitle\n",
    "OFFSET 140"
   ]
  },
  {
   "cell_type": "markdown",
   "metadata": {},
   "source": [
    "Beim weiteren Durchstöbern der Datensätze – unterstützt durch den Einsatz von OFFSET zur Paginierung der Ergebnisse – stößt Dr. Weber auf einen Datensatz mit dem Titel „Straßenbaumpflanzungen in Steglitz-Zehlendorf“, der ihm sofort ins Auge fällt. Besonders positiv: Der Datensatz steht im CSV-Format zur Verfügung, was eine einfache Weiterverarbeitung ermöglicht.\n",
    "\n",
    "Ein Blick in die Beschreibung macht jedoch deutlich, dass es sich dabei nicht um das vollständige Baumkataster handelt, sondern um eine Teilmenge, die lediglich bereits erfolgte Neupflanzungen auflistet. Es wird erklärt, dass Pflanzungen erst nach ihrer Durchführung in das eigentliche Baumkataster übernommen werden. Die enthaltenen Einträge stammen aus verschiedenen Quellen – etwa Spendenaktionen oder bezirklichen Projekten – und umfassen zudem Angaben zur Pflege der Bäume.\n",
    "\n",
    "Dr. Weber erkennt den Wert dieser Information, stellt aber auch fest, dass sie für eine umfassende Analyse des aktuellen Baumbestands nicht ausreicht. Der Datensatz bietet zwar Einblicke in die Entwicklung und Nachpflanzung, jedoch nicht in die vollständige aktuelle Baumverteilung im Bezirk oder gar in Berlin insgesamt. Damit bleibt der umfassende Zugriff auf ein vollständiges Kataster weiterhin ausständig, und Dr. Weber wird seine Suche weiter ausbauen müssen, um eine geeignete Datengrundlage zu finden.\n",
    "\n",
    "Da sich viele der bisher gefundenen Datensätze entweder als unvollständig oder schwer zugänglich erwiesen haben, blickt Dr. Weber nun in Richtung Nordrhein-Westfalen (NRW). Bereits bei der vorherigen Auswertung zur Datenverfügbarkeit war ihm aufgefallen, dass NRW eine besonders hohe Anzahl an relevanten Datensätzen bereitstellt – und das in verschiedenen Formaten und mit stabiler Zugriffbarkeit.\n",
    "\n",
    "Die gute technische Performance und die Vielzahl veröffentlichter Inhalte lassen darauf schließen, dass das Land NRW ein fortschrittliches Open-Data-Angebot betreibt, das möglicherweise besser für eine umfassende Analyse geeignet ist. Aus diesem Grund richtet Dr. Weber nun gezielt seine Suche auf Datensätze, die durch Open Data NRW bereitgestellt werden und thematisch zu seiner Untersuchung rund um Baumkataster und Baumpflanzungen passen."
   ]
  },
  {
   "cell_type": "markdown",
   "metadata": {},
   "source": [
    "**Code**"
   ]
  },
  {
   "cell_type": "code",
   "execution_count": null,
   "metadata": {
    "tags": [
     "hide-cell",
     "skip-execution"
    ],
    "vscode": {
     "languageId": "python"
    }
   },
   "outputs": [],
   "source": [
    "%endpoint https://www.govdata.de/sparql\n",
    "PREFIX dcat: <http://www.w3.org/ns/dcat#>\n",
    "PREFIX dct: <http://purl.org/dc/terms/>\n",
    "PREFIX dcatde: <http://dcat-ap.de/def/dcatde/>\n",
    "PREFIX rdfs: <http://www.w3.org/2000/01/rdf-schema#>\n",
    "PREFIX pg: <http://dcat-ap.de/def/politicalGeocoding/>\n",
    "\n",
    "SELECT ?datasetURI ?datasetTitle ?datasetDescription ?accessURL\n",
    "WHERE {\n",
    "  ?datasetURI a dcat:Dataset;\n",
    "              dct:title ?datasetTitle;\n",
    "              dct:description ?datasetDescription;\n",
    "              dcatde:contributorID <http://dcat-ap.de/def/contributors/openNRW>;\n",
    "              dct:modified ?modified.\n",
    "\n",
    "  OPTIONAL {\n",
    "    ?datasetURI dcat:distribution ?distribution.\n",
    "    ?distribution dcat:accessURL ?accessURL.\n",
    "  }\n",
    "\n",
    "  FILTER(\n",
    "    (LANG(?datasetTitle) = \"\" || LANG(?datasetTitle) = \"de\") &&\n",
    "    (CONTAINS(LCASE(?datasetTitle), \"baumkataster\")\n",
    "    )\n",
    "  )\n",
    "\n",
    "  FILTER(\n",
    "    CONTAINS(STR(?modified), \"2017\") || \n",
    "    CONTAINS(STR(?modified), \"2018\") || \n",
    "    CONTAINS(STR(?modified), \"2019\") || \n",
    "    CONTAINS(STR(?modified), \"2020\") || \n",
    "    CONTAINS(STR(?modified), \"2021\") || \n",
    "    CONTAINS(STR(?modified), \"2022\") || \n",
    "    CONTAINS(STR(?modified), \"2023\") || \n",
    "    CONTAINS(STR(?modified), \"2024\") || \n",
    "    CONTAINS(STR(?modified), \"2025\")\n",
    "  )\n",
    "}\n",
    "ORDER BY ?datasetTitle"
   ]
  },
  {
   "cell_type": "markdown",
   "metadata": {},
   "source": [
    "**Output**"
   ]
  },
  {
   "cell_type": "code",
   "execution_count": null,
   "metadata": {
    "tags": [
     "hide-cell",
     "remove-input"
    ],
    "vscode": {
     "languageId": "python"
    }
   },
   "outputs": [],
   "source": [
    "%endpoint https://www.govdata.de/sparql\n",
    "PREFIX dcat: <http://www.w3.org/ns/dcat#>\n",
    "PREFIX dct: <http://purl.org/dc/terms/>\n",
    "PREFIX dcatde: <http://dcat-ap.de/def/dcatde/>\n",
    "PREFIX rdfs: <http://www.w3.org/2000/01/rdf-schema#>\n",
    "PREFIX pg: <http://dcat-ap.de/def/politicalGeocoding/>\n",
    "\n",
    "SELECT ?datasetURI ?datasetTitle ?datasetDescription ?accessURL\n",
    "WHERE {\n",
    "  ?datasetURI a dcat:Dataset;\n",
    "              dct:title ?datasetTitle;\n",
    "              dct:description ?datasetDescription;\n",
    "              dcatde:contributorID <http://dcat-ap.de/def/contributors/openNRW>;\n",
    "              dct:modified ?modified.\n",
    "\n",
    "  OPTIONAL {\n",
    "    ?datasetURI dcat:distribution ?distribution.\n",
    "    ?distribution dcat:accessURL ?accessURL.\n",
    "  }\n",
    "\n",
    "  FILTER(\n",
    "    (LANG(?datasetTitle) = \"\" || LANG(?datasetTitle) = \"de\") &&\n",
    "    (CONTAINS(LCASE(?datasetTitle), \"baumkataster\")\n",
    "    )\n",
    "  )\n",
    "\n",
    "  FILTER(\n",
    "    CONTAINS(STR(?modified), \"2017\") || \n",
    "    CONTAINS(STR(?modified), \"2018\") || \n",
    "    CONTAINS(STR(?modified), \"2019\") || \n",
    "    CONTAINS(STR(?modified), \"2020\") || \n",
    "    CONTAINS(STR(?modified), \"2021\") || \n",
    "    CONTAINS(STR(?modified), \"2022\") || \n",
    "    CONTAINS(STR(?modified), \"2023\") || \n",
    "    CONTAINS(STR(?modified), \"2024\") || \n",
    "    CONTAINS(STR(?modified), \"2025\")\n",
    "  )\n",
    "}\n",
    "ORDER BY ?datasetTitle"
   ]
  },
  {
   "cell_type": "markdown",
   "metadata": {},
   "source": [
    "**Fund eines geeigneten Datensatzes**\n",
    "\n",
    "Nach intensiver Recherche entscheidet sich Dr. Weber schließlich für den Datensatz „Baumkataster Köln 2017“. Dieser bietet eine umfassende Beschreibung des städtischen Baumbestands und enthält nicht nur geografische Informationen, sondern auch detaillierte Angaben zur Baumart, zum Alter, zur Kronenbreite, zur Stammdicke sowie zur Wuchshöhe der Bäume.\n",
    "\n",
    "Besonders positiv fällt Dr. Weber die gute Zugänglichkeit des Datensatzes auf - die enthaltenen Informationen sind klar strukturiert, verständlich dokumentiert und stehen in einem gängigen Format zur Verfügung. Dadurch lässt sich der Datensatz problemlos in bestehende Analyseumgebungen integrieren – ein wichtiger Vorteil für die praktische Weiterverarbeitung. Auch wenn der Datensatz noch nicht den vollständigen Baumbestand der Stadt Köln abbildet, bietet er bereits jetzt eine solide Datenbasis für eine fundierte Analyse.\n",
    "\n",
    "Damit verfügt Dr. Weber über eine valide Grundlage, um erste Auswertungen zur Baumverteilung und -struktur in einer Großstadt vorzunehmen und mögliche Modellregionen für seine Untersuchung zu identifizieren."
   ]
  }
 ],
 "metadata": {
  "kernelspec": {
   "display_name": "SPARQL",
   "language": "sparql",
   "name": "sparql"
  },
  "language_info": {
   "codemirror_mode": {
    "name": "sparql"
   },
   "mimetype": "application/sparql-query",
   "name": "sparql",
   "pygments_lexer": "sparql-nb"
  }
 },
 "nbformat": 4,
 "nbformat_minor": 2
}
