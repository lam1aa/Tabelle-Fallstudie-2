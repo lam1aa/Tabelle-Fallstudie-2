{
 "cells": [
  {
   "cell_type": "code",
   "execution_count": 1,
   "id": "5dc28016",
   "metadata": {
    "vscode": {
     "languageId": "python"
    }
   },
   "outputs": [
    {
     "data": {
      "text/html": [
       "<div class=\"krn-spql\"><div class=\"magic\">Endpoint set to: https://www.govdata.de/sparql</div></div>"
      ],
      "text/plain": [
       "Endpoint set to: https://www.govdata.de/sparql\n"
      ]
     },
     "metadata": {},
     "output_type": "display_data"
    },
    {
     "data": {
      "text/html": [
       "<div class=\"krn-spql\"><table><tr class=hdr><th>datasetURI</th>\n",
       "<th>datasetTitle</th>\n",
       "<th>shortDescription</th>\n",
       "<th>accessURL</th></tr><tr class=odd><td class=val><a href=\"http://suche.transparenz.hamburg.de/dataset/6410cc33-7180-429c-83fd-52e8c1488e08\" target=\"_other\">http://suche.transparenz.hamburg.de/dataset/6410cc33-7180-429c-83fd-52e8c1488e08</a></td>\n",
       "<td class=val>Straßenbaumkataster Hamburg</td>\n",
       "<td class=val>Das Straßenbaumkataster umfasst die flächendeckende Darstellung der Bäume auf öffentlichen Straßenfl</td>\n",
       "<td class=val><a href=\"https://qs-geodienste.hamburg.de/HH_WFS_Strassenbaumkataster?service=WFS&request=DescribeFeatureType&version=1.1.0&typename=de.hh.up:strassenbaumkataster\" target=\"_other\">https://qs-geodienste.hamburg.de/HH_WFS_Strassenbaumkataster?service=WFS&amp;request=DescribeFeatureType&amp;version=1.1.0&amp;typename=de.hh.up:strassenbaumkataster</a></td></tr><tr class=even><td class=val><a href=\"http://suche.transparenz.hamburg.de/dataset/aea728d3-2b65-4672-9cb8-4c69d4a3c9d6\" target=\"_other\">http://suche.transparenz.hamburg.de/dataset/aea728d3-2b65-4672-9cb8-4c69d4a3c9d6</a></td>\n",
       "<td class=val>Straßenbaumkataster Hamburger Hafen</td>\n",
       "<td class=val>Das Baumkataster umfasst die flächendeckende Darstellung der Bäume auf öffentlichen Straßenflurstück</td>\n",
       "<td class=val><a href=\"http://metaver.de/trefferanzeige?docuuid=19676799-FEDB-4D1A-A89A-26FBA887B3F0\" target=\"_other\">http://metaver.de/trefferanzeige?docuuid=19676799-FEDB-4D1A-A89A-26FBA887B3F0</a></td></tr><tr class=odd><td class=val><a href=\"http://suche.transparenz.hamburg.de/dataset/aea728d3-2b65-4672-9cb8-4c69d4a3c9d6\" target=\"_other\">http://suche.transparenz.hamburg.de/dataset/aea728d3-2b65-4672-9cb8-4c69d4a3c9d6</a></td>\n",
       "<td class=val>Straßenbaumkataster Hamburger Hafen</td>\n",
       "<td class=val>Das Baumkataster umfasst die flächendeckende Darstellung der Bäume auf öffentlichen Straßenflurstück</td>\n",
       "<td class=val><a href=\"https://api.hamburg.de/datasets/v1/strassenbaumkataster_hafen\" target=\"_other\">https://api.hamburg.de/datasets/v1/strassenbaumkataster_hafen</a></td></tr><tr class=even><td class=val><a href=\"http://suche.transparenz.hamburg.de/dataset/aea728d3-2b65-4672-9cb8-4c69d4a3c9d6\" target=\"_other\">http://suche.transparenz.hamburg.de/dataset/aea728d3-2b65-4672-9cb8-4c69d4a3c9d6</a></td>\n",
       "<td class=val>Straßenbaumkataster Hamburger Hafen</td>\n",
       "<td class=val>Das Baumkataster umfasst die flächendeckende Darstellung der Bäume auf öffentlichen Straßenflurstück</td>\n",
       "<td class=val><a href=\"https://daten-hamburg.de/umwelt_klima/strassenbaumkataster_hafen/Strassenbaumkataster_Hafen_HH_2017-01-06.zip\" target=\"_other\">https://daten-hamburg.de/umwelt_klima/strassenbaumkataster_hafen/Strassenbaumkataster_Hafen_HH_2017-01-06.zip</a></td></tr><tr class=odd><td class=val><a href=\"http://suche.transparenz.hamburg.de/dataset/aea728d3-2b65-4672-9cb8-4c69d4a3c9d6\" target=\"_other\">http://suche.transparenz.hamburg.de/dataset/aea728d3-2b65-4672-9cb8-4c69d4a3c9d6</a></td>\n",
       "<td class=val>Straßenbaumkataster Hamburger Hafen</td>\n",
       "<td class=val>Das Baumkataster umfasst die flächendeckende Darstellung der Bäume auf öffentlichen Straßenflurstück</td>\n",
       "<td class=val><a href=\"https://geodienste.hamburg.de/HH_WFS_Strassenbaumkataster?SERVICE=WFS&REQUEST=GetCapabilities\" target=\"_other\">https://geodienste.hamburg.de/HH_WFS_Strassenbaumkataster?SERVICE=WFS&amp;REQUEST=GetCapabilities</a></td></tr><tr class=even><td class=val><a href=\"http://suche.transparenz.hamburg.de/dataset/aea728d3-2b65-4672-9cb8-4c69d4a3c9d6\" target=\"_other\">http://suche.transparenz.hamburg.de/dataset/aea728d3-2b65-4672-9cb8-4c69d4a3c9d6</a></td>\n",
       "<td class=val>Straßenbaumkataster Hamburger Hafen</td>\n",
       "<td class=val>Das Baumkataster umfasst die flächendeckende Darstellung der Bäume auf öffentlichen Straßenflurstück</td>\n",
       "<td class=val><a href=\"https://geodienste.hamburg.de/HH_WMS_Strassenbaumkataster?SERVICE=WMS&REQUEST=GetCapabilities\" target=\"_other\">https://geodienste.hamburg.de/HH_WMS_Strassenbaumkataster?SERVICE=WMS&amp;REQUEST=GetCapabilities</a></td></tr><tr class=odd><td class=val><a href=\"http://suche.transparenz.hamburg.de/dataset/aea728d3-2b65-4672-9cb8-4c69d4a3c9d6\" target=\"_other\">http://suche.transparenz.hamburg.de/dataset/aea728d3-2b65-4672-9cb8-4c69d4a3c9d6</a></td>\n",
       "<td class=val>Straßenbaumkataster Hamburger Hafen</td>\n",
       "<td class=val>Das Baumkataster umfasst die flächendeckende Darstellung der Bäume auf öffentlichen Straßenflurstück</td>\n",
       "<td class=val><a href=\"https://geodienste.hamburg.de/download?url=https://geodienste.hamburg.de/HH_WFS_Strassenbaumkataster&f=csv\" target=\"_other\">https://geodienste.hamburg.de/download?url=https://geodienste.hamburg.de/HH_WFS_Strassenbaumkataster&amp;f=csv</a></td></tr><tr class=even><td class=val><a href=\"http://suche.transparenz.hamburg.de/dataset/aea728d3-2b65-4672-9cb8-4c69d4a3c9d6\" target=\"_other\">http://suche.transparenz.hamburg.de/dataset/aea728d3-2b65-4672-9cb8-4c69d4a3c9d6</a></td>\n",
       "<td class=val>Straßenbaumkataster Hamburger Hafen</td>\n",
       "<td class=val>Das Baumkataster umfasst die flächendeckende Darstellung der Bäume auf öffentlichen Straßenflurstück</td>\n",
       "<td class=val><a href=\"https://geodienste.hamburg.de/download?url=https://geodienste.hamburg.de/HH_WFS_Strassenbaumkataster&f=json\" target=\"_other\">https://geodienste.hamburg.de/download?url=https://geodienste.hamburg.de/HH_WFS_Strassenbaumkataster&amp;f=json</a></td></tr><tr class=odd><td class=val><a href=\"https://datenregister.berlin.de/dataset/324910a8-ee97-489c-a519-8694077e0863\" target=\"_other\">https://datenregister.berlin.de/dataset/324910a8-ee97-489c-a519-8694077e0863</a></td>\n",
       "<td class=val>Straßenbaumpflanzungen in Steglitz-Zehlendorf</td>\n",
       "<td class=val>Diese Liste enthält die bereits erfolgten Pflanzungen. Die bereits beauftragten Pflanzungen werden e</td>\n",
       "<td class=val><a href=\"https://www.berlin.de/ba-steglitz-zehlendorf/politik-und-verwaltung/aemter/strassen-und-gruenflaechenamt/gruenflaechen/baeume/baumpflanzungen/index.php\" target=\"_other\">https://www.berlin.de/ba-steglitz-zehlendorf/politik-und-verwaltung/aemter/strassen-und-gruenflaechenamt/gruenflaechen/baeume/baumpflanzungen/index.php</a></td></tr><tr class=even><td class=val><a href=\"https://datenregister.berlin.de/dataset/324910a8-ee97-489c-a519-8694077e0863\" target=\"_other\">https://datenregister.berlin.de/dataset/324910a8-ee97-489c-a519-8694077e0863</a></td>\n",
       "<td class=val>Straßenbaumpflanzungen in Steglitz-Zehlendorf</td>\n",
       "<td class=val>Diese Liste enthält die bereits erfolgten Pflanzungen. Die bereits beauftragten Pflanzungen werden e</td>\n",
       "<td class=val><a href=\"https://www.berlin.de/ba-steglitz-zehlendorf/politik-und-verwaltung/aemter/strassen-und-gruenflaechenamt/gruenflaechen/baeume/baumpflanzungen/index.php/index/all.csv?q=\" target=\"_other\">https://www.berlin.de/ba-steglitz-zehlendorf/politik-und-verwaltung/aemter/strassen-und-gruenflaechenamt/gruenflaechen/baeume/baumpflanzungen/index.php/index/all.csv?q=</a></td></tr><tr class=odd><td class=val><a href=\"https://datenregister.berlin.de/dataset/324910a8-ee97-489c-a519-8694077e0863\" target=\"_other\">https://datenregister.berlin.de/dataset/324910a8-ee97-489c-a519-8694077e0863</a></td>\n",
       "<td class=val>Straßenbaumpflanzungen in Steglitz-Zehlendorf</td>\n",
       "<td class=val>Diese Liste enthält die bereits erfolgten Pflanzungen. Die bereits beauftragten Pflanzungen werden e</td>\n",
       "<td class=val><a href=\"https://www.berlin.de/ba-steglitz-zehlendorf/politik-und-verwaltung/aemter/strassen-und-gruenflaechenamt/gruenflaechen/baeume/baumpflanzungen/index.php/index/all.json?q=\" target=\"_other\">https://www.berlin.de/ba-steglitz-zehlendorf/politik-und-verwaltung/aemter/strassen-und-gruenflaechenamt/gruenflaechen/baeume/baumpflanzungen/index.php/index/all.json?q=</a></td></tr><tr class=even><td class=val><a href=\"https://datenregister.berlin.de/dataset/324910a8-ee97-489c-a519-8694077e0863\" target=\"_other\">https://datenregister.berlin.de/dataset/324910a8-ee97-489c-a519-8694077e0863</a></td>\n",
       "<td class=val>Straßenbaumpflanzungen in Steglitz-Zehlendorf</td>\n",
       "<td class=val>Diese Liste enthält die bereits erfolgten Pflanzungen. Die bereits beauftragten Pflanzungen werden e</td>\n",
       "<td class=val><a href=\"https://www.berlin.de/ba-steglitz-zehlendorf/politik-und-verwaltung/aemter/strassen-und-gruenflaechenamt/gruenflaechen/baeume/baumpflanzungen/index.php/index/all.xls?q=\" target=\"_other\">https://www.berlin.de/ba-steglitz-zehlendorf/politik-und-verwaltung/aemter/strassen-und-gruenflaechenamt/gruenflaechen/baeume/baumpflanzungen/index.php/index/all.xls?q=</a></td></tr><tr class=odd><td class=val><a href=\"https://datenregister.berlin.de/dataset/324910a8-ee97-489c-a519-8694077e0863\" target=\"_other\">https://datenregister.berlin.de/dataset/324910a8-ee97-489c-a519-8694077e0863</a></td>\n",
       "<td class=val>Straßenbaumpflanzungen in Steglitz-Zehlendorf</td>\n",
       "<td class=val>Diese Liste enthält die bereits erfolgten Pflanzungen. Die bereits beauftragten Pflanzungen werden e</td>\n",
       "<td class=val><a href=\"https://www.berlin.de/ba-steglitz-zehlendorf/politik-und-verwaltung/aemter/strassen-und-gruenflaechenamt/gruenflaechen/baeume/baumpflanzungen/index.php/index/all.xml?q=\" target=\"_other\">https://www.berlin.de/ba-steglitz-zehlendorf/politik-und-verwaltung/aemter/strassen-und-gruenflaechenamt/gruenflaechen/baeume/baumpflanzungen/index.php/index/all.xml?q=</a></td></tr><tr class=even><td class=val><a href=\"https://gdk.gdi-de.org/inspire/srv/eng/xml_iso19139?uuid=73dd7f0f-48e7-4cbd-916f-1f0f79652ad0\" target=\"_other\">https://gdk.gdi-de.org/inspire/srv/eng/xml_iso19139?uuid=73dd7f0f-48e7-4cbd-916f-1f0f79652ad0</a></td>\n",
       "<td class=val>Baumkataster</td>\n",
       "<td class=val>Bäume auf stadteigenen Flächen \n",
       "(alle Angaben ohne Gewähr)\n",
       "\n",
       "Herausgeber: Stadt Norderstedt\n",
       "Fachberei</td>\n",
       "<td class=val><a href=\"https://geoservice.norderstedt.de/geoserver/gru/ows?service=WFS&version=1.0.0&request=GetFeature&typeName=gru:gruen_baum&outputFormat=CSV\" target=\"_other\">https://geoservice.norderstedt.de/geoserver/gru/ows?service=WFS&amp;version=1.0.0&amp;request=GetFeature&amp;typeName=gru:gruen_baum&amp;outputFormat=CSV</a></td></tr><tr class=odd><td class=val><a href=\"https://gdk.gdi-de.org/inspire/srv/eng/xml_iso19139?uuid=73dd7f0f-48e7-4cbd-916f-1f0f79652ad0\" target=\"_other\">https://gdk.gdi-de.org/inspire/srv/eng/xml_iso19139?uuid=73dd7f0f-48e7-4cbd-916f-1f0f79652ad0</a></td>\n",
       "<td class=val>Baumkataster</td>\n",
       "<td class=val>Bäume auf stadteigenen Flächen \n",
       "(alle Angaben ohne Gewähr)\n",
       "\n",
       "Herausgeber: Stadt Norderstedt\n",
       "Fachberei</td>\n",
       "<td class=val><a href=\"https://geoservice.norderstedt.de/geoserver/gru/ows?service=WFS&version=1.0.0&request=GetFeature&typeName=gru:gruen_baum&outputFormat=GML3\" target=\"_other\">https://geoservice.norderstedt.de/geoserver/gru/ows?service=WFS&amp;version=1.0.0&amp;request=GetFeature&amp;typeName=gru:gruen_baum&amp;outputFormat=GML3</a></td></tr><tr class=even><td class=val><a href=\"https://gdk.gdi-de.org/inspire/srv/eng/xml_iso19139?uuid=73dd7f0f-48e7-4cbd-916f-1f0f79652ad0\" target=\"_other\">https://gdk.gdi-de.org/inspire/srv/eng/xml_iso19139?uuid=73dd7f0f-48e7-4cbd-916f-1f0f79652ad0</a></td>\n",
       "<td class=val>Baumkataster</td>\n",
       "<td class=val>Bäume auf stadteigenen Flächen \n",
       "(alle Angaben ohne Gewähr)\n",
       "\n",
       "Herausgeber: Stadt Norderstedt\n",
       "Fachberei</td>\n",
       "<td class=val><a href=\"https://geoservice.norderstedt.de/geoserver/gru/ows?service=WFS&version=1.0.0&request=GetFeature&typeName=gru:gruen_baum&outputFormat=SHAPE-ZIP\" target=\"_other\">https://geoservice.norderstedt.de/geoserver/gru/ows?service=WFS&amp;version=1.0.0&amp;request=GetFeature&amp;typeName=gru:gruen_baum&amp;outputFormat=SHAPE-ZIP</a></td></tr><tr class=odd><td class=val><a href=\"https://gdk.gdi-de.org/inspire/srv/eng/xml_iso19139?uuid=73dd7f0f-48e7-4cbd-916f-1f0f79652ad0\" target=\"_other\">https://gdk.gdi-de.org/inspire/srv/eng/xml_iso19139?uuid=73dd7f0f-48e7-4cbd-916f-1f0f79652ad0</a></td>\n",
       "<td class=val>Baumkataster</td>\n",
       "<td class=val>Bäume auf stadteigenen Flächen \n",
       "(alle Angaben ohne Gewähr)\n",
       "\n",
       "Herausgeber: Stadt Norderstedt\n",
       "Fachberei</td>\n",
       "<td class=val><a href=\"https://geoservice.norderstedt.de/geoserver/gru/ows?service=WFS&version=1.0.0&request=GetFeature&typeName=gru:gruen_baum&outputFormat=application/json\" target=\"_other\">https://geoservice.norderstedt.de/geoserver/gru/ows?service=WFS&amp;version=1.0.0&amp;request=GetFeature&amp;typeName=gru:gruen_baum&amp;outputFormat=application/json</a></td></tr><tr class=even><td class=val><a href=\"https://gdk.gdi-de.org/inspire/srv/eng/xml_iso19139?uuid=45a104e1-2a3e-4b90-9e24-dc97d34b3298\" target=\"_other\">https://gdk.gdi-de.org/inspire/srv/eng/xml_iso19139?uuid=45a104e1-2a3e-4b90-9e24-dc97d34b3298</a></td>\n",
       "<td class=val>Baumkataster - Amt Beetsee Gemeinde Beetzseeheide</td>\n",
       "<td class=val>Datensatz zum Baumkataster (Standort, Baumart, Baummaße) im Bereich der Gemeinde Beetzseeheide</td>\n",
       "<td class=val><a href=\"https://www.geoportal-amt-beetzsee.de/isk/baumkataster?REQUEST=GetCapabilities&SERVICE=WFS\" target=\"_other\">https://www.geoportal-amt-beetzsee.de/isk/baumkataster?REQUEST=GetCapabilities&amp;SERVICE=WFS</a></td></tr><tr class=odd><td class=val><a href=\"https://piveau.offene.daten-brandenburg.de/api/hub/repo/datasets/45a104e1-2a3e-4b90-9e24-dc97d34b3298\" target=\"_other\">https://piveau.offene.daten-brandenburg.de/api/hub/repo/datasets/45a104e1-2a3e-4b90-9e24-dc97d34b3298</a></td>\n",
       "<td class=val>Baumkataster - Amt Beetsee Gemeinde Beetzseeheide</td>\n",
       "<td class=val>Datensatz zum Baumkataster (Standort, Baumart, Baummaße) im Bereich der Gemeinde Beetzseeheide</td>\n",
       "<td class=val><a href=\"https://www.geoportal-amt-beetzsee.de/isk/baumkataster?REQUEST=GetCapabilities&SERVICE=WFS\" target=\"_other\">https://www.geoportal-amt-beetzsee.de/isk/baumkataster?REQUEST=GetCapabilities&amp;SERVICE=WFS</a></td></tr><tr class=even><td class=val><a href=\"https://piveau.offene.daten-brandenburg.de/api/hub/repo/datasets/45a104e1-2a3e-4b90-9e24-dc97d34b3298\" target=\"_other\">https://piveau.offene.daten-brandenburg.de/api/hub/repo/datasets/45a104e1-2a3e-4b90-9e24-dc97d34b3298</a></td>\n",
       "<td class=val>Baumkataster - Amt Beetsee Gemeinde Beetzseeheide</td>\n",
       "<td class=val>Datensatz zum Baumkataster (Standort, Baumart, Baummaße) im Bereich der Gemeinde Beetzseeheide</td>\n",
       "<td class=val><a href=\"https://www.geoportal-amt-beetzsee.de/katalog.php?view=show&id=236\" target=\"_other\">https://www.geoportal-amt-beetzsee.de/katalog.php?view=show&amp;id=236</a></td></tr></table><div class=\"tinfo\">Total: 20, Shown: 20</div></div>"
      ]
     },
     "metadata": {},
     "output_type": "display_data"
    }
   ],
   "source": [
    "%endpoint https://www.govdata.de/sparql\n",
    "PREFIX dcat: <http://www.w3.org/ns/dcat#>\n",
    "PREFIX dct: <http://purl.org/dc/terms/>\n",
    "PREFIX dcatde: <http://dcat-ap.de/def/dcatde/>\n",
    "PREFIX rdfs: <http://www.w3.org/2000/01/rdf-schema#>\n",
    "PREFIX pg: <http://dcat-ap.de/def/politicalGeocoding/>\n",
    "\n",
    "SELECT ?datasetURI ?datasetTitle ?shortDescription ?accessURL\n",
    "WHERE {\n",
    "  ?datasetURI a dcat:Dataset;\n",
    "              dct:title ?datasetTitle;\n",
    "              dct:description ?datasetDescription;\n",
    "              dct:modified ?modified;\n",
    "              dcat:distribution ?distribution.\n",
    "\n",
    "  ?distribution dcat:accessURL ?accessURL.\n",
    "\n",
    "  BIND(SUBSTR(STR(?datasetDescription), 1, 100) AS ?shortDescription)\n",
    "\n",
    "  FILTER(\n",
    "    (LANG(?datasetTitle) = \"\" || LANG(?datasetTitle) = \"de\") &&\n",
    "    (\n",
    "      CONTAINS(LCASE(?datasetTitle), \"baumkataster\") || \n",
    "      CONTAINS(LCASE(?datasetTitle), \"baumpflanzungen\")\n",
    "    )\n",
    "  )\n",
    "\n",
    "  FILTER(\n",
    "    CONTAINS(STR(?modified), \"2015\") || \n",
    "    CONTAINS(STR(?modified), \"2016\") ||\n",
    "    CONTAINS(STR(?modified), \"2017\") || \n",
    "    CONTAINS(STR(?modified), \"2018\") || \n",
    "    CONTAINS(STR(?modified), \"2019\") || \n",
    "    CONTAINS(STR(?modified), \"2020\") || \n",
    "    CONTAINS(STR(?modified), \"2021\") || \n",
    "    CONTAINS(STR(?modified), \"2022\") || \n",
    "    CONTAINS(STR(?modified), \"2023\") || \n",
    "    CONTAINS(STR(?modified), \"2024\") || \n",
    "    CONTAINS(STR(?modified), \"2025\")\n",
    "  )\n",
    "}\n",
    "ORDER BY ?datasetTitle\n",
    "OFFSET 140\n",
    "LIMIT 20\n"
   ]
  }
 ],
 "metadata": {
  "kernelspec": {
   "display_name": "SPARQL",
   "language": "sparql",
   "name": "sparql"
  },
  "language_info": {
   "codemirror_mode": {
    "name": "sparql"
   },
   "mimetype": "application/sparql-query",
   "name": "sparql",
   "pygments_lexer": "sparql-nb"
  }
 },
 "nbformat": 4,
 "nbformat_minor": 5
}
