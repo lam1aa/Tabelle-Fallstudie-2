{
 "cells": [
  {
   "cell_type": "code",
   "execution_count": 10,
   "id": "99b6a6bc",
   "metadata": {
    "vscode": {
     "languageId": "plaintext"
    }
   },
   "outputs": [
    {
     "data": {
      "text/html": [
       "<div class=\"krn-spql\"><div class=\"magic\">Endpoint set to: https://data.europa.eu/sparql</div></div>"
      ],
      "text/plain": [
       "Endpoint set to: https://data.europa.eu/sparql\n"
      ]
     },
     "metadata": {},
     "output_type": "display_data"
    },
    {
     "data": {
      "text/html": [
       "<div class=\"krn-spql\"><table><tr class=hdr><th>uri</th>\n",
       "<th>title</th>\n",
       "<th>contributorid</th>\n",
       "<th>modified</th></tr></table><div class=\"tinfo\">Total: 0, Shown: 0</div></div>"
      ]
     },
     "metadata": {},
     "output_type": "display_data"
    }
   ],
   "source": [
    "%endpoint https://data.europa.eu/sparql\n",
    "PREFIX dct: <http://purl.org/dc/terms/>\n",
    "PREFIX dcatde: <http://dcat-ap.de/def/dcatde/>\n",
    "\n",
    "SELECT ?uri ?title ?contributorid ?modified WHERE {\n",
    "    {\n",
    "        SELECT ?uri ?title ?contributorid ?modified WHERE {\n",
    "            ?uri dct:title ?title .\n",
    "            ?uri dcatde:contributorID ?contributorid .\n",
    "            ?uri dct:modified ?modified .\n",
    "            FILTER(isURI(?contributorid))\n",
    "            FILTER(strstarts(str(?contributorid), \"http://dcat-ap.de/def/contributors/\"))\n",
    "            FILTER(CONTAINS(LCASE(?title), \"baumkataster\"))\n",
    "            FILTER(\n",
    "                CONTAINS(STR(?modified), \"2010\") || \n",
    "                CONTAINS(STR(?modified), \"2011\") || \n",
    "                CONTAINS(STR(?modified), \"2012\") || \n",
    "                CONTAINS(STR(?modified), \"2013\") || \n",
    "                CONTAINS(STR(?modified), \"2014\") || \n",
    "                CONTAINS(STR(?modified), \"2015\")\n",
    "            )\n",
    "        }\n",
    "    }\n",
    "}"
   ]
  },
  {
   "cell_type": "code",
   "execution_count": 12,
   "id": "f4597281",
   "metadata": {
    "vscode": {
     "languageId": "plaintext"
    }
   },
   "outputs": [
    {
     "data": {
      "text/html": [
       "<div class=\"krn-spql\"><div class=\"magic\">Endpoint set to: https://data.europa.eu/sparql</div></div>"
      ],
      "text/plain": [
       "Endpoint set to: https://data.europa.eu/sparql\n"
      ]
     },
     "metadata": {},
     "output_type": "display_data"
    },
    {
     "data": {
      "text/html": [
       "<div class=\"krn-spql\"><table><tr class=hdr><th>uri</th>\n",
       "<th>title</th>\n",
       "<th>contributorid</th>\n",
       "<th>modified</th></tr><tr class=odd><td class=val><a href=\"http://data.europa.eu/88u/dataset/fcdceb2e-d16d-410c-ba0f-521ba8c6effa\" target=\"_other\">http://data.europa.eu/88u/dataset/fcdceb2e-d16d-410c-ba0f-521ba8c6effa</a></td>\n",
       "<td class=val>Fachpläne - Baumkataster</td>\n",
       "<td class=val><a href=\"http://dcat-ap.de/def/contributors/datenBW\" target=\"_other\">http://dcat-ap.de/def/contributors/datenBW</a></td>\n",
       "<td class=val>2025-01-03T08:49:41.490922</td></tr><tr class=even><td class=val><a href=\"http://data.europa.eu/88u/dataset/c1c61928-c602-4e37-af31-2d23901e2540\" target=\"_other\">http://data.europa.eu/88u/dataset/c1c61928-c602-4e37-af31-2d23901e2540</a></td>\n",
       "<td class=val>Straßenbaumkataster Hamburg</td>\n",
       "<td class=val><a href=\"http://dcat-ap.de/def/contributors/transparenzportalHamburg\" target=\"_other\">http://dcat-ap.de/def/contributors/transparenzportalHamburg</a></td>\n",
       "<td class=val>2025-01-25T23:05:06.709577</td></tr><tr class=odd><td class=val><a href=\"http://data.europa.eu/88u/dataset/19676799-fedb-4d1a-a89a-26fba887b3f0~~2\" target=\"_other\">http://data.europa.eu/88u/dataset/19676799-fedb-4d1a-a89a-26fba887b3f0~~2</a></td>\n",
       "<td class=val>Straßenbaumkataster Hamburger Hafen</td>\n",
       "<td class=val><a href=\"http://dcat-ap.de/def/contributors/transparenzportalHamburg\" target=\"_other\">http://dcat-ap.de/def/contributors/transparenzportalHamburg</a></td>\n",
       "<td class=val>2025-01-24T21:38:49.974593</td></tr><tr class=even><td class=val><a href=\"http://data.europa.eu/88u/dataset/fb87ef77-86bf-444f-8f43-d73ef0708e42\" target=\"_other\">http://data.europa.eu/88u/dataset/fb87ef77-86bf-444f-8f43-d73ef0708e42</a></td>\n",
       "<td class=val>D30 Baumkataster der Kreisstadt Bergheim</td>\n",
       "<td class=val><a href=\"http://dcat-ap.de/def/contributors/openNRW\" target=\"_other\">http://dcat-ap.de/def/contributors/openNRW</a></td>\n",
       "<td class=val>2021-09-08T08:02:44+02:00</td></tr><tr class=odd><td class=val><a href=\"http://data.europa.eu/88u/dataset/5f0aaf45-f380-49b3-87be-51abaddacbe0\" target=\"_other\">http://data.europa.eu/88u/dataset/5f0aaf45-f380-49b3-87be-51abaddacbe0</a></td>\n",
       "<td class=val>Baumkataster Norderstedt</td>\n",
       "<td class=val><a href=\"http://dcat-ap.de/def/contributors/schleswigHolstein\" target=\"_other\">http://dcat-ap.de/def/contributors/schleswigHolstein</a></td>\n",
       "<td class=val>2022-04-12T07:58:22.519048</td></tr><tr class=even><td class=val><a href=\"http://data.europa.eu/88u/dataset/cfbe70e6-6078-42db-8c9b-f8745ee8916e\" target=\"_other\">http://data.europa.eu/88u/dataset/cfbe70e6-6078-42db-8c9b-f8745ee8916e</a></td>\n",
       "<td class=val>Baumkataster</td>\n",
       "<td class=val><a href=\"http://dcat-ap.de/def/contributors/schleswigHolstein\" target=\"_other\">http://dcat-ap.de/def/contributors/schleswigHolstein</a></td>\n",
       "<td class=val>2023-06-09T05:25:52.631385</td></tr><tr class=odd><td class=val><a href=\"http://data.europa.eu/88u/dataset/b16bb333-26ca-4743-9663-723d63f57259\" target=\"_other\">http://data.europa.eu/88u/dataset/b16bb333-26ca-4743-9663-723d63f57259</a></td>\n",
       "<td class=val>Digitales Baumkataster Münster</td>\n",
       "<td class=val><a href=\"http://dcat-ap.de/def/contributors/openNRW\" target=\"_other\">http://dcat-ap.de/def/contributors/openNRW</a></td>\n",
       "<td class=val>2025-03-13T13:28:04+01:00</td></tr><tr class=even><td class=val><a href=\"http://data.europa.eu/88u/dataset/200e532c-a381-4611-ba05-4ed7afc31230\" target=\"_other\">http://data.europa.eu/88u/dataset/200e532c-a381-4611-ba05-4ed7afc31230</a></td>\n",
       "<td class=val>Baumkataster des ASG Wesel</td>\n",
       "<td class=val><a href=\"http://dcat-ap.de/def/contributors/openNRW\" target=\"_other\">http://dcat-ap.de/def/contributors/openNRW</a></td>\n",
       "<td class=val>2024-05-28T11:46:06.401383</td></tr><tr class=odd><td class=val><a href=\"http://data.europa.eu/88u/dataset/baumkataster_stadt_wuerzburg-wuerzburg\" target=\"_other\">http://data.europa.eu/88u/dataset/baumkataster_stadt_wuerzburg-wuerzburg</a></td>\n",
       "<td class=val>Baumkataster der Stadt Würzburg</td>\n",
       "<td class=val><a href=\"http://dcat-ap.de/def/contributors/openDataBayern\" target=\"_other\">http://dcat-ap.de/def/contributors/openDataBayern</a></td>\n",
       "<td class=val>2024-11-14T13:33:38.241Z</td></tr><tr class=even><td class=val><a href=\"http://data.europa.eu/88u/dataset/95f51e2d-fd68-4304-a792-dde167a42d0b\" target=\"_other\">http://data.europa.eu/88u/dataset/95f51e2d-fd68-4304-a792-dde167a42d0b</a></td>\n",
       "<td class=val>Straßenbaumkataster Hamburg</td>\n",
       "<td class=val><a href=\"http://dcat-ap.de/def/contributors/mobilithek\" target=\"_other\">http://dcat-ap.de/def/contributors/mobilithek</a></td>\n",
       "<td class=val>2020-09-09T02:40:42.382</td></tr><tr class=odd><td class=val><a href=\"http://data.europa.eu/88u/dataset/f92a2f20-cdd1-4479-a63a-2f7e77ca791f\" target=\"_other\">http://data.europa.eu/88u/dataset/f92a2f20-cdd1-4479-a63a-2f7e77ca791f</a></td>\n",
       "<td class=val>Straßenbaumkataster Hamburger Hafen</td>\n",
       "<td class=val><a href=\"http://dcat-ap.de/def/contributors/mobilithek\" target=\"_other\">http://dcat-ap.de/def/contributors/mobilithek</a></td>\n",
       "<td class=val>2020-09-09T02:34:02.268</td></tr><tr class=even><td class=val><a href=\"http://data.europa.eu/88u/dataset/9b439a59-62b0-4ada-9976-08a631a96b82\" target=\"_other\">http://data.europa.eu/88u/dataset/9b439a59-62b0-4ada-9976-08a631a96b82</a></td>\n",
       "<td class=val>Baumkataster</td>\n",
       "<td class=val><a href=\"http://dcat-ap.de/def/contributors/datenBW\" target=\"_other\">http://dcat-ap.de/def/contributors/datenBW</a></td>\n",
       "<td class=val>2025-02-25T13:32:48+01:00</td></tr><tr class=odd><td class=val><a href=\"http://data.europa.eu/88u/dataset/https-registry-gdi-de-org-id-de-sn-stlp-cee75d75-4b4e-4bea-9d24-8b5993b54479\" target=\"_other\">http://data.europa.eu/88u/dataset/https-registry-gdi-de-org-id-de-sn-stlp-cee75d75-4b4e-4bea-9d24-8b5993b54479</a></td>\n",
       "<td class=val>Baumkataster, Stadt Leipzig</td>\n",
       "<td class=val><a href=\"http://dcat-ap.de/def/contributors/freistaatSachsen\" target=\"_other\">http://dcat-ap.de/def/contributors/freistaatSachsen</a></td>\n",
       "<td class=val>2025-02-19</td></tr><tr class=even><td class=val><a href=\"http://data.europa.eu/88u/dataset/baumkataster-dortmund\" target=\"_other\">http://data.europa.eu/88u/dataset/baumkataster-dortmund</a></td>\n",
       "<td class=val>Baumkataster</td>\n",
       "<td class=val><a href=\"http://dcat-ap.de/def/contributors/openNRW\" target=\"_other\">http://dcat-ap.de/def/contributors/openNRW</a></td>\n",
       "<td class=val>2025-04-07T01:04:35.462Z</td></tr><tr class=odd><td class=val><a href=\"http://data.europa.eu/88u/dataset/59dd9d5d-cd65-43f8-bd13-d82734e640ef\" target=\"_other\">http://data.europa.eu/88u/dataset/59dd9d5d-cd65-43f8-bd13-d82734e640ef</a></td>\n",
       "<td class=val>Baumkataster Koeln 2020</td>\n",
       "<td class=val><a href=\"http://dcat-ap.de/def/contributors/openNRW\" target=\"_other\">http://dcat-ap.de/def/contributors/openNRW</a></td>\n",
       "<td class=val>2024-06-25T08:34:10+02:00</td></tr><tr class=even><td class=val><a href=\"http://data.europa.eu/88u/dataset/cee75d75-4b4e-4bea-9d24-8b5993b54479~~1\" target=\"_other\">http://data.europa.eu/88u/dataset/cee75d75-4b4e-4bea-9d24-8b5993b54479~~1</a></td>\n",
       "<td class=val>Baumkataster, Stadt Leipzig</td>\n",
       "<td class=val><a href=\"http://dcat-ap.de/def/contributors/freistaatSachsen\" target=\"_other\">http://dcat-ap.de/def/contributors/freistaatSachsen</a></td>\n",
       "<td class=val>2024-07-15</td></tr><tr class=odd><td class=val><a href=\"http://data.europa.eu/88u/dataset/73dd7f0f-48e7-4cbd-916f-1f0f79652ad0\" target=\"_other\">http://data.europa.eu/88u/dataset/73dd7f0f-48e7-4cbd-916f-1f0f79652ad0</a></td>\n",
       "<td class=val>Baumkataster</td>\n",
       "<td class=val><a href=\"http://dcat-ap.de/def/contributors/schleswigHolstein\" target=\"_other\">http://dcat-ap.de/def/contributors/schleswigHolstein</a></td>\n",
       "<td class=val>2025-01-15T00:00:00</td></tr><tr class=even><td class=val><a href=\"http://data.europa.eu/88u/dataset/https-open-bydata-de-api-hub-repo-datasets-baumkataster-haar\" target=\"_other\">http://data.europa.eu/88u/dataset/https-open-bydata-de-api-hub-repo-datasets-baumkataster-haar</a></td>\n",
       "<td class=val>Baumkataster der Stadt Haar</td>\n",
       "<td class=val><a href=\"http://dcat-ap.de/def/contributors/openDataBayern\" target=\"_other\">http://dcat-ap.de/def/contributors/openDataBayern</a></td>\n",
       "<td class=val>2025-03-11T10:56:42.343637</td></tr><tr class=odd><td class=val><a href=\"http://data.europa.eu/88u/dataset/https-open-bydata-de-api-hub-repo-datasets-baumkataster-der-stadt-hassfurt\" target=\"_other\">http://data.europa.eu/88u/dataset/https-open-bydata-de-api-hub-repo-datasets-baumkataster-der-stadt-hassfurt</a></td>\n",
       "<td class=val>Baumkataster der Stadt Haßfurt</td>\n",
       "<td class=val><a href=\"http://dcat-ap.de/def/contributors/openDataBayern\" target=\"_other\">http://dcat-ap.de/def/contributors/openDataBayern</a></td>\n",
       "<td class=val>2023-11-24</td></tr><tr class=even><td class=val><a href=\"http://data.europa.eu/88u/dataset/09653fe3-ad6b-44d6-88e2-25b8042ee43d~~1\" target=\"_other\">http://data.europa.eu/88u/dataset/09653fe3-ad6b-44d6-88e2-25b8042ee43d~~1</a></td>\n",
       "<td class=val>Baumkataster Frankfurt (Oder) - (WFS-BAUMKATASTER)</td>\n",
       "<td class=val><a href=\"http://dcat-ap.de/def/contributors/openDataBrandenburg\" target=\"_other\">http://dcat-ap.de/def/contributors/openDataBrandenburg</a></td>\n",
       "<td class=val>2024-06-07T12:18:50</td></tr></table><div class=\"tinfo\">Total: 42, Shown: 20</div></div>"
      ]
     },
     "metadata": {},
     "output_type": "display_data"
    }
   ],
   "source": [
    "%endpoint https://data.europa.eu/sparql\n",
    "PREFIX dct: <http://purl.org/dc/terms/>\n",
    "PREFIX dcatde: <http://dcat-ap.de/def/dcatde/>\n",
    "\n",
    "SELECT ?uri ?title ?contributorid ?modified WHERE {\n",
    "    {\n",
    "        SELECT ?uri ?title ?contributorid ?modified WHERE {\n",
    "            ?uri dct:title ?title .\n",
    "            ?uri dcatde:contributorID ?contributorid .\n",
    "            ?uri dct:modified ?modified .\n",
    "            FILTER(isURI(?contributorid))\n",
    "            FILTER(strstarts(str(?contributorid), \"http://dcat-ap.de/def/contributors/\"))\n",
    "            FILTER(CONTAINS(LCASE(?title), \"baumkataster\"))\n",
    "            FILTER(\n",
    "                CONTAINS(STR(?modified), \"2015\") ||\n",
    "                CONTAINS(STR(?modified), \"2016\") ||\n",
    "                CONTAINS(STR(?modified), \"2017\") || \n",
    "                CONTAINS(STR(?modified), \"2018\") || \n",
    "                CONTAINS(STR(?modified), \"2019\") || \n",
    "                CONTAINS(STR(?modified), \"2020\") || \n",
    "                CONTAINS(STR(?modified), \"2021\") || \n",
    "                CONTAINS(STR(?modified), \"2022\") || \n",
    "                CONTAINS(STR(?modified), \"2023\") || \n",
    "                CONTAINS(STR(?modified), \"2024\") || \n",
    "                CONTAINS(STR(?modified), \"2025\")\n",
    "            )\n",
    "        }\n",
    "    }\n",
    "}"
   ]
  },
  {
   "cell_type": "code",
   "execution_count": 2,
   "id": "4fb1340b",
   "metadata": {
    "vscode": {
     "languageId": "plaintext"
    }
   },
   "outputs": [
    {
     "data": {
      "text/html": [
       "<div class=\"krn-spql\"><div class=\"magic\">Endpoint set to: https://data.europa.eu/sparql</div></div>"
      ],
      "text/plain": [
       "Endpoint set to: https://data.europa.eu/sparql\n"
      ]
     },
     "metadata": {},
     "output_type": "display_data"
    },
    {
     "data": {
      "text/html": [
       "<div class=\"krn-spql\"><table><tr class=hdr><th>contributorid</th>\n",
       "<th>datasetCount</th></tr><tr class=odd><td class=val><a href=\"http://dcat-ap.de/def/contributors/openNRW\" target=\"_other\">http://dcat-ap.de/def/contributors/openNRW</a></td>\n",
       "<td class=val>5</td></tr><tr class=even><td class=val><a href=\"http://dcat-ap.de/def/contributors/schleswigHolstein\" target=\"_other\">http://dcat-ap.de/def/contributors/schleswigHolstein</a></td>\n",
       "<td class=val>5</td></tr><tr class=odd><td class=val><a href=\"http://dcat-ap.de/def/contributors/openDataBayern\" target=\"_other\">http://dcat-ap.de/def/contributors/openDataBayern</a></td>\n",
       "<td class=val>4</td></tr><tr class=even><td class=val><a href=\"http://dcat-ap.de/def/contributors/transparenzportalHamburg\" target=\"_other\">http://dcat-ap.de/def/contributors/transparenzportalHamburg</a></td>\n",
       "<td class=val>2</td></tr><tr class=odd><td class=val><a href=\"http://dcat-ap.de/def/contributors/openDataBrandenburg\" target=\"_other\">http://dcat-ap.de/def/contributors/openDataBrandenburg</a></td>\n",
       "<td class=val>2</td></tr><tr class=even><td class=val><a href=\"http://dcat-ap.de/def/contributors/datenBW\" target=\"_other\">http://dcat-ap.de/def/contributors/datenBW</a></td>\n",
       "<td class=val>2</td></tr><tr class=odd><td class=val><a href=\"http://dcat-ap.de/def/contributors/mobilithek\" target=\"_other\">http://dcat-ap.de/def/contributors/mobilithek</a></td>\n",
       "<td class=val>2</td></tr><tr class=even><td class=val><a href=\"http://dcat-ap.de/def/contributors/freistaatSachsen\" target=\"_other\">http://dcat-ap.de/def/contributors/freistaatSachsen</a></td>\n",
       "<td class=val>2</td></tr><tr class=odd><td class=val><a href=\"http://dcat-ap.de/def/contributors/stadtErlangen\" target=\"_other\">http://dcat-ap.de/def/contributors/stadtErlangen</a></td>\n",
       "<td class=val>1</td></tr></table><div class=\"tinfo\">Total: 9, Shown: 9</div></div>"
      ]
     },
     "metadata": {},
     "output_type": "display_data"
    }
   ],
   "source": [
    "%endpoint https://data.europa.eu/sparql\n",
    "PREFIX dct: <http://purl.org/dc/terms/>\n",
    "PREFIX dcatde: <http://dcat-ap.de/def/dcatde/>\n",
    "\n",
    "SELECT ?contributorid (COUNT(?uri) AS ?datasetCount) WHERE {\n",
    "    {\n",
    "        SELECT ?uri ?contributorid WHERE {\n",
    "            ?uri dct:title ?title .\n",
    "            ?uri dcatde:contributorID ?contributorid .\n",
    "            ?uri dct:modified ?modified .\n",
    "            FILTER(isURI(?contributorid))\n",
    "            FILTER(strstarts(str(?contributorid), \"http://dcat-ap.de/def/contributors/\"))\n",
    "            FILTER(CONTAINS(LCASE(?title), \"baumkataster\"))\n",
    "            FILTER(\n",
    "                CONTAINS(STR(?modified), \"2017\") || \n",
    "                CONTAINS(STR(?modified), \"2018\") || \n",
    "                CONTAINS(STR(?modified), \"2019\") || \n",
    "                CONTAINS(STR(?modified), \"2020\") || \n",
    "                CONTAINS(STR(?modified), \"2021\") || \n",
    "                CONTAINS(STR(?modified), \"2022\") || \n",
    "                CONTAINS(STR(?modified), \"2023\") || \n",
    "                CONTAINS(STR(?modified), \"2024\") || \n",
    "                CONTAINS(STR(?modified), \"2025\")\n",
    "            )\n",
    "        }\n",
    "    }\n",
    "}\n",
    "GROUP BY ?contributorid\n",
    "ORDER BY DESC(?datasetCount)\n",
    "\n"
   ]
  },
  {
   "cell_type": "code",
   "execution_count": 3,
   "id": "228fd218",
   "metadata": {
    "vscode": {
     "languageId": "plaintext"
    }
   },
   "outputs": [
    {
     "data": {
      "text/html": [
       "<div class=\"krn-spql\"><div class=\"magic\">Endpoint set to: https://data.europa.eu/sparql</div></div>"
      ],
      "text/plain": [
       "Endpoint set to: https://data.europa.eu/sparql\n"
      ]
     },
     "metadata": {},
     "output_type": "display_data"
    },
    {
     "data": {
      "text/html": [
       "<div class=\"krn-spql\"><table><tr class=hdr><th>contributorID</th>\n",
       "<th>formatCount</th></tr><tr class=odd><td class=val><a href=\"http://dcat-ap.de/def/contributors/openNRW\" target=\"_other\">http://dcat-ap.de/def/contributors/openNRW</a></td>\n",
       "<td class=val>14</td></tr><tr class=even><td class=val><a href=\"http://dcat-ap.de/def/contributors/transparenzportalHamburg\" target=\"_other\">http://dcat-ap.de/def/contributors/transparenzportalHamburg</a></td>\n",
       "<td class=val>8</td></tr><tr class=odd><td class=val><a href=\"https://opendata.stadt-muenster.de/\" target=\"_other\">https://opendata.stadt-muenster.de/</a></td>\n",
       "<td class=val>7</td></tr><tr class=even><td class=val><a href=\"https://offenedaten.kdvz.nrw/\" target=\"_other\">https://offenedaten.kdvz.nrw/</a></td>\n",
       "<td class=val>3</td></tr><tr class=odd><td class=val><a href=\"http://dcat-ap.de/def/contributors/schleswigHolstein\" target=\"_other\">http://dcat-ap.de/def/contributors/schleswigHolstein</a></td>\n",
       "<td class=val>1</td></tr><tr class=even><td class=val><a href=\"http://dcat-ap.de/def/contributors/datenBW\" target=\"_other\">http://dcat-ap.de/def/contributors/datenBW</a></td>\n",
       "<td class=val>1</td></tr></table><div class=\"tinfo\">Total: 6, Shown: 6</div></div>"
      ]
     },
     "metadata": {},
     "output_type": "display_data"
    }
   ],
   "source": [
    "%endpoint https://data.europa.eu/sparql\n",
    "PREFIX dcat: <http://www.w3.org/ns/dcat#>\n",
    "PREFIX dct: <http://purl.org/dc/terms/>\n",
    "PREFIX dcatde: <http://dcat-ap.de/def/dcatde/>\n",
    "PREFIX rdfs: <http://www.w3.org/2000/01/rdf-schema#>\n",
    "PREFIX pg: <http://dcat-ap.de/def/politicalGeocoding/>\n",
    "\n",
    "SELECT ?contributorID (COUNT(DISTINCT ?format) AS ?formatCount)\n",
    "WHERE {\n",
    "  ?datasetURI a dcat:Dataset;\n",
    "              dct:title ?datasetTitle;\n",
    "              dcatde:contributorID ?contributorID;\n",
    "              dct:modified ?modified.\n",
    "  OPTIONAL { ?datasetURI dcat:catalog ?catalog. }\n",
    "  FILTER((LANG(?datasetTitle) = \"\" || LANG(?datasetTitle) = \"de\") && CONTAINS(LCASE(?datasetTitle), \"baumkataster\"))\n",
    "  FILTER(\n",
    "    CONTAINS(STR(?modified), \"2017\") || \n",
    "    CONTAINS(STR(?modified), \"2018\") || \n",
    "    CONTAINS(STR(?modified), \"2019\") || \n",
    "    CONTAINS(STR(?modified), \"2020\") || \n",
    "    CONTAINS(STR(?modified), \"2021\") || \n",
    "    CONTAINS(STR(?modified), \"2022\") || \n",
    "    CONTAINS(STR(?modified), \"2023\") || \n",
    "    CONTAINS(STR(?modified), \"2024\") || \n",
    "    CONTAINS(STR(?modified), \"2025\")\n",
    "  )\n",
    "\n",
    "  ?datasetURI dcat:distribution ?distribution.\n",
    "  ?distribution dct:format ?format.\n",
    "}\n",
    "GROUP BY ?contributorID\n",
    "ORDER BY DESC(?formatCount)\n"
   ]
  },
  {
   "cell_type": "code",
   "execution_count": 4,
   "id": "a41f620a",
   "metadata": {
    "vscode": {
     "languageId": "plaintext"
    }
   },
   "outputs": [
    {
     "data": {
      "text/html": [
       "<div class=\"krn-spql\"><div class=\"magic\">Endpoint set to: https://data.europa.eu/sparql</div></div>"
      ],
      "text/plain": [
       "Endpoint set to: https://data.europa.eu/sparql\n"
      ]
     },
     "metadata": {},
     "output_type": "display_data"
    },
    {
     "data": {
      "text/html": [
       "<div class=\"krn-spql\"><table><tr class=hdr><th>datasetTitle</th></tr><tr class=odd><td class=val>Baumkataster - Amt Beetsee Gemeinde Beetzseeheide</td></tr><tr class=even><td class=val>Baumkataster - Amt Beetsee Gemeinde Beetzseeheide (WMS)</td></tr><tr class=odd><td class=val>Baumkataster - Amt Beetsee Gemeinde Beetzseeheide (WFS)</td></tr><tr class=even><td class=val>Baumkataster Frankfurt (Oder) - (WFS-BAUMKATASTER)</td></tr></table><div class=\"tinfo\">Total: 4, Shown: 4</div></div>"
      ]
     },
     "metadata": {},
     "output_type": "display_data"
    }
   ],
   "source": [
    "%endpoint https://data.europa.eu/sparql\n",
    "PREFIX dcat: <http://www.w3.org/ns/dcat#>\n",
    "PREFIX dct: <http://purl.org/dc/terms/>\n",
    "PREFIX dcatde: <http://dcat-ap.de/def/dcatde/>\n",
    "PREFIX rdfs: <http://www.w3.org/2000/01/rdf-schema#>\n",
    "PREFIX pg: <http://dcat-ap.de/def/politicalGeocoding/>\n",
    "\n",
    "SELECT ?datasetTitle\n",
    "WHERE {\n",
    "  ?datasetURI a dcat:Dataset;\n",
    "              dct:title ?datasetTitle;\n",
    "              dcatde:contributorID ?contributorID;\n",
    "              dct:modified ?modified.\n",
    "  OPTIONAL { ?datasetURI dcat:catalog ?catalog. }\n",
    "  \n",
    "  FILTER((LANG(?datasetTitle) = \"\" || LANG(?datasetTitle) = \"de\") && CONTAINS(LCASE(?datasetTitle), \"baumkataster\"))\n",
    "  \n",
    "  FILTER(\n",
    "    CONTAINS(STR(?modified), \"2017\") || \n",
    "    CONTAINS(STR(?modified), \"2018\") || \n",
    "    CONTAINS(STR(?modified), \"2019\") || \n",
    "    CONTAINS(STR(?modified), \"2020\") || \n",
    "    CONTAINS(STR(?modified), \"2021\") || \n",
    "    CONTAINS(STR(?modified), \"2022\") || \n",
    "    CONTAINS(STR(?modified), \"2023\") || \n",
    "    CONTAINS(STR(?modified), \"2024\") || \n",
    "    CONTAINS(STR(?modified), \"2025\")\n",
    "  )\n",
    "  \n",
    "  FILTER(?contributorID = <http://dcat-ap.de/def/contributors/openDataBrandenburg>)\n",
    "\n",
    "}\n",
    "ORDER BY ?datasetTitle\n"
   ]
  },
  {
   "cell_type": "code",
   "execution_count": 5,
   "id": "4f6d9fb9",
   "metadata": {
    "vscode": {
     "languageId": "plaintext"
    }
   },
   "outputs": [
    {
     "data": {
      "text/html": [
       "<div class=\"krn-spql\"><div class=\"magic\">Endpoint set to: https://www.govdata.de/sparql</div></div>"
      ],
      "text/plain": [
       "Endpoint set to: https://www.govdata.de/sparql\n"
      ]
     },
     "metadata": {},
     "output_type": "display_data"
    },
    {
     "data": {
      "text/html": [
       "<div class=\"krn-spql\"><table><tr class=hdr><th>datasetURI</th>\n",
       "<th>datasetTitle</th>\n",
       "<th>datasetDescription</th></tr><tr class=odd><td class=val><a href=\"https://piveau.offene.daten-brandenburg.de/api/hub/repo/datasets/45a104e1-2a3e-4b90-9e24-dc97d34b3298\" target=\"_other\">https://piveau.offene.daten-brandenburg.de/api/hub/repo/datasets/45a104e1-2a3e-4b90-9e24-dc97d34b3298</a></td>\n",
       "<td class=val>Baumkataster - Amt Beetsee Gemeinde Beetzseeheide</td>\n",
       "<td class=val>Datensatz zum Baumkataster (Standort, Baumart, Baummaße) im Bereich der Gemeinde Beetzseeheide</td></tr><tr class=even><td class=val><a href=\"https://piveau.offene.daten-brandenburg.de/api/hub/repo/datasets/771b3471-f63a-4de8-b930-31dde0d23417\" target=\"_other\">https://piveau.offene.daten-brandenburg.de/api/hub/repo/datasets/771b3471-f63a-4de8-b930-31dde0d23417</a></td>\n",
       "<td class=val>Baumkataster - Amt Beetsee Gemeinde Beetzseeheide (WFS)</td>\n",
       "<td class=val>Geodienst (WFS) zum Baumkataster (Standort, Baumart, Baummaße) im Bereich der Gemeinde Beetzseeheide</td></tr><tr class=odd><td class=val><a href=\"https://piveau.offene.daten-brandenburg.de/api/hub/repo/datasets/3a14f846-13a1-47d9-874f-3843007d85b7\" target=\"_other\">https://piveau.offene.daten-brandenburg.de/api/hub/repo/datasets/3a14f846-13a1-47d9-874f-3843007d85b7</a></td>\n",
       "<td class=val>Baumkataster - Amt Beetsee Gemeinde Beetzseeheide (WMS)</td>\n",
       "<td class=val>Geodienst (WMS) zum Baumkataster (Standort, Baumart, Baummaße) im Bereich der Gemeinde Beetzseeheide</td></tr><tr class=even><td class=val><a href=\"https://piveau.offene.daten-brandenburg.de/api/hub/repo/datasets/09653fe3-ad6b-44d6-88e2-25b8042ee43d\" target=\"_other\">https://piveau.offene.daten-brandenburg.de/api/hub/repo/datasets/09653fe3-ad6b-44d6-88e2-25b8042ee43d</a></td>\n",
       "<td class=val>Baumkataster Frankfurt (Oder) - (WFS-BAUMKATASTER)</td>\n",
       "<td class=val>Der WFS Baumkataster beinhaltet alle Bäume die im öffentlichen Raum der Stadt Frankfurt (Oder) stehen.</td></tr></table><div class=\"tinfo\">Total: 4, Shown: 4</div></div>"
      ]
     },
     "metadata": {},
     "output_type": "display_data"
    }
   ],
   "source": [
    "%endpoint https://www.govdata.de/sparql\n",
    "PREFIX dcat: <http://www.w3.org/ns/dcat#>\n",
    "PREFIX dct: <http://purl.org/dc/terms/>\n",
    "PREFIX dcatde: <http://dcat-ap.de/def/dcatde/>\n",
    "PREFIX rdfs: <http://www.w3.org/2000/01/rdf-schema#>\n",
    "PREFIX pg: <http://dcat-ap.de/def/politicalGeocoding/>\n",
    "\n",
    "SELECT ?datasetURI ?datasetTitle ?datasetDescription\n",
    "WHERE {\n",
    "  ?datasetURI a dcat:Dataset;\n",
    "              dct:title ?datasetTitle;\n",
    "              dct:description ?datasetDescription;\n",
    "              dcatde:contributorID ?contributorID;\n",
    "              dct:modified ?modified.\n",
    "  OPTIONAL { ?datasetURI dcat:catalog ?catalog. }\n",
    "  \n",
    "  FILTER((LANG(?datasetTitle) = \"\" || LANG(?datasetTitle) = \"de\") && CONTAINS(LCASE(?datasetTitle), \"baumkataster\"))\n",
    "  \n",
    "  FILTER(\n",
    "    CONTAINS(STR(?modified), \"2017\") || \n",
    "    CONTAINS(STR(?modified), \"2018\") || \n",
    "    CONTAINS(STR(?modified), \"2019\") || \n",
    "    CONTAINS(STR(?modified), \"2020\") || \n",
    "    CONTAINS(STR(?modified), \"2021\") || \n",
    "    CONTAINS(STR(?modified), \"2022\") || \n",
    "    CONTAINS(STR(?modified), \"2023\") || \n",
    "    CONTAINS(STR(?modified), \"2024\") || \n",
    "    CONTAINS(STR(?modified), \"2025\")\n",
    "  )\n",
    "  \n",
    "  FILTER(?contributorID = <http://dcat-ap.de/def/contributors/openDataBrandenburg>)\n",
    "\n",
    "}\n",
    "ORDER BY ?datasetTitle\n"
   ]
  },
  {
   "cell_type": "code",
   "execution_count": 6,
   "id": "a8944e0d",
   "metadata": {
    "vscode": {
     "languageId": "plaintext"
    }
   },
   "outputs": [
    {
     "data": {
      "text/html": [
       "<div class=\"krn-spql\"><div class=\"magic\">Endpoint set to: https://www.govdata.de/sparql</div></div>"
      ],
      "text/plain": [
       "Endpoint set to: https://www.govdata.de/sparql\n"
      ]
     },
     "metadata": {},
     "output_type": "display_data"
    },
    {
     "data": {
      "text/html": [
       "<div class=\"krn-spql\"><table><tr class=hdr><th>datasetURI</th>\n",
       "<th>datasetTitle</th>\n",
       "<th>datasetDescription</th></tr><tr class=odd><td class=val><a href=\"https://open.bydata.de/api/hub/repo/datasets/baumkat_01\" target=\"_other\">https://open.bydata.de/api/hub/repo/datasets/baumkat_01</a></td>\n",
       "<td class=val>Baumkataster</td>\n",
       "<td class=val>Baumkataster Memmingen mit Informationen aller Bäume auf städtischem Grund für welches das Grünamt zuständig ist. Informationen zu Baumart, Plakettennummer, Baumhöhe und Kronenweite sind enthalten. Nutzungshinweis: Der Datensatz erhebt keinen Anspruch auf Korrektheit und Vollständigkeit. Er dient nicht als verbindliche und rechtliche Auskunft der Stadt Memmingen.</td></tr><tr class=even><td class=val><a href=\"https://open.bydata.de/api/hub/repo/datasets/baumkataster-der-stadt-erlangen\" target=\"_other\">https://open.bydata.de/api/hub/repo/datasets/baumkataster-der-stadt-erlangen</a></td>\n",
       "<td class=val>Baumkataster der Stadt Erlangen</td>\n",
       "<td class=val>Das Baumkataster der Stadt Erlangen enthält alle Bäume, die vom Eigenbetrieb für Stadtgrün der Stadt Erlangen gepflegt werden.  \r\n",
       "Im Stadtgebiet gibt es auch viele Bäume auf privaten Flächen oder Bäume, die vermeintlich auf öffentlichen Flächen stehen, die aber in anderen Zuständigkeitsbereichen liegen (z.B. Freistaat Bayern, Bund oder Deutsche Bahn).  \r\n",
       "Informationen zu solchen nicht-städtischen Baumstandorten sind in diesem Datensatz nicht enthalten.</td></tr><tr class=odd><td class=val><a href=\"https://open.bydata.de/api/hub/repo/datasets/baumkataster-haar\" target=\"_other\">https://open.bydata.de/api/hub/repo/datasets/baumkataster-haar</a></td>\n",
       "<td class=val>Baumkataster der Stadt Haar</td>\n",
       "<td class=val>Das Baumkataster der Stadt Haar dient als Verzeichnis zur Verwaltung der Daten über den Baumbestand auf öffentlichen Flächen im Stadtgebiet. Neben dem Plakettencode und Art eines Baumes sind auch Daten über seine Höhe, den Kronendurchmesser und -ansatz, den Stammumfang sowie die exakten Koordinaten im Datensatz enthalten. Durch die Nutzung dieser Daten ist es möglich, eine präzise Analyse des Baumbestands durchzuführen sowie die Integration von GIS zur räumlichen Zuordnung.\r\n",
       "\r\n",
       "Nutzungs- und Haftungsbestimmungen: \r\n",
       "Die in diesem Datensatz enthaltenen Informationen dienen als allgemeine Informationen über relevante Themen und stellen einen Service der Stadt Haar dar. Wir bemühen uns, alle angegebenen Informationen kontinuierlich zu aktualisieren und von höchster Qualität bereitzustellen. </td></tr><tr class=even><td class=val><a href=\"https://open.bydata.de/api/hub/repo/datasets/baumkataster-der-stadt-hassfurt\" target=\"_other\">https://open.bydata.de/api/hub/repo/datasets/baumkataster-der-stadt-hassfurt</a></td>\n",
       "<td class=val>Baumkataster der Stadt Haßfurt</td>\n",
       "<td class=val>Der Baumkataster der Stadt Haßfurt ist ein Verzeichnis zur  Verwaltung und Pflege des Baumbestands.\n",
       "Es umfasst Informationen wie Größe, Art, Alter und exakte Koordinaten der Bäume. \n",
       "Diese Daten ermöglichen eine präzise Analyse des Baumbestands, die Planung gezielter Pflege- und Entwicklungsmaßnahmen sowie die Integration von GIS zur räumlichen Zuordnung.\n",
       "</td></tr><tr class=odd><td class=val><a href=\"https://open.bydata.de/api/hub/repo/datasets/baumkataster_stadt_wuerzburg-wuerzburg\" target=\"_other\">https://open.bydata.de/api/hub/repo/datasets/baumkataster_stadt_wuerzburg-wuerzburg</a></td>\n",
       "<td class=val>Baumkataster der Stadt Würzburg</td>\n",
       "<td class=val>Ein Baumkataster dient als Verzeichnis zur Verwaltung von Stadt-, Straßen- oder Parkbäumen. Das Baumkataster der Stadt Würzburg gibt Auskunft zu über 40.000 Bäumen auf öffentlichen Flächen. Neben Art und Nummer eines Baumes, finden Sie im Datensatz Informationen über die Kronenbreite, Höhe sowie Stammumfang der jeweiligen Bäume. Zusätzlich dienen die Koordinaten der Bäume als örtliche Orientierung.Nutzungs- und Haftungsbestimmungen:Die in diesem Datensatz bereitgestellten Inhalte stellen einen Service der Stadt Würzburg dar und dienen als allgemeine Informationen über die entsprechenden Thematiken. Wir sind bemüht, alle angegebenen Informationen ständig zu aktualisieren und in hoher Qualität zur Verfügung zu stellen. Allerdings kann keine Garantie in Bezug auf die Richtigkeit und Vollständigkeit der Daten übernommen werden.</td></tr><tr class=even><td class=val><a href=\"https://open.bydata.de/api/hub/repo/datasets/baumkataster-des-marktes-goldbach-2024\" target=\"_other\">https://open.bydata.de/api/hub/repo/datasets/baumkataster-des-marktes-goldbach-2024</a></td>\n",
       "<td class=val>Baumkataster des Marktes Goldbach 2024</td>\n",
       "<td class=val>Das Baumkataster ist ein Hilfs- und Kontrollinstrument für verantwortungsbewusstes kommunales Handeln. Durch regelmäßige Kontrollen der Bäume kommt die Kommune ihrer Verkehrssicherungspflicht nach. Das Baumkataster wurde im August 2024 mit den bisher vorhandenen Daten erstellt. Verzeichnet sind Bäume auf öffentlichen Flächen und Grünanlagen. Erfasst wird die Baumart, der Plakettencode, die Höhe, der Kronendurchmesser, der Kronenansatz, die Altersgruppe, die Lebenserwartung, der Stammumfang, das Kontrolldatum und die nächste Kontrolle.</td></tr></table><div class=\"tinfo\">Total: 6, Shown: 6</div></div>"
      ]
     },
     "metadata": {},
     "output_type": "display_data"
    }
   ],
   "source": [
    "%endpoint https://www.govdata.de/sparql\n",
    "PREFIX dcat: <http://www.w3.org/ns/dcat#>\n",
    "PREFIX dct: <http://purl.org/dc/terms/>\n",
    "PREFIX dcatde: <http://dcat-ap.de/def/dcatde/>\n",
    "PREFIX rdfs: <http://www.w3.org/2000/01/rdf-schema#>\n",
    "PREFIX pg: <http://dcat-ap.de/def/politicalGeocoding/>\n",
    "\n",
    "SELECT ?datasetURI ?datasetTitle ?datasetDescription\n",
    "WHERE {\n",
    "  ?datasetURI a dcat:Dataset;\n",
    "              dct:title ?datasetTitle;\n",
    "              dct:description ?datasetDescription;\n",
    "              dcatde:contributorID ?contributorID;\n",
    "              dct:modified ?modified.\n",
    "  OPTIONAL { ?datasetURI dcat:catalog ?catalog. }\n",
    "  \n",
    "  FILTER((LANG(?datasetTitle) = \"\" || LANG(?datasetTitle) = \"de\") && CONTAINS(LCASE(?datasetTitle), \"baumkataster\"))\n",
    "  \n",
    "  FILTER(\n",
    "    CONTAINS(STR(?modified), \"2017\") || \n",
    "    CONTAINS(STR(?modified), \"2018\") || \n",
    "    CONTAINS(STR(?modified), \"2019\") || \n",
    "    CONTAINS(STR(?modified), \"2020\") || \n",
    "    CONTAINS(STR(?modified), \"2021\") || \n",
    "    CONTAINS(STR(?modified), \"2022\") || \n",
    "    CONTAINS(STR(?modified), \"2023\") || \n",
    "    CONTAINS(STR(?modified), \"2024\") || \n",
    "    CONTAINS(STR(?modified), \"2025\")\n",
    "  )\n",
    "  \n",
    "  FILTER(?contributorID = <http://dcat-ap.de/def/contributors/openDataBayern>)\n",
    "\n",
    "}\n",
    "ORDER BY ?datasetTitle\n"
   ]
  },
  {
   "cell_type": "code",
   "execution_count": 7,
   "id": "aaf8d0a1",
   "metadata": {
    "vscode": {
     "languageId": "plaintext"
    }
   },
   "outputs": [
    {
     "data": {
      "text/html": [
       "<div class=\"krn-spql\"><div class=\"magic\">Endpoint set to: https://data.europa.eu/sparql</div></div>"
      ],
      "text/plain": [
       "Endpoint set to: https://data.europa.eu/sparql\n"
      ]
     },
     "metadata": {},
     "output_type": "display_data"
    },
    {
     "data": {
      "text/html": [
       "<div class=\"krn-spql\"><table><tr class=hdr><th>datasetLink</th>\n",
       "<th>datasetTitle</th>\n",
       "<th>datasetDescription</th>\n",
       "<th>accessURL</th></tr><tr class=odd><td class=val><a href=\"http://data.europa.eu/88u/dataset/45a104e1-2a3e-4b90-9e24-dc97d34b3298\" target=\"_other\">http://data.europa.eu/88u/dataset/45a104e1-2a3e-4b90-9e24-dc97d34b3298</a></td>\n",
       "<td class=val>Baumkataster - Amt Beetsee Gemeinde Beetzseeheide</td>\n",
       "<td class=val>Datensatz zum Baumkataster (Standort, Baumart, Baummaße) im Bereich der Gemeinde Beetzseeheide</td>\n",
       "<td class=val><a href=\"https://www.geoportal-amt-beetzsee.de/katalog.php?view=show&id=236\" target=\"_other\">https://www.geoportal-amt-beetzsee.de/katalog.php?view=show&amp;id=236</a></td></tr><tr class=even><td class=val><a href=\"http://data.europa.eu/88u/dataset/45a104e1-2a3e-4b90-9e24-dc97d34b3298\" target=\"_other\">http://data.europa.eu/88u/dataset/45a104e1-2a3e-4b90-9e24-dc97d34b3298</a></td>\n",
       "<td class=val>Baumkataster - Amt Beetsee Gemeinde Beetzseeheide</td>\n",
       "<td class=val>Datensatz zum Baumkataster (Standort, Baumart, Baummaße) im Bereich der Gemeinde Beetzseeheide</td>\n",
       "<td class=val><a href=\"https://www.geoportal-amt-beetzsee.de/isk/baumkataster?REQUEST=GetCapabilities&SERVICE=WFS\" target=\"_other\">https://www.geoportal-amt-beetzsee.de/isk/baumkataster?REQUEST=GetCapabilities&amp;SERVICE=WFS</a></td></tr><tr class=odd><td class=val><a href=\"http://data.europa.eu/88u/dataset/3a14f846-13a1-47d9-874f-3843007d85b7\" target=\"_other\">http://data.europa.eu/88u/dataset/3a14f846-13a1-47d9-874f-3843007d85b7</a></td>\n",
       "<td class=val>Baumkataster - Amt Beetsee Gemeinde Beetzseeheide (WMS)</td>\n",
       "<td class=val>Geodienst (WMS) zum Baumkataster (Standort, Baumart, Baummaße) im Bereich der Gemeinde Beetzseeheide</td>\n",
       "<td class=val><a href=\"https://www.geoportal-amt-beetzsee.de/katalog.php?view=show&id=236\" target=\"_other\">https://www.geoportal-amt-beetzsee.de/katalog.php?view=show&amp;id=236</a></td></tr><tr class=even><td class=val><a href=\"http://data.europa.eu/88u/dataset/771b3471-f63a-4de8-b930-31dde0d23417\" target=\"_other\">http://data.europa.eu/88u/dataset/771b3471-f63a-4de8-b930-31dde0d23417</a></td>\n",
       "<td class=val>Baumkataster - Amt Beetsee Gemeinde Beetzseeheide (WFS)</td>\n",
       "<td class=val>Geodienst (WFS) zum Baumkataster (Standort, Baumart, Baummaße) im Bereich der Gemeinde Beetzseeheide</td>\n",
       "<td class=val><a href=\"https://www.geoportal-amt-beetzsee.de/katalog.php?view=show&id=236\" target=\"_other\">https://www.geoportal-amt-beetzsee.de/katalog.php?view=show&amp;id=236</a></td></tr><tr class=odd><td class=val><a href=\"http://data.europa.eu/88u/dataset/09653fe3-ad6b-44d6-88e2-25b8042ee43d~~1\" target=\"_other\">http://data.europa.eu/88u/dataset/09653fe3-ad6b-44d6-88e2-25b8042ee43d~~1</a></td>\n",
       "<td class=val>Baumkataster Frankfurt (Oder) - (WFS-BAUMKATASTER)</td>\n",
       "<td class=val>Der WFS Baumkataster beinhaltet alle Bäume die im öffentlichen Raum der Stadt Frankfurt (Oder) stehen.</td>\n",
       "<td class=val><a href=\"https://geoportal.frankfurt-oder.de/wss/service/WFS_Baumkataster/guest\" target=\"_other\">https://geoportal.frankfurt-oder.de/wss/service/WFS_Baumkataster/guest</a></td></tr></table><div class=\"tinfo\">Total: 5, Shown: 5</div></div>"
      ]
     },
     "metadata": {},
     "output_type": "display_data"
    }
   ],
   "source": [
    "%endpoint https://data.europa.eu/sparql\n",
    "PREFIX dcat: <http://www.w3.org/ns/dcat#>\n",
    "PREFIX dct: <http://purl.org/dc/terms/>\n",
    "PREFIX dcatde: <http://dcat-ap.de/def/dcatde/>\n",
    "\n",
    "SELECT DISTINCT ?datasetLink ?datasetTitle ?datasetDescription ?accessURL\n",
    "WHERE {\n",
    "  ?datasetLink a dcat:Dataset;\n",
    "               dct:title ?datasetTitle;\n",
    "               dct:description ?datasetDescription;\n",
    "               dcatde:contributorID <http://dcat-ap.de/def/contributors/openDataBrandenburg>;\n",
    "               dct:modified ?modified;\n",
    "               dcat:distribution ?distribution.\n",
    "\n",
    "  ?distribution dcat:accessURL ?accessURL.\n",
    "\n",
    "  FILTER((LANG(?datasetTitle) = \"\" || LANG(?datasetTitle) = \"de\") && CONTAINS(LCASE(?datasetTitle), \"baumkataster\"))\n",
    "\n",
    "  FILTER(\n",
    "    CONTAINS(STR(?modified), \"2017\") || \n",
    "    CONTAINS(STR(?modified), \"2018\") || \n",
    "    CONTAINS(STR(?modified), \"2019\") || \n",
    "    CONTAINS(STR(?modified), \"2020\") || \n",
    "    CONTAINS(STR(?modified), \"2021\") || \n",
    "    CONTAINS(STR(?modified), \"2022\") || \n",
    "    CONTAINS(STR(?modified), \"2023\") || \n",
    "    CONTAINS(STR(?modified), \"2024\") || \n",
    "    CONTAINS(STR(?modified), \"2025\")\n",
    "  )\n",
    "}\n",
    "ORDER BY ?datasetTitle\n"
   ]
  },
  {
   "cell_type": "code",
   "execution_count": 17,
   "id": "de8ca167",
   "metadata": {
    "vscode": {
     "languageId": "plaintext"
    }
   },
   "outputs": [
    {
     "data": {
      "text/html": [
       "<div class=\"krn-spql\"><div class=\"magic\">Endpoint set to: https://data.europa.eu/sparql</div></div>"
      ],
      "text/plain": [
       "Endpoint set to: https://data.europa.eu/sparql\n"
      ]
     },
     "metadata": {},
     "output_type": "display_data"
    },
    {
     "data": {
      "text/html": [
       "<div class=\"krn-spql\"><table><tr class=hdr><th>datasetLink</th>\n",
       "<th>datasetTitle</th></tr><tr class=odd><td class=val><a href=\"http://data.europa.eu/88u/dataset/baumkat_01\" target=\"_other\">http://data.europa.eu/88u/dataset/baumkat_01</a></td>\n",
       "<td class=val>Baumkataster</td></tr><tr class=even><td class=val><a href=\"http://data.europa.eu/88u/dataset/baumkataster_stadt_wuerzburg-wuerzburg\" target=\"_other\">http://data.europa.eu/88u/dataset/baumkataster_stadt_wuerzburg-wuerzburg</a></td>\n",
       "<td class=val>Baumkataster der Stadt Würzburg</td></tr><tr class=odd><td class=val><a href=\"http://data.europa.eu/88u/dataset/https-open-bydata-de-api-hub-repo-datasets-baumkataster-der-stadt-hassfurt\" target=\"_other\">http://data.europa.eu/88u/dataset/https-open-bydata-de-api-hub-repo-datasets-baumkataster-der-stadt-hassfurt</a></td>\n",
       "<td class=val>Baumkataster der Stadt Haßfurt</td></tr><tr class=even><td class=val><a href=\"http://data.europa.eu/88u/dataset/https-open-bydata-de-api-hub-repo-datasets-baumkataster-der-stadt-erlangen\" target=\"_other\">http://data.europa.eu/88u/dataset/https-open-bydata-de-api-hub-repo-datasets-baumkataster-der-stadt-erlangen</a></td>\n",
       "<td class=val>Baumkataster der Stadt Erlangen</td></tr><tr class=odd><td class=val><a href=\"http://data.europa.eu/88u/dataset/https-open-bydata-de-api-hub-repo-datasets-baumkataster-haar\" target=\"_other\">http://data.europa.eu/88u/dataset/https-open-bydata-de-api-hub-repo-datasets-baumkataster-haar</a></td>\n",
       "<td class=val>Baumkataster der Stadt Haar</td></tr><tr class=even><td class=val><a href=\"http://data.europa.eu/88u/dataset/https-open-bydata-de-api-hub-repo-datasets-baumkataster-des-marktes-goldbach-2024\" target=\"_other\">http://data.europa.eu/88u/dataset/https-open-bydata-de-api-hub-repo-datasets-baumkataster-des-marktes-goldbach-2024</a></td>\n",
       "<td class=val>Baumkataster des Marktes Goldbach 2024</td></tr></table><div class=\"tinfo\">Total: 6, Shown: 6</div></div>"
      ]
     },
     "metadata": {},
     "output_type": "display_data"
    }
   ],
   "source": [
    "%endpoint https://data.europa.eu/sparql\n",
    "PREFIX dcat: <http://www.w3.org/ns/dcat#>\n",
    "PREFIX dct: <http://purl.org/dc/terms/>\n",
    "PREFIX dcatde: <http://dcat-ap.de/def/dcatde/>\n",
    "\n",
    "SELECT DISTINCT ?datasetLink ?datasetTitle\n",
    "WHERE {\n",
    "  ?datasetLink a dcat:Dataset;\n",
    "               dct:title ?datasetTitle;\n",
    "               dcatde:contributorID <http://dcat-ap.de/def/contributors/openDataBayern>;\n",
    "               dct:modified ?modified;\n",
    "               dcat:distribution ?distribution.\n",
    "\n",
    "  ?distribution dcat:accessURL ?accessURL.\n",
    "\n",
    "  FILTER((LANG(?datasetTitle) = \"\" || LANG(?datasetTitle) = \"de\") && CONTAINS(LCASE(?datasetTitle), \"baumkataster\"))\n",
    "\n",
    "  FILTER(\n",
    "    CONTAINS(STR(?modified), \"2017\") || \n",
    "    CONTAINS(STR(?modified), \"2018\") || \n",
    "    CONTAINS(STR(?modified), \"2019\") || \n",
    "    CONTAINS(STR(?modified), \"2020\") || \n",
    "    CONTAINS(STR(?modified), \"2021\") || \n",
    "    CONTAINS(STR(?modified), \"2022\") || \n",
    "    CONTAINS(STR(?modified), \"2023\") || \n",
    "    CONTAINS(STR(?modified), \"2024\") || \n",
    "    CONTAINS(STR(?modified), \"2025\")\n",
    "  )\n",
    "}\n",
    "ORDER BY ?datasetTitle\n"
   ]
  },
  {
   "cell_type": "code",
   "execution_count": 18,
   "id": "e093da90",
   "metadata": {
    "vscode": {
     "languageId": "plaintext"
    }
   },
   "outputs": [
    {
     "data": {
      "text/html": [
       "<div class=\"krn-spql\"><div class=\"magic\">Endpoint set to: https://www.govdata.de/sparql</div></div>"
      ],
      "text/plain": [
       "Endpoint set to: https://www.govdata.de/sparql\n"
      ]
     },
     "metadata": {},
     "output_type": "display_data"
    },
    {
     "data": {
      "text/html": [
       "<div class=\"krn-spql\"><table><tr class=hdr><th>datasetURI</th>\n",
       "<th>datasetTitle</th>\n",
       "<th>datasetDescription</th>\n",
       "<th>accessURL</th></tr><tr class=odd><td class=val><a href=\"https://open.bydata.de/api/hub/repo/datasets/baumkat_01\" target=\"_other\">https://open.bydata.de/api/hub/repo/datasets/baumkat_01</a></td>\n",
       "<td class=val>Baumkataster</td>\n",
       "<td class=val>Baumkataster Memmingen mit Informationen aller Bäume auf städtischem Grund für welches das Grünamt zuständig ist. Informationen zu Baumart, Plakettennummer, Baumhöhe und Kronenweite sind enthalten. Nutzungshinweis: Der Datensatz erhebt keinen Anspruch auf Korrektheit und Vollständigkeit. Er dient nicht als verbindliche und rechtliche Auskunft der Stadt Memmingen.</td>\n",
       "<td class=val></td></tr><tr class=even><td class=val><a href=\"https://open.bydata.de/api/hub/repo/datasets/baumkataster-der-stadt-erlangen\" target=\"_other\">https://open.bydata.de/api/hub/repo/datasets/baumkataster-der-stadt-erlangen</a></td>\n",
       "<td class=val>Baumkataster der Stadt Erlangen</td>\n",
       "<td class=val>Das Baumkataster der Stadt Erlangen enthält alle Bäume, die vom Eigenbetrieb für Stadtgrün der Stadt Erlangen gepflegt werden.  \r\n",
       "Im Stadtgebiet gibt es auch viele Bäume auf privaten Flächen oder Bäume, die vermeintlich auf öffentlichen Flächen stehen, die aber in anderen Zuständigkeitsbereichen liegen (z.B. Freistaat Bayern, Bund oder Deutsche Bahn).  \r\n",
       "Informationen zu solchen nicht-städtischen Baumstandorten sind in diesem Datensatz nicht enthalten.</td>\n",
       "<td class=val></td></tr><tr class=odd><td class=val><a href=\"https://open.bydata.de/api/hub/repo/datasets/baumkataster-haar\" target=\"_other\">https://open.bydata.de/api/hub/repo/datasets/baumkataster-haar</a></td>\n",
       "<td class=val>Baumkataster der Stadt Haar</td>\n",
       "<td class=val>Das Baumkataster der Stadt Haar dient als Verzeichnis zur Verwaltung der Daten über den Baumbestand auf öffentlichen Flächen im Stadtgebiet. Neben dem Plakettencode und Art eines Baumes sind auch Daten über seine Höhe, den Kronendurchmesser und -ansatz, den Stammumfang sowie die exakten Koordinaten im Datensatz enthalten. Durch die Nutzung dieser Daten ist es möglich, eine präzise Analyse des Baumbestands durchzuführen sowie die Integration von GIS zur räumlichen Zuordnung.\r\n",
       "\r\n",
       "Nutzungs- und Haftungsbestimmungen: \r\n",
       "Die in diesem Datensatz enthaltenen Informationen dienen als allgemeine Informationen über relevante Themen und stellen einen Service der Stadt Haar dar. Wir bemühen uns, alle angegebenen Informationen kontinuierlich zu aktualisieren und von höchster Qualität bereitzustellen. </td>\n",
       "<td class=val></td></tr><tr class=even><td class=val><a href=\"https://open.bydata.de/api/hub/repo/datasets/baumkataster-der-stadt-hassfurt\" target=\"_other\">https://open.bydata.de/api/hub/repo/datasets/baumkataster-der-stadt-hassfurt</a></td>\n",
       "<td class=val>Baumkataster der Stadt Haßfurt</td>\n",
       "<td class=val>Der Baumkataster der Stadt Haßfurt ist ein Verzeichnis zur  Verwaltung und Pflege des Baumbestands.\n",
       "Es umfasst Informationen wie Größe, Art, Alter und exakte Koordinaten der Bäume. \n",
       "Diese Daten ermöglichen eine präzise Analyse des Baumbestands, die Planung gezielter Pflege- und Entwicklungsmaßnahmen sowie die Integration von GIS zur räumlichen Zuordnung.\n",
       "</td>\n",
       "<td class=val></td></tr><tr class=odd><td class=val><a href=\"https://open.bydata.de/api/hub/repo/datasets/baumkataster_stadt_wuerzburg-wuerzburg\" target=\"_other\">https://open.bydata.de/api/hub/repo/datasets/baumkataster_stadt_wuerzburg-wuerzburg</a></td>\n",
       "<td class=val>Baumkataster der Stadt Würzburg</td>\n",
       "<td class=val>Ein Baumkataster dient als Verzeichnis zur Verwaltung von Stadt-, Straßen- oder Parkbäumen. Das Baumkataster der Stadt Würzburg gibt Auskunft zu über 40.000 Bäumen auf öffentlichen Flächen. Neben Art und Nummer eines Baumes, finden Sie im Datensatz Informationen über die Kronenbreite, Höhe sowie Stammumfang der jeweiligen Bäume. Zusätzlich dienen die Koordinaten der Bäume als örtliche Orientierung.Nutzungs- und Haftungsbestimmungen:Die in diesem Datensatz bereitgestellten Inhalte stellen einen Service der Stadt Würzburg dar und dienen als allgemeine Informationen über die entsprechenden Thematiken. Wir sind bemüht, alle angegebenen Informationen ständig zu aktualisieren und in hoher Qualität zur Verfügung zu stellen. Allerdings kann keine Garantie in Bezug auf die Richtigkeit und Vollständigkeit der Daten übernommen werden.</td>\n",
       "<td class=val></td></tr><tr class=even><td class=val><a href=\"https://open.bydata.de/api/hub/repo/datasets/baumkataster-des-marktes-goldbach-2024\" target=\"_other\">https://open.bydata.de/api/hub/repo/datasets/baumkataster-des-marktes-goldbach-2024</a></td>\n",
       "<td class=val>Baumkataster des Marktes Goldbach 2024</td>\n",
       "<td class=val>Das Baumkataster ist ein Hilfs- und Kontrollinstrument für verantwortungsbewusstes kommunales Handeln. Durch regelmäßige Kontrollen der Bäume kommt die Kommune ihrer Verkehrssicherungspflicht nach. Das Baumkataster wurde im August 2024 mit den bisher vorhandenen Daten erstellt. Verzeichnet sind Bäume auf öffentlichen Flächen und Grünanlagen. Erfasst wird die Baumart, der Plakettencode, die Höhe, der Kronendurchmesser, der Kronenansatz, die Altersgruppe, die Lebenserwartung, der Stammumfang, das Kontrolldatum und die nächste Kontrolle.</td>\n",
       "<td class=val></td></tr></table><div class=\"tinfo\">Total: 6, Shown: 6</div></div>"
      ]
     },
     "metadata": {},
     "output_type": "display_data"
    }
   ],
   "source": [
    "%endpoint https://www.govdata.de/sparql\n",
    "PREFIX dcat: <http://www.w3.org/ns/dcat#>\n",
    "PREFIX dct: <http://purl.org/dc/terms/>\n",
    "PREFIX dcatde: <http://dcat-ap.de/def/dcatde/>\n",
    "PREFIX rdfs: <http://www.w3.org/2000/01/rdf-schema#>\n",
    "PREFIX pg: <http://dcat-ap.de/def/politicalGeocoding/>\n",
    "\n",
    "SELECT ?datasetURI ?datasetTitle ?datasetDescription ?accessURL\n",
    "WHERE {\n",
    "  ?datasetURI a dcat:Dataset;\n",
    "              dct:title ?datasetTitle;\n",
    "              dct:description ?datasetDescription;\n",
    "              dcatde:contributorID ?contributorID;\n",
    "              dct:modified ?modified.\n",
    "  \n",
    "  OPTIONAL { \n",
    "    ?datasetURI dcat:catalog ?catalog. \n",
    "    ?datasetURI dcat:accessURL ?accessURL.  # Add access URL\n",
    "  }\n",
    "  \n",
    "  FILTER((LANG(?datasetTitle) = \"\" || LANG(?datasetTitle) = \"de\") && CONTAINS(LCASE(?datasetTitle), \"baumkataster\"))\n",
    "  \n",
    "  FILTER(\n",
    "    CONTAINS(STR(?modified), \"2017\") || \n",
    "    CONTAINS(STR(?modified), \"2018\") || \n",
    "    CONTAINS(STR(?modified), \"2019\") || \n",
    "    CONTAINS(STR(?modified), \"2020\") || \n",
    "    CONTAINS(STR(?modified), \"2021\") || \n",
    "    CONTAINS(STR(?modified), \"2022\") || \n",
    "    CONTAINS(STR(?modified), \"2023\") || \n",
    "    CONTAINS(STR(?modified), \"2024\") || \n",
    "    CONTAINS(STR(?modified), \"2025\")\n",
    "  )\n",
    "  \n",
    "  FILTER(?contributorID = <http://dcat-ap.de/def/contributors/openDataBayern>)\n",
    "\n",
    "}\n",
    "ORDER BY ?datasetTitle\n"
   ]
  },
  {
   "cell_type": "code",
   "execution_count": 19,
   "id": "d273de45",
   "metadata": {
    "vscode": {
     "languageId": "plaintext"
    }
   },
   "outputs": [
    {
     "data": {
      "text/html": [
       "<div class=\"krn-spql\"><div class=\"magic\">Endpoint set to: https://www.govdata.de/sparql</div></div>"
      ],
      "text/plain": [
       "Endpoint set to: https://www.govdata.de/sparql\n"
      ]
     },
     "metadata": {},
     "output_type": "display_data"
    },
    {
     "data": {
      "text/html": [
       "<div class=\"krn-spql\"><table><tr class=hdr><th>datasetLink</th>\n",
       "<th>datasetTitle</th>\n",
       "<th>datasetDescription</th>\n",
       "<th>accessURL</th></tr><tr class=odd><td class=val><a href=\"https://open.bydata.de/api/hub/repo/datasets/baumkat_01\" target=\"_other\">https://open.bydata.de/api/hub/repo/datasets/baumkat_01</a></td>\n",
       "<td class=val>Baumkataster</td>\n",
       "<td class=val>Baumkataster Memmingen mit Informationen aller Bäume auf städtischem Grund für welches das Grünamt zuständig ist. Informationen zu Baumart, Plakettennummer, Baumhöhe und Kronenweite sind enthalten. Nutzungshinweis: Der Datensatz erhebt keinen Anspruch auf Korrektheit und Vollständigkeit. Er dient nicht als verbindliche und rechtliche Auskunft der Stadt Memmingen.</td>\n",
       "<td class=val></td></tr><tr class=even><td class=val><a href=\"https://open.bydata.de/api/hub/repo/datasets/baumkataster-der-stadt-erlangen\" target=\"_other\">https://open.bydata.de/api/hub/repo/datasets/baumkataster-der-stadt-erlangen</a></td>\n",
       "<td class=val>Baumkataster der Stadt Erlangen</td>\n",
       "<td class=val>Das Baumkataster der Stadt Erlangen enthält alle Bäume, die vom Eigenbetrieb für Stadtgrün der Stadt Erlangen gepflegt werden.  \r\n",
       "Im Stadtgebiet gibt es auch viele Bäume auf privaten Flächen oder Bäume, die vermeintlich auf öffentlichen Flächen stehen, die aber in anderen Zuständigkeitsbereichen liegen (z.B. Freistaat Bayern, Bund oder Deutsche Bahn).  \r\n",
       "Informationen zu solchen nicht-städtischen Baumstandorten sind in diesem Datensatz nicht enthalten.</td>\n",
       "<td class=val></td></tr><tr class=odd><td class=val><a href=\"https://open.bydata.de/api/hub/repo/datasets/baumkataster-haar\" target=\"_other\">https://open.bydata.de/api/hub/repo/datasets/baumkataster-haar</a></td>\n",
       "<td class=val>Baumkataster der Stadt Haar</td>\n",
       "<td class=val>Das Baumkataster der Stadt Haar dient als Verzeichnis zur Verwaltung der Daten über den Baumbestand auf öffentlichen Flächen im Stadtgebiet. Neben dem Plakettencode und Art eines Baumes sind auch Daten über seine Höhe, den Kronendurchmesser und -ansatz, den Stammumfang sowie die exakten Koordinaten im Datensatz enthalten. Durch die Nutzung dieser Daten ist es möglich, eine präzise Analyse des Baumbestands durchzuführen sowie die Integration von GIS zur räumlichen Zuordnung.\r\n",
       "\r\n",
       "Nutzungs- und Haftungsbestimmungen: \r\n",
       "Die in diesem Datensatz enthaltenen Informationen dienen als allgemeine Informationen über relevante Themen und stellen einen Service der Stadt Haar dar. Wir bemühen uns, alle angegebenen Informationen kontinuierlich zu aktualisieren und von höchster Qualität bereitzustellen. </td>\n",
       "<td class=val></td></tr><tr class=even><td class=val><a href=\"https://open.bydata.de/api/hub/repo/datasets/baumkataster-der-stadt-hassfurt\" target=\"_other\">https://open.bydata.de/api/hub/repo/datasets/baumkataster-der-stadt-hassfurt</a></td>\n",
       "<td class=val>Baumkataster der Stadt Haßfurt</td>\n",
       "<td class=val>Der Baumkataster der Stadt Haßfurt ist ein Verzeichnis zur  Verwaltung und Pflege des Baumbestands.\n",
       "Es umfasst Informationen wie Größe, Art, Alter und exakte Koordinaten der Bäume. \n",
       "Diese Daten ermöglichen eine präzise Analyse des Baumbestands, die Planung gezielter Pflege- und Entwicklungsmaßnahmen sowie die Integration von GIS zur räumlichen Zuordnung.\n",
       "</td>\n",
       "<td class=val></td></tr><tr class=odd><td class=val><a href=\"https://open.bydata.de/api/hub/repo/datasets/baumkataster_stadt_wuerzburg-wuerzburg\" target=\"_other\">https://open.bydata.de/api/hub/repo/datasets/baumkataster_stadt_wuerzburg-wuerzburg</a></td>\n",
       "<td class=val>Baumkataster der Stadt Würzburg</td>\n",
       "<td class=val>Ein Baumkataster dient als Verzeichnis zur Verwaltung von Stadt-, Straßen- oder Parkbäumen. Das Baumkataster der Stadt Würzburg gibt Auskunft zu über 40.000 Bäumen auf öffentlichen Flächen. Neben Art und Nummer eines Baumes, finden Sie im Datensatz Informationen über die Kronenbreite, Höhe sowie Stammumfang der jeweiligen Bäume. Zusätzlich dienen die Koordinaten der Bäume als örtliche Orientierung.Nutzungs- und Haftungsbestimmungen:Die in diesem Datensatz bereitgestellten Inhalte stellen einen Service der Stadt Würzburg dar und dienen als allgemeine Informationen über die entsprechenden Thematiken. Wir sind bemüht, alle angegebenen Informationen ständig zu aktualisieren und in hoher Qualität zur Verfügung zu stellen. Allerdings kann keine Garantie in Bezug auf die Richtigkeit und Vollständigkeit der Daten übernommen werden.</td>\n",
       "<td class=val></td></tr><tr class=even><td class=val><a href=\"https://open.bydata.de/api/hub/repo/datasets/baumkataster-des-marktes-goldbach-2024\" target=\"_other\">https://open.bydata.de/api/hub/repo/datasets/baumkataster-des-marktes-goldbach-2024</a></td>\n",
       "<td class=val>Baumkataster des Marktes Goldbach 2024</td>\n",
       "<td class=val>Das Baumkataster ist ein Hilfs- und Kontrollinstrument für verantwortungsbewusstes kommunales Handeln. Durch regelmäßige Kontrollen der Bäume kommt die Kommune ihrer Verkehrssicherungspflicht nach. Das Baumkataster wurde im August 2024 mit den bisher vorhandenen Daten erstellt. Verzeichnet sind Bäume auf öffentlichen Flächen und Grünanlagen. Erfasst wird die Baumart, der Plakettencode, die Höhe, der Kronendurchmesser, der Kronenansatz, die Altersgruppe, die Lebenserwartung, der Stammumfang, das Kontrolldatum und die nächste Kontrolle.</td>\n",
       "<td class=val></td></tr></table><div class=\"tinfo\">Total: 6, Shown: 6</div></div>"
      ]
     },
     "metadata": {},
     "output_type": "display_data"
    }
   ],
   "source": [
    "%endpoint https://www.govdata.de/sparql\n",
    "PREFIX dcat: <http://www.w3.org/ns/dcat#>\n",
    "PREFIX dct: <http://purl.org/dc/terms/>\n",
    "PREFIX dcatde: <http://dcat-ap.de/def/dcatde/>\n",
    "PREFIX rdfs: <http://www.w3.org/2000/01/rdf-schema#>\n",
    "PREFIX pg: <http://dcat-ap.de/def/politicalGeocoding/>\n",
    "\n",
    "SELECT ?datasetLink ?datasetTitle ?datasetDescription ?accessURL\n",
    "WHERE {\n",
    "  ?datasetLink a dcat:Dataset;\n",
    "               dct:title ?datasetTitle;\n",
    "               dct:description ?datasetDescription;\n",
    "               dcatde:contributorID ?contributorID;\n",
    "               dct:modified ?modified.\n",
    "  \n",
    "  OPTIONAL { \n",
    "    ?datasetLink dcat:catalog ?catalog. \n",
    "    ?datasetLink dcat:accessURL ?accessURL.  # Add access URL\n",
    "  }\n",
    "  \n",
    "  FILTER((LANG(?datasetTitle) = \"\" || LANG(?datasetTitle) = \"de\") && CONTAINS(LCASE(?datasetTitle), \"baumkataster\"))\n",
    "  \n",
    "  FILTER(\n",
    "    CONTAINS(STR(?modified), \"2017\") || \n",
    "    CONTAINS(STR(?modified), \"2018\") || \n",
    "    CONTAINS(STR(?modified), \"2019\") || \n",
    "    CONTAINS(STR(?modified), \"2020\") || \n",
    "    CONTAINS(STR(?modified), \"2021\") || \n",
    "    CONTAINS(STR(?modified), \"2022\") || \n",
    "    CONTAINS(STR(?modified), \"2023\") || \n",
    "    CONTAINS(STR(?modified), \"2024\") || \n",
    "    CONTAINS(STR(?modified), \"2025\")\n",
    "  )\n",
    "  \n",
    "  FILTER(?contributorID = <http://dcat-ap.de/def/contributors/openDataBayern>)\n",
    "\n",
    "}\n",
    "ORDER BY ?datasetTitle\n"
   ]
  },
  {
   "cell_type": "code",
   "execution_count": 1,
   "id": "534edd5a",
   "metadata": {
    "vscode": {
     "languageId": "plaintext"
    }
   },
   "outputs": [
    {
     "data": {
      "text/html": [
       "<div class=\"krn-spql\"><div class=\"magic\">Endpoint set to: https://www.govdata.de/sparql</div></div>"
      ],
      "text/plain": [
       "Endpoint set to: https://www.govdata.de/sparql\n"
      ]
     },
     "metadata": {},
     "output_type": "display_data"
    },
    {
     "data": {
      "text/html": [
       "<div class=\"krn-spql\"><table><tr class=hdr><th>datasetURI</th>\n",
       "<th>datasetTitle</th>\n",
       "<th>datasetDescription</th>\n",
       "<th>accessURL</th></tr><tr class=odd><td class=val><a href=\"https://open-data.dortmund.de/api/v2/catalog/datasets/baumkataster\" target=\"_other\">https://open-data.dortmund.de/api/v2/catalog/datasets/baumkataster</a></td>\n",
       "<td class=val>Baumkataster</td>\n",
       "<td class=val>Kataster der städtischen Bäume in Dortmund.</td>\n",
       "<td class=val></td></tr><tr class=even><td class=val><a href=\"https://offenedaten-koeln.de/dataset/baumkataster-koeln-2017\" target=\"_other\">https://offenedaten-koeln.de/dataset/baumkataster-koeln-2017</a></td>\n",
       "<td class=val>Baumkataster Koeln 2017</td>\n",
       "<td class=val>&lt;p&gt;Baumkataster  Stand 2017. Inklusive Georeferenzierung und Angaben nach Art, Gattung und Alter der erfassten Bäume.&lt;/p&gt;\n",
       "&lt;p&gt;&lt;strong&gt;Was bedeuten die Felder?&lt;/strong&gt;&lt;/p&gt;\n",
       "&lt;p&gt;&lt;strong&gt;Objekttyp&lt;/strong&gt;: Es gibt 14 Objekttypen die wie folgt unterteilt sind:&lt;/p&gt;\n",
       "&lt;p&gt;1 NN; 2 Kleingarten; 3 Sportplatz; 4 Kinderspielplatz; 5 Gebäude/Schule/Heim; 6 Straße/Platz; 7 Grünanlage; 8 Friedhof; 9 Biotopflächen; 10 Fluss/Bach; 11 Sonderanlage; 12 Forst; 13 Ausgleichsfläche; 14 Unbekannt&lt;/p&gt;\n",
       "&lt;p&gt;&lt;strong&gt;Baumbest_1&lt;/strong&gt; : Z.B Baumbest:1 : 22P =&amp;gt; 22 P ist die Baumnummer&lt;br /&gt;\n",
       "Gängig sind folgende Buchstabenkürzel:&lt;br /&gt;\n",
       "G = Bäume auf der Seite mit geraden Hausnummern&lt;br /&gt;\n",
       "U = Bäume auf der Seite mit ungeraden Hausnummern&lt;br /&gt;\n",
       "P = Bäume auf einen Platz&lt;br /&gt;\n",
       "M = Bäume auf einem Mittelstreifen&lt;br /&gt;\n",
       "MU = Bäume auf einem Mittelstreifen zur Seite mit den ungeraden Hausnummern&lt;br /&gt;\n",
       "MG = Bäume auf einem Mittelstreifen zur Seite mit den geraden Hausnummern&lt;br /&gt;\n",
       "MM = Bäume auf einem Mittelstreifen in der mittleren Reihe&lt;br /&gt;\n",
       "Ein Teil der Bäume hat auch nur eine Nummer, das ist z.B. auf Spielplätzen der Fall oder wenn in einer Straße nur wenige Bäume stehen.&lt;br /&gt;\n",
       "Die Nummerierung ist teilweise so eingerichtet, dass bei einem Kontrollgang der kürzeste Weg genommen werden kann – dafür sind die Buchstaben teilweise auch hinter die Baumnummern gesetzt.&lt;br /&gt;\n",
       " &lt;/p&gt;\n",
       "&lt;p&gt;&lt;strong&gt;STAMMVON: &lt;/strong&gt;z.B.&lt;strong&gt; &lt;/strong&gt;&quot;STAMMVON&quot;: 0.0&lt;br /&gt;\n",
       "Bei 2- oder mehrstämmigen Bäumen wird einmal der kleinste und einmal der größte Stammdurchmesser in cm angegeben.&lt;br /&gt;\n",
       "Der kleinste Stammdurchmesser wird bei „Stamm von“ und der größte bei „Stamm bis“&lt;br /&gt;\n",
       " &lt;/p&gt;\n",
       "&lt;p&gt;&lt;strong&gt;STAMMBIS: &lt;/strong&gt;z.B. &quot;STAMMBIS&quot;: 50.0&lt;br /&gt;\n",
       "Die ist die Angabe des Stammdurchmessers in cm.&lt;br /&gt;\n",
       "Bei 2- oder mehrstämmigen Bäume erfolgt hierunter der Eintrag des größten Stammdurchmessers&lt;/p&gt;\n",
       "&lt;p&gt;&lt;strong&gt;KRONE:  &lt;/strong&gt;z.B. &quot;KRONE&quot;: 8.0&lt;br /&gt;\n",
       "Die ist die Angabe zum Durchmesser der Krone in Meter.&lt;/p&gt;\n",
       "&lt;p&gt;&lt;strong&gt;H_HE: &lt;/strong&gt;z.B. &quot;H_HE&quot;: 10.0,&lt;br /&gt;\n",
       "Dies ist die Angabe zur Höhe des Baumes in Meter.&lt;/p&gt;\n",
       "&lt;p&gt;&lt;strong&gt;Sorte:&lt;/strong&gt; z.B.&lt;br /&gt;\n",
       "&quot;Sorte&quot;: null,&lt;br /&gt;\n",
       "In der botanischen Nomenklatur unterteilt man Pflanzen in Gattung, Art und Sorte&lt;br /&gt;\n",
       "Bei Pflanzungen in früheren Zeiten wurden hierzu leider keine Angaben gemacht. Bei Neupflanzungen sollen diese Einträge nun standardmäßig durchgeführt werden.&lt;br /&gt;\n",
       "Der Eintrag „null“ gibt an, dass hier keine Sorte eingetragen wurde.&lt;br /&gt;\n",
       " &lt;/p&gt;\n",
       "&lt;p&gt;Information&lt;/p&gt;\n",
       "&lt;p&gt;Es sind noch nicht alle Bäume erfasst, die Erfassung des gesamten städtischen Baumbestandes wird angestrebt. Der Datensatz wird aus diesem Grunde unregelmäßig aktualisiert. Der Einsatz einer neuen Software ist in Planung und soll mittelfristig auch den Abruf von Daten des Baumkatatsers erleichtern.&lt;/p&gt;\n",
       "</td>\n",
       "<td class=val></td></tr><tr class=odd><td class=val><a href=\"https://offenedaten-koeln.de/dataset/baumkataster-koeln-2020\" target=\"_other\">https://offenedaten-koeln.de/dataset/baumkataster-koeln-2020</a></td>\n",
       "<td class=val>Baumkataster Koeln 2020</td>\n",
       "<td class=val>&lt;p&gt;Baumkataster  Stand 2020. Inklusive Georeferenzierung und Angaben nach Art, Gattung und Alter der erfassten Bäume.&lt;/p&gt;\n",
       "&lt;p&gt;&lt;strong&gt;Was bedeuten die Felder?&lt;/strong&gt;&lt;/p&gt;\n",
       "&lt;p&gt;&lt;strong&gt;Objekttyp&lt;/strong&gt;: Es gibt 14 Objekttypen die wie folgt unterteilt sind:&lt;/p&gt;\n",
       "&lt;p&gt;1 NN; 2 Kleingarten; 3 Sportplatz; 4 Kinderspielplatz; 5 Gebäude/Schule/Heim; 6 Straße/Platz; 7 Grünanlage; 8 Friedhof; 9 Biotopflächen; 10 Fluss/Bach; 11 Sonderanlage; 12 Forst; 13 Ausgleichsfläche; 14 Unbekannt&lt;/p&gt;\n",
       "&lt;p&gt;&lt;strong&gt;Baumbest_1&lt;/strong&gt; : Z.B Baumbest:1 : 22P =&amp;gt; 22 P ist die Baumnummer&lt;br /&gt;\n",
       "Gängig sind folgende Buchstabenkürzel:&lt;br /&gt;\n",
       "G = Bäume auf der Seite mit geraden Hausnummern&lt;br /&gt;\n",
       "U = Bäume auf der Seite mit ungeraden Hausnummern&lt;br /&gt;\n",
       "P = Bäume auf einen Platz&lt;br /&gt;\n",
       "M = Bäume auf einem Mittelstreifen&lt;br /&gt;\n",
       "MU = Bäume auf einem Mittelstreifen zur Seite mit den ungeraden Hausnummern&lt;br /&gt;\n",
       "MG = Bäume auf einem Mittelstreifen zur Seite mit den geraden Hausnummern&lt;br /&gt;\n",
       "MM = Bäume auf einem Mittelstreifen in der mittleren Reihe&lt;br /&gt;\n",
       "Ein Teil der Bäume hat auch nur eine Nummer, das ist z.B. auf Spielplätzen der Fall oder wenn in einer Straße nur wenige Bäume stehen.&lt;br /&gt;\n",
       "Die Nummerierung ist teilweise so eingerichtet, dass bei einem Kontrollgang der kürzeste Weg genommen werden kann – dafür sind die Buchstaben teilweise auch hinter die Baumnummern gesetzt.&lt;br /&gt;\n",
       " &lt;/p&gt;\n",
       "&lt;p&gt;&lt;strong&gt;STAMMVON: &lt;/strong&gt;z.B.&lt;strong&gt; &lt;/strong&gt;&quot;STAMMVON&quot;: 0.0&lt;br /&gt;\n",
       "Bei 2- oder mehrstämmigen Bäumen wird einmal der kleinste und einmal der größte Stammdurchmesser in cm angegeben.&lt;br /&gt;\n",
       "Der kleinste Stammdurchmesser wird bei „Stamm von“ und der größte bei „Stamm bis“&lt;br /&gt;\n",
       " &lt;/p&gt;\n",
       "&lt;p&gt;&lt;strong&gt;STAMMBIS: &lt;/strong&gt;z.B. &quot;STAMMBIS&quot;: 50.0&lt;br /&gt;\n",
       "Die ist die Angabe des Stammdurchmessers in cm.&lt;br /&gt;\n",
       "Bei 2- oder mehrstämmigen Bäume erfolgt hierunter der Eintrag des größten Stammdurchmessers&lt;/p&gt;\n",
       "&lt;p&gt;&lt;strong&gt;KRONE:  &lt;/strong&gt;z.B. &quot;KRONE&quot;: 8.0&lt;br /&gt;\n",
       "Die ist die Angabe zum Durchmesser der Krone in Meter.&lt;/p&gt;\n",
       "&lt;p&gt;&lt;strong&gt;H_HE: &lt;/strong&gt;z.B. &quot;H_HE&quot;: 10.0,&lt;br /&gt;\n",
       "Dies ist die Angabe zur Höhe des Baumes in Meter.&lt;/p&gt;\n",
       "&lt;p&gt;&lt;strong&gt;Sorte:&lt;/strong&gt; z.B.&lt;br /&gt;\n",
       "&quot;Sorte&quot;: null,&lt;br /&gt;\n",
       "In der botanischen Nomenklatur unterteilt man Pflanzen in Gattung, Art und Sorte&lt;br /&gt;\n",
       "Bei Pflanzungen in früheren Zeiten wurden hierzu leider keine Angaben gemacht. Bei Neupflanzungen sollen diese Einträge nun standardmäßig durchgeführt werden.&lt;br /&gt;\n",
       "Der Eintrag „null“ gibt an, dass hier keine Sorte eingetragen wurde.&lt;br /&gt;\n",
       " &lt;/p&gt;\n",
       "&lt;p&gt;Information&lt;/p&gt;\n",
       "&lt;p&gt;Es sind noch nicht alle Bäume erfasst, die Erfassung des gesamten städtischen Baumbestandes wird angestrebt. Der Datensatz wird aus diesem Grunde unregelmäßig aktualisiert. Der Einsatz einer neuen Software ist in Planung und soll mittelfristig auch den Abruf von Daten des Baumkatatsers erleichtern.&lt;/p&gt;\n",
       "</td>\n",
       "<td class=val></td></tr><tr class=even><td class=val><a href=\"https://opendata.ruhr/dataset/200e532c-a381-4611-ba05-4ed7afc31230\" target=\"_other\">https://opendata.ruhr/dataset/200e532c-a381-4611-ba05-4ed7afc31230</a></td>\n",
       "<td class=val>Baumkataster des ASG Wesel</td>\n",
       "<td class=val>Der ASG Wesel führt ein Baumkataster zur Pflege der Bestände auf den Flächen der Stadt Wesel. Der Datensatz wird regelmäßig aktualisiert.</td>\n",
       "<td class=val></td></tr><tr class=odd><td class=val><a href=\"https://offenedaten.kdvz.nrw/dataset/d30-baumkataster-der-kreisstadt-bergheim\" target=\"_other\">https://offenedaten.kdvz.nrw/dataset/d30-baumkataster-der-kreisstadt-bergheim</a></td>\n",
       "<td class=val>D30 Baumkataster der Kreisstadt Bergheim</td>\n",
       "<td class=val>&lt;p&gt;Baumkataster der Kreisstadt Bergheim&amp;nbsp;als Shape-, Excel- sowie CSV Datei.&lt;/p&gt;\n",
       "\n",
       "&lt;p&gt;Die Dateien enthalten Angaben zu Standort, Baumnummer, Gattung, deutscher Bezeichnung sowie Stammumfang.&lt;/p&gt;\n",
       "\n",
       "&lt;p&gt;&lt;strong&gt;Hinweis:&lt;/strong&gt;&lt;/p&gt;\n",
       "\n",
       "&lt;p&gt;Es sind noch nicht alle Bäume erfasst, die Erfassung des gesamten städtischen Baumbestandes wird angestrebt. Der Datensatz wird aus diesem Grunde unregelmäßig aktualisiert.&lt;/p&gt;\n",
       "</td>\n",
       "<td class=val></td></tr><tr class=even><td class=val><a href=\"https://opendata.stadt-muenster.de/dataset/digitales-baumkataster-m%C3%BCnster\" target=\"_other\">https://opendata.stadt-muenster.de/dataset/digitales-baumkataster-m%C3%BCnster</a></td>\n",
       "<td class=val>Digitales Baumkataster Münster</td>\n",
       "<td class=val>&lt;p&gt;Das Amt für Grünflächen, Umwelt und Nachhaltigkeit pflegt alle Bäume auf städtischen Flächen. Sie stehen vorwiegend in Park- und Grünanlagen, entlang von Straßen und Wegen, auf Spielplätzen und Schulhöfen, in Kindertageseinrichtungen und natürlich im Wald. Insgesamt werden rund 100.000 Einzelbäume baumpflegerisch betreut. Knapp die Hälfte der Baum-Standorte davon ist digital erfasst und in diesem Datensatz enthalten.&lt;/p&gt;\n",
       "\n",
       "&lt;p&gt;Dieser Datensatz enthält für einen Teil der städtischen Bäume die Information über: Geokoordinaten des Baumes und Art des Baumes (im Datensatz steht jeweils der lateinische Name der Baumgruppe).&lt;/p&gt;\n",
       "\n",
       "&lt;p&gt;Bitte beachten Sie, dass es im Stadtgebiet auch viele Bäume auf privaten Flächen gibt, oder Bäume, die vermeintlich auf öffentlichen Flächen stehen, aber in anderen Zuständigkeitsbereichen liegen (z.B. Straßen.NRW, Land NRW, Deutsche Bahn). Informationen zu solchen nicht-städtischen Baumstandorten sind in diesem Datensatz nicht enthalten.&lt;br /&gt;\n",
       "&lt;br /&gt;\n",
       "Weiterhin ist die digitale Erfassung der städtischen Bäume außerhalb des Promenadenringes noch nicht abgeschlossen, weswegen dieser Datensatz im Bereich außerhalb des Promenadenringes noch nicht alle Bäume enthält.&lt;br /&gt;\n",
       "&lt;br /&gt;\n",
       "Die Daten spiegeln den folgenden Stand wieder:&lt;br /&gt;\n",
       "- Innerhalb des Promenadenrings: Stand im Jahr 2020&lt;br /&gt;\n",
       "- Außerhalb des Promenadenrings: Stand im Jahr 2017, unvollständig&lt;/p&gt;\n",
       "</td>\n",
       "<td class=val></td></tr></table><div class=\"tinfo\">Total: 6, Shown: 6</div></div>"
      ]
     },
     "metadata": {},
     "output_type": "display_data"
    }
   ],
   "source": [
    "%endpoint https://www.govdata.de/sparql\n",
    "PREFIX dcat: <http://www.w3.org/ns/dcat#>\n",
    "PREFIX dct: <http://purl.org/dc/terms/>\n",
    "PREFIX dcatde: <http://dcat-ap.de/def/dcatde/>\n",
    "PREFIX rdfs: <http://www.w3.org/2000/01/rdf-schema#>\n",
    "PREFIX pg: <http://dcat-ap.de/def/politicalGeocoding/>\n",
    "\n",
    "SELECT ?datasetURI ?datasetTitle ?datasetDescription ?accessURL\n",
    "WHERE {\n",
    "  ?datasetURI a dcat:Dataset;\n",
    "              dct:title ?datasetTitle;\n",
    "              dct:description ?datasetDescription;\n",
    "              dcatde:contributorID ?contributorID;\n",
    "              dct:modified ?modified.\n",
    "  \n",
    "  OPTIONAL { \n",
    "    ?datasetURI dcat:catalog ?catalog. \n",
    "    ?datasetURI dcat:accessURL ?accessURL.  # Add access URL\n",
    "  }\n",
    "  \n",
    "  FILTER((LANG(?datasetTitle) = \"\" || LANG(?datasetTitle) = \"de\") && CONTAINS(LCASE(?datasetTitle), \"baumkataster\"))\n",
    "  \n",
    "  FILTER(\n",
    "    CONTAINS(STR(?modified), \"2017\") || \n",
    "    CONTAINS(STR(?modified), \"2018\") || \n",
    "    CONTAINS(STR(?modified), \"2019\") || \n",
    "    CONTAINS(STR(?modified), \"2020\") || \n",
    "    CONTAINS(STR(?modified), \"2021\") || \n",
    "    CONTAINS(STR(?modified), \"2022\") || \n",
    "    CONTAINS(STR(?modified), \"2023\") || \n",
    "    CONTAINS(STR(?modified), \"2024\") || \n",
    "    CONTAINS(STR(?modified), \"2025\")\n",
    "  )\n",
    "  \n",
    "  FILTER(?contributorID = <http://dcat-ap.de/def/contributors/openNRW>)\n",
    "\n",
    "}\n",
    "ORDER BY ?datasetTitle"
   ]
  },
  {
   "cell_type": "code",
   "execution_count": 3,
   "id": "0ae39e3c",
   "metadata": {
    "vscode": {
     "languageId": "plaintext"
    }
   },
   "outputs": [
    {
     "data": {
      "text/html": [
       "<div class=\"krn-spql\"><table><tr class=hdr><th>datasetLink</th>\n",
       "<th>datasetTitle</th>\n",
       "<th>datasetDescription</th>\n",
       "<th>accessURL</th></tr><tr class=odd><td class=val><a href=\"https://datenregister.berlin.de/dataset/324910a8-ee97-489c-a519-8694077e0863\" target=\"_other\">https://datenregister.berlin.de/dataset/324910a8-ee97-489c-a519-8694077e0863</a></td>\n",
       "<td class=val>Straßenbaumpflanzungen in Steglitz-Zehlendorf</td>\n",
       "<td class=val>Diese Liste enthält die bereits erfolgten Pflanzungen. Die bereits beauftragten Pflanzungen werden erst nach der Durchführung in das Baumkataster übernommen.\n",
       "Die enthaltenen Bäume wurden mit Hilfe von Spenden an den Bezirk, durch die Spendenaktion der Stadtbaumkampagne, durch unsere Auszubildenden und durch Firmen im Auftrag des Bezirks zu unterschiedlichen Zeitpunkten gepflanzt.\n",
       "Die Neupflanzungen erhalten eine dreijährige Anwachspflege. Eine beauftragte Gießpflege im 4. und 5. Standjahr schließt sich an. In Trockenperioden können Sie als Anwohnerinnen und Anwohner mit zusätzlichen Wassergaben die “Durststrecke” überwinden helfen und unterstützen uns damit sehr.</td>\n",
       "<td class=val></td></tr></table><div class=\"tinfo\">Total: 1, Shown: 1</div></div>"
      ]
     },
     "metadata": {},
     "output_type": "display_data"
    }
   ],
   "source": [
    "PREFIX dcat: <http://www.w3.org/ns/dcat#>\n",
    "PREFIX dct: <http://purl.org/dc/terms/>\n",
    "PREFIX rdfs: <http://www.w3.org/2000/01/rdf-schema#>\n",
    "\n",
    "SELECT ?datasetLink ?datasetTitle ?datasetDescription ?accessURL\n",
    "WHERE {\n",
    "  ?datasetLink a dcat:Dataset ;\n",
    "               dct:title ?datasetTitle ;\n",
    "               dct:description ?datasetDescription .\n",
    "\n",
    "  OPTIONAL {\n",
    "    ?datasetLink dcat:accessURL ?accessURL .\n",
    "  }\n",
    "\n",
    "  FILTER(LANG(?datasetTitle) = \"de\" || LANG(?datasetTitle) = \"\")\n",
    "  FILTER(CONTAINS(LCASE(STR(?datasetTitle)), \"straßenbaumpflanzungen in steglitz-zehlendorf\"))\n",
    "}\n",
    "ORDER BY ?datasetTitle\n"
   ]
  },
  {
   "cell_type": "code",
   "execution_count": 2,
   "id": "3bac7fde",
   "metadata": {
    "vscode": {
     "languageId": "plaintext"
    }
   },
   "outputs": [
    {
     "data": {
      "text/html": [
       "<div class=\"krn-spql\"><div class=\"magic\">Endpoint set to: https://www.govdata.de/sparql</div></div>"
      ],
      "text/plain": [
       "Endpoint set to: https://www.govdata.de/sparql\n"
      ]
     },
     "metadata": {},
     "output_type": "display_data"
    },
    {
     "data": {
      "text/html": [
       "<div class=\"krn-spql\"><table><tr class=hdr><th>dataset</th>\n",
       "<th>datasetTitle</th>\n",
       "<th>description</th>\n",
       "<th>accessURL</th></tr><tr class=odd><td class=val><a href=\"https://datenregister.berlin.de/dataset/324910a8-ee97-489c-a519-8694077e0863\" target=\"_other\">https://datenregister.berlin.de/dataset/324910a8-ee97-489c-a519-8694077e0863</a></td>\n",
       "<td class=val>Straßenbaumpflanzungen in Steglitz-Zehlendorf</td>\n",
       "<td class=val>Diese Liste enthält die bereits erfolgten Pflanzungen. Die bereits beauftragten Pflanzungen werden erst nach der Durchführung in das Baumkataster übernommen.\n",
       "Die enthaltenen Bäume wurden mit Hilfe von Spenden an den Bezirk, durch die Spendenaktion der Stadtbaumkampagne, durch unsere Auszubildenden und durch Firmen im Auftrag des Bezirks zu unterschiedlichen Zeitpunkten gepflanzt.\n",
       "Die Neupflanzungen erhalten eine dreijährige Anwachspflege. Eine beauftragte Gießpflege im 4. und 5. Standjahr schließt sich an. In Trockenperioden können Sie als Anwohnerinnen und Anwohner mit zusätzlichen Wassergaben die “Durststrecke” überwinden helfen und unterstützen uns damit sehr.</td>\n",
       "<td class=val><a href=\"https://www.berlin.de/ba-steglitz-zehlendorf/politik-und-verwaltung/aemter/strassen-und-gruenflaechenamt/gruenflaechen/baeume/baumpflanzungen/index.php\" target=\"_other\">https://www.berlin.de/ba-steglitz-zehlendorf/politik-und-verwaltung/aemter/strassen-und-gruenflaechenamt/gruenflaechen/baeume/baumpflanzungen/index.php</a></td></tr><tr class=even><td class=val><a href=\"https://datenregister.berlin.de/dataset/324910a8-ee97-489c-a519-8694077e0863\" target=\"_other\">https://datenregister.berlin.de/dataset/324910a8-ee97-489c-a519-8694077e0863</a></td>\n",
       "<td class=val>Straßenbaumpflanzungen in Steglitz-Zehlendorf</td>\n",
       "<td class=val>Diese Liste enthält die bereits erfolgten Pflanzungen. Die bereits beauftragten Pflanzungen werden erst nach der Durchführung in das Baumkataster übernommen.\n",
       "Die enthaltenen Bäume wurden mit Hilfe von Spenden an den Bezirk, durch die Spendenaktion der Stadtbaumkampagne, durch unsere Auszubildenden und durch Firmen im Auftrag des Bezirks zu unterschiedlichen Zeitpunkten gepflanzt.\n",
       "Die Neupflanzungen erhalten eine dreijährige Anwachspflege. Eine beauftragte Gießpflege im 4. und 5. Standjahr schließt sich an. In Trockenperioden können Sie als Anwohnerinnen und Anwohner mit zusätzlichen Wassergaben die “Durststrecke” überwinden helfen und unterstützen uns damit sehr.</td>\n",
       "<td class=val><a href=\"https://www.berlin.de/ba-steglitz-zehlendorf/politik-und-verwaltung/aemter/strassen-und-gruenflaechenamt/gruenflaechen/baeume/baumpflanzungen/index.php/index/all.csv?q=\" target=\"_other\">https://www.berlin.de/ba-steglitz-zehlendorf/politik-und-verwaltung/aemter/strassen-und-gruenflaechenamt/gruenflaechen/baeume/baumpflanzungen/index.php/index/all.csv?q=</a></td></tr><tr class=odd><td class=val><a href=\"https://datenregister.berlin.de/dataset/324910a8-ee97-489c-a519-8694077e0863\" target=\"_other\">https://datenregister.berlin.de/dataset/324910a8-ee97-489c-a519-8694077e0863</a></td>\n",
       "<td class=val>Straßenbaumpflanzungen in Steglitz-Zehlendorf</td>\n",
       "<td class=val>Diese Liste enthält die bereits erfolgten Pflanzungen. Die bereits beauftragten Pflanzungen werden erst nach der Durchführung in das Baumkataster übernommen.\n",
       "Die enthaltenen Bäume wurden mit Hilfe von Spenden an den Bezirk, durch die Spendenaktion der Stadtbaumkampagne, durch unsere Auszubildenden und durch Firmen im Auftrag des Bezirks zu unterschiedlichen Zeitpunkten gepflanzt.\n",
       "Die Neupflanzungen erhalten eine dreijährige Anwachspflege. Eine beauftragte Gießpflege im 4. und 5. Standjahr schließt sich an. In Trockenperioden können Sie als Anwohnerinnen und Anwohner mit zusätzlichen Wassergaben die “Durststrecke” überwinden helfen und unterstützen uns damit sehr.</td>\n",
       "<td class=val><a href=\"https://www.berlin.de/ba-steglitz-zehlendorf/politik-und-verwaltung/aemter/strassen-und-gruenflaechenamt/gruenflaechen/baeume/baumpflanzungen/index.php/index/all.json?q=\" target=\"_other\">https://www.berlin.de/ba-steglitz-zehlendorf/politik-und-verwaltung/aemter/strassen-und-gruenflaechenamt/gruenflaechen/baeume/baumpflanzungen/index.php/index/all.json?q=</a></td></tr><tr class=even><td class=val><a href=\"https://datenregister.berlin.de/dataset/324910a8-ee97-489c-a519-8694077e0863\" target=\"_other\">https://datenregister.berlin.de/dataset/324910a8-ee97-489c-a519-8694077e0863</a></td>\n",
       "<td class=val>Straßenbaumpflanzungen in Steglitz-Zehlendorf</td>\n",
       "<td class=val>Diese Liste enthält die bereits erfolgten Pflanzungen. Die bereits beauftragten Pflanzungen werden erst nach der Durchführung in das Baumkataster übernommen.\n",
       "Die enthaltenen Bäume wurden mit Hilfe von Spenden an den Bezirk, durch die Spendenaktion der Stadtbaumkampagne, durch unsere Auszubildenden und durch Firmen im Auftrag des Bezirks zu unterschiedlichen Zeitpunkten gepflanzt.\n",
       "Die Neupflanzungen erhalten eine dreijährige Anwachspflege. Eine beauftragte Gießpflege im 4. und 5. Standjahr schließt sich an. In Trockenperioden können Sie als Anwohnerinnen und Anwohner mit zusätzlichen Wassergaben die “Durststrecke” überwinden helfen und unterstützen uns damit sehr.</td>\n",
       "<td class=val><a href=\"https://www.berlin.de/ba-steglitz-zehlendorf/politik-und-verwaltung/aemter/strassen-und-gruenflaechenamt/gruenflaechen/baeume/baumpflanzungen/index.php/index/all.xls?q=\" target=\"_other\">https://www.berlin.de/ba-steglitz-zehlendorf/politik-und-verwaltung/aemter/strassen-und-gruenflaechenamt/gruenflaechen/baeume/baumpflanzungen/index.php/index/all.xls?q=</a></td></tr><tr class=odd><td class=val><a href=\"https://datenregister.berlin.de/dataset/324910a8-ee97-489c-a519-8694077e0863\" target=\"_other\">https://datenregister.berlin.de/dataset/324910a8-ee97-489c-a519-8694077e0863</a></td>\n",
       "<td class=val>Straßenbaumpflanzungen in Steglitz-Zehlendorf</td>\n",
       "<td class=val>Diese Liste enthält die bereits erfolgten Pflanzungen. Die bereits beauftragten Pflanzungen werden erst nach der Durchführung in das Baumkataster übernommen.\n",
       "Die enthaltenen Bäume wurden mit Hilfe von Spenden an den Bezirk, durch die Spendenaktion der Stadtbaumkampagne, durch unsere Auszubildenden und durch Firmen im Auftrag des Bezirks zu unterschiedlichen Zeitpunkten gepflanzt.\n",
       "Die Neupflanzungen erhalten eine dreijährige Anwachspflege. Eine beauftragte Gießpflege im 4. und 5. Standjahr schließt sich an. In Trockenperioden können Sie als Anwohnerinnen und Anwohner mit zusätzlichen Wassergaben die “Durststrecke” überwinden helfen und unterstützen uns damit sehr.</td>\n",
       "<td class=val><a href=\"https://www.berlin.de/ba-steglitz-zehlendorf/politik-und-verwaltung/aemter/strassen-und-gruenflaechenamt/gruenflaechen/baeume/baumpflanzungen/index.php/index/all.xml?q=\" target=\"_other\">https://www.berlin.de/ba-steglitz-zehlendorf/politik-und-verwaltung/aemter/strassen-und-gruenflaechenamt/gruenflaechen/baeume/baumpflanzungen/index.php/index/all.xml?q=</a></td></tr></table><div class=\"tinfo\">Total: 5, Shown: 5</div></div>"
      ]
     },
     "metadata": {},
     "output_type": "display_data"
    }
   ],
   "source": [
    "%endpoint https://www.govdata.de/sparql\n",
    "PREFIX dcat: <http://www.w3.org/ns/dcat#>\n",
    "PREFIX dct: <http://purl.org/dc/terms/>\n",
    "PREFIX dcatde: <http://dcat-ap.de/def/dcatde/>\n",
    "PREFIX rdfs: <http://www.w3.org/2000/01/rdf-schema#>\n",
    "\n",
    "SELECT ?dataset ?datasetTitle ?description ?accessURL\n",
    "WHERE {\n",
    "  ?dataset a dcat:Dataset ;\n",
    "           dct:title ?datasetTitle ;\n",
    "           dct:description ?description ;\n",
    "           dcat:distribution ?distribution .\n",
    "\n",
    "  ?distribution dcat:accessURL ?accessURL .\n",
    "\n",
    "  FILTER(\n",
    "    CONTAINS(LCASE(STR(?accessURL)), \"berlin.de\") &&\n",
    "    CONTAINS(LCASE(STR(?accessURL)), \"ba-steglitz-zehlendorf\") &&\n",
    "    CONTAINS(LCASE(STR(?accessURL)), \"baumpflanzungen\")\n",
    "  )\n",
    "\n",
    "  FILTER(LANG(?datasetTitle) = \"de\" || LANG(?datasetTitle) = \"\")\n",
    "  FILTER(LANG(?description) = \"de\" || LANG(?description) = \"\")\n",
    "}\n",
    "ORDER BY ?datasetTitle\n"
   ]
  },
  {
   "cell_type": "code",
   "execution_count": 2,
   "id": "4c9ce0bc",
   "metadata": {
    "vscode": {
     "languageId": "plaintext"
    }
   },
   "outputs": [
    {
     "data": {
      "text/html": [
       "<div class=\"krn-spql\"><div class=\"magic\">Endpoint set to: https://www.govdata.de/sparql</div></div>"
      ],
      "text/plain": [
       "Endpoint set to: https://www.govdata.de/sparql\n"
      ]
     },
     "metadata": {},
     "output_type": "display_data"
    },
    {
     "data": {
      "text/html": [
       "<div class=\"krn-spql\"><table><tr class=hdr><th>datasetURI</th>\n",
       "<th>datasetTitle</th>\n",
       "<th>datasetDescription</th>\n",
       "<th>accessURL</th></tr><tr class=odd><td class=val><a href=\"https://open-data.dortmund.de/api/v2/catalog/datasets/baumkataster\" target=\"_other\">https://open-data.dortmund.de/api/v2/catalog/datasets/baumkataster</a></td>\n",
       "<td class=val>Baumkataster</td>\n",
       "<td class=val>Kataster der städtischen Bäume in Dortmund.</td>\n",
       "<td class=val></td></tr><tr class=even><td class=val><a href=\"https://offenedaten-koeln.de/dataset/baumkataster-koeln-2017\" target=\"_other\">https://offenedaten-koeln.de/dataset/baumkataster-koeln-2017</a></td>\n",
       "<td class=val>Baumkataster Koeln 2017</td>\n",
       "<td class=val>&lt;p&gt;Baumkataster  Stand 2017. Inklusive Georeferenzierung und Angaben nach Art, Gattung und Alter der erfassten Bäume.&lt;/p&gt;\n",
       "&lt;p&gt;&lt;strong&gt;Was bedeuten die Felder?&lt;/strong&gt;&lt;/p&gt;\n",
       "&lt;p&gt;&lt;strong&gt;Objekttyp&lt;/strong&gt;: Es gibt 14 Objekttypen die wie folgt unterteilt sind:&lt;/p&gt;\n",
       "&lt;p&gt;1 NN; 2 Kleingarten; 3 Sportplatz; 4 Kinderspielplatz; 5 Gebäude/Schule/Heim; 6 Straße/Platz; 7 Grünanlage; 8 Friedhof; 9 Biotopflächen; 10 Fluss/Bach; 11 Sonderanlage; 12 Forst; 13 Ausgleichsfläche; 14 Unbekannt&lt;/p&gt;\n",
       "&lt;p&gt;&lt;strong&gt;Baumbest_1&lt;/strong&gt; : Z.B Baumbest:1 : 22P =&amp;gt; 22 P ist die Baumnummer&lt;br /&gt;\n",
       "Gängig sind folgende Buchstabenkürzel:&lt;br /&gt;\n",
       "G = Bäume auf der Seite mit geraden Hausnummern&lt;br /&gt;\n",
       "U = Bäume auf der Seite mit ungeraden Hausnummern&lt;br /&gt;\n",
       "P = Bäume auf einen Platz&lt;br /&gt;\n",
       "M = Bäume auf einem Mittelstreifen&lt;br /&gt;\n",
       "MU = Bäume auf einem Mittelstreifen zur Seite mit den ungeraden Hausnummern&lt;br /&gt;\n",
       "MG = Bäume auf einem Mittelstreifen zur Seite mit den geraden Hausnummern&lt;br /&gt;\n",
       "MM = Bäume auf einem Mittelstreifen in der mittleren Reihe&lt;br /&gt;\n",
       "Ein Teil der Bäume hat auch nur eine Nummer, das ist z.B. auf Spielplätzen der Fall oder wenn in einer Straße nur wenige Bäume stehen.&lt;br /&gt;\n",
       "Die Nummerierung ist teilweise so eingerichtet, dass bei einem Kontrollgang der kürzeste Weg genommen werden kann – dafür sind die Buchstaben teilweise auch hinter die Baumnummern gesetzt.&lt;br /&gt;\n",
       " &lt;/p&gt;\n",
       "&lt;p&gt;&lt;strong&gt;STAMMVON: &lt;/strong&gt;z.B.&lt;strong&gt; &lt;/strong&gt;&quot;STAMMVON&quot;: 0.0&lt;br /&gt;\n",
       "Bei 2- oder mehrstämmigen Bäumen wird einmal der kleinste und einmal der größte Stammdurchmesser in cm angegeben.&lt;br /&gt;\n",
       "Der kleinste Stammdurchmesser wird bei „Stamm von“ und der größte bei „Stamm bis“&lt;br /&gt;\n",
       " &lt;/p&gt;\n",
       "&lt;p&gt;&lt;strong&gt;STAMMBIS: &lt;/strong&gt;z.B. &quot;STAMMBIS&quot;: 50.0&lt;br /&gt;\n",
       "Die ist die Angabe des Stammdurchmessers in cm.&lt;br /&gt;\n",
       "Bei 2- oder mehrstämmigen Bäume erfolgt hierunter der Eintrag des größten Stammdurchmessers&lt;/p&gt;\n",
       "&lt;p&gt;&lt;strong&gt;KRONE:  &lt;/strong&gt;z.B. &quot;KRONE&quot;: 8.0&lt;br /&gt;\n",
       "Die ist die Angabe zum Durchmesser der Krone in Meter.&lt;/p&gt;\n",
       "&lt;p&gt;&lt;strong&gt;H_HE: &lt;/strong&gt;z.B. &quot;H_HE&quot;: 10.0,&lt;br /&gt;\n",
       "Dies ist die Angabe zur Höhe des Baumes in Meter.&lt;/p&gt;\n",
       "&lt;p&gt;&lt;strong&gt;Sorte:&lt;/strong&gt; z.B.&lt;br /&gt;\n",
       "&quot;Sorte&quot;: null,&lt;br /&gt;\n",
       "In der botanischen Nomenklatur unterteilt man Pflanzen in Gattung, Art und Sorte&lt;br /&gt;\n",
       "Bei Pflanzungen in früheren Zeiten wurden hierzu leider keine Angaben gemacht. Bei Neupflanzungen sollen diese Einträge nun standardmäßig durchgeführt werden.&lt;br /&gt;\n",
       "Der Eintrag „null“ gibt an, dass hier keine Sorte eingetragen wurde.&lt;br /&gt;\n",
       " &lt;/p&gt;\n",
       "&lt;p&gt;Information&lt;/p&gt;\n",
       "&lt;p&gt;Es sind noch nicht alle Bäume erfasst, die Erfassung des gesamten städtischen Baumbestandes wird angestrebt. Der Datensatz wird aus diesem Grunde unregelmäßig aktualisiert. Der Einsatz einer neuen Software ist in Planung und soll mittelfristig auch den Abruf von Daten des Baumkatatsers erleichtern.&lt;/p&gt;\n",
       "</td>\n",
       "<td class=val></td></tr><tr class=odd><td class=val><a href=\"https://offenedaten-koeln.de/dataset/baumkataster-koeln-2020\" target=\"_other\">https://offenedaten-koeln.de/dataset/baumkataster-koeln-2020</a></td>\n",
       "<td class=val>Baumkataster Koeln 2020</td>\n",
       "<td class=val>&lt;p&gt;Baumkataster  Stand 2020. Inklusive Georeferenzierung und Angaben nach Art, Gattung und Alter der erfassten Bäume.&lt;/p&gt;\n",
       "&lt;p&gt;&lt;strong&gt;Was bedeuten die Felder?&lt;/strong&gt;&lt;/p&gt;\n",
       "&lt;p&gt;&lt;strong&gt;Objekttyp&lt;/strong&gt;: Es gibt 14 Objekttypen die wie folgt unterteilt sind:&lt;/p&gt;\n",
       "&lt;p&gt;1 NN; 2 Kleingarten; 3 Sportplatz; 4 Kinderspielplatz; 5 Gebäude/Schule/Heim; 6 Straße/Platz; 7 Grünanlage; 8 Friedhof; 9 Biotopflächen; 10 Fluss/Bach; 11 Sonderanlage; 12 Forst; 13 Ausgleichsfläche; 14 Unbekannt&lt;/p&gt;\n",
       "&lt;p&gt;&lt;strong&gt;Baumbest_1&lt;/strong&gt; : Z.B Baumbest:1 : 22P =&amp;gt; 22 P ist die Baumnummer&lt;br /&gt;\n",
       "Gängig sind folgende Buchstabenkürzel:&lt;br /&gt;\n",
       "G = Bäume auf der Seite mit geraden Hausnummern&lt;br /&gt;\n",
       "U = Bäume auf der Seite mit ungeraden Hausnummern&lt;br /&gt;\n",
       "P = Bäume auf einen Platz&lt;br /&gt;\n",
       "M = Bäume auf einem Mittelstreifen&lt;br /&gt;\n",
       "MU = Bäume auf einem Mittelstreifen zur Seite mit den ungeraden Hausnummern&lt;br /&gt;\n",
       "MG = Bäume auf einem Mittelstreifen zur Seite mit den geraden Hausnummern&lt;br /&gt;\n",
       "MM = Bäume auf einem Mittelstreifen in der mittleren Reihe&lt;br /&gt;\n",
       "Ein Teil der Bäume hat auch nur eine Nummer, das ist z.B. auf Spielplätzen der Fall oder wenn in einer Straße nur wenige Bäume stehen.&lt;br /&gt;\n",
       "Die Nummerierung ist teilweise so eingerichtet, dass bei einem Kontrollgang der kürzeste Weg genommen werden kann – dafür sind die Buchstaben teilweise auch hinter die Baumnummern gesetzt.&lt;br /&gt;\n",
       " &lt;/p&gt;\n",
       "&lt;p&gt;&lt;strong&gt;STAMMVON: &lt;/strong&gt;z.B.&lt;strong&gt; &lt;/strong&gt;&quot;STAMMVON&quot;: 0.0&lt;br /&gt;\n",
       "Bei 2- oder mehrstämmigen Bäumen wird einmal der kleinste und einmal der größte Stammdurchmesser in cm angegeben.&lt;br /&gt;\n",
       "Der kleinste Stammdurchmesser wird bei „Stamm von“ und der größte bei „Stamm bis“&lt;br /&gt;\n",
       " &lt;/p&gt;\n",
       "&lt;p&gt;&lt;strong&gt;STAMMBIS: &lt;/strong&gt;z.B. &quot;STAMMBIS&quot;: 50.0&lt;br /&gt;\n",
       "Die ist die Angabe des Stammdurchmessers in cm.&lt;br /&gt;\n",
       "Bei 2- oder mehrstämmigen Bäume erfolgt hierunter der Eintrag des größten Stammdurchmessers&lt;/p&gt;\n",
       "&lt;p&gt;&lt;strong&gt;KRONE:  &lt;/strong&gt;z.B. &quot;KRONE&quot;: 8.0&lt;br /&gt;\n",
       "Die ist die Angabe zum Durchmesser der Krone in Meter.&lt;/p&gt;\n",
       "&lt;p&gt;&lt;strong&gt;H_HE: &lt;/strong&gt;z.B. &quot;H_HE&quot;: 10.0,&lt;br /&gt;\n",
       "Dies ist die Angabe zur Höhe des Baumes in Meter.&lt;/p&gt;\n",
       "&lt;p&gt;&lt;strong&gt;Sorte:&lt;/strong&gt; z.B.&lt;br /&gt;\n",
       "&quot;Sorte&quot;: null,&lt;br /&gt;\n",
       "In der botanischen Nomenklatur unterteilt man Pflanzen in Gattung, Art und Sorte&lt;br /&gt;\n",
       "Bei Pflanzungen in früheren Zeiten wurden hierzu leider keine Angaben gemacht. Bei Neupflanzungen sollen diese Einträge nun standardmäßig durchgeführt werden.&lt;br /&gt;\n",
       "Der Eintrag „null“ gibt an, dass hier keine Sorte eingetragen wurde.&lt;br /&gt;\n",
       " &lt;/p&gt;\n",
       "&lt;p&gt;Information&lt;/p&gt;\n",
       "&lt;p&gt;Es sind noch nicht alle Bäume erfasst, die Erfassung des gesamten städtischen Baumbestandes wird angestrebt. Der Datensatz wird aus diesem Grunde unregelmäßig aktualisiert. Der Einsatz einer neuen Software ist in Planung und soll mittelfristig auch den Abruf von Daten des Baumkatatsers erleichtern.&lt;/p&gt;\n",
       "</td>\n",
       "<td class=val></td></tr><tr class=even><td class=val><a href=\"https://ckan.open.nrw.de/dataset/3336544c-86db-45f3-ae61-3f62105f0250\" target=\"_other\">https://ckan.open.nrw.de/dataset/3336544c-86db-45f3-ae61-3f62105f0250</a></td>\n",
       "<td class=val>Baumkataster Stadt Köln</td>\n",
       "<td class=val>Das Baumkataster der Stadt Köln enthält ausschließlich von der Stadt Köln verwaltete und betreute Einzelbäume im Straßenland, sowie auf bebauten städtischen Objekten und deckt daher nicht den gesamten städtischen Baumbestand im Stadtgebiet ab. Die dargestellten Bäume werden durch das Amt für Landschaftspflege und Grünflächen regelmäßig kontrolliert und gepflegt. Der Datensatz wird täglich aktualisiert und spiegelt den aktuellen Stand der Datenerfassung wider. Der dargestellte Baumbestand dient nur als Planungsergänzung und ersetzt bei Baumaßnahmen weder die Funktion eines amtlichen Lageplans, noch ist er mit diesem gleichzusetzen. Die Gewährleistung für eine exakte Verortung der Bäume, sowie deren Kronenausformungen in den Datensätzen des Baumkatasters wird nicht übernommen. Diese Informationen sind mittels eines amtlichen Lageplanes zu sichern.</td>\n",
       "<td class=val></td></tr><tr class=odd><td class=val><a href=\"https://opendata.ruhr/dataset/200e532c-a381-4611-ba05-4ed7afc31230\" target=\"_other\">https://opendata.ruhr/dataset/200e532c-a381-4611-ba05-4ed7afc31230</a></td>\n",
       "<td class=val>Baumkataster des ASG Wesel</td>\n",
       "<td class=val>Der ASG Wesel führt ein Baumkataster zur Pflege der Bestände auf den Flächen der Stadt Wesel. Der Datensatz wird regelmäßig aktualisiert.</td>\n",
       "<td class=val></td></tr><tr class=even><td class=val><a href=\"https://offenedaten.kdvz.nrw/dataset/d30-baumkataster-der-kreisstadt-bergheim\" target=\"_other\">https://offenedaten.kdvz.nrw/dataset/d30-baumkataster-der-kreisstadt-bergheim</a></td>\n",
       "<td class=val>D30 Baumkataster der Kreisstadt Bergheim</td>\n",
       "<td class=val>&lt;p&gt;Baumkataster der Kreisstadt Bergheim&amp;nbsp;als Shape-, Excel- sowie CSV Datei.&lt;/p&gt;\n",
       "\n",
       "&lt;p&gt;Die Dateien enthalten Angaben zu Standort, Baumnummer, Gattung, deutscher Bezeichnung sowie Stammumfang.&lt;/p&gt;\n",
       "\n",
       "&lt;p&gt;&lt;strong&gt;Hinweis:&lt;/strong&gt;&lt;/p&gt;\n",
       "\n",
       "&lt;p&gt;Es sind noch nicht alle Bäume erfasst, die Erfassung des gesamten städtischen Baumbestandes wird angestrebt. Der Datensatz wird aus diesem Grunde unregelmäßig aktualisiert.&lt;/p&gt;\n",
       "</td>\n",
       "<td class=val></td></tr><tr class=odd><td class=val><a href=\"https://opendata.stadt-muenster.de/dataset/digitales-baumkataster-m%C3%BCnster\" target=\"_other\">https://opendata.stadt-muenster.de/dataset/digitales-baumkataster-m%C3%BCnster</a></td>\n",
       "<td class=val>Digitales Baumkataster Münster</td>\n",
       "<td class=val>&lt;p&gt;Das Amt für Grünflächen, Umwelt und Nachhaltigkeit pflegt alle Bäume auf städtischen Flächen. Sie stehen vorwiegend in Park- und Grünanlagen, entlang von Straßen und Wegen, auf Spielplätzen und Schulhöfen, in Kindertageseinrichtungen und natürlich im Wald. Insgesamt werden rund 100.000 Einzelbäume baumpflegerisch betreut. Knapp die Hälfte der Baum-Standorte davon ist digital erfasst und in diesem Datensatz enthalten.&lt;/p&gt;\n",
       "\n",
       "&lt;p&gt;Dieser Datensatz enthält für einen Teil der städtischen Bäume die Information über: Geokoordinaten des Baumes und Art des Baumes (im Datensatz steht jeweils der lateinische Name der Baumgruppe).&lt;/p&gt;\n",
       "\n",
       "&lt;p&gt;Bitte beachten Sie, dass es im Stadtgebiet auch viele Bäume auf privaten Flächen gibt, oder Bäume, die vermeintlich auf öffentlichen Flächen stehen, aber in anderen Zuständigkeitsbereichen liegen (z.B. Straßen.NRW, Land NRW, Deutsche Bahn). Informationen zu solchen nicht-städtischen Baumstandorten sind in diesem Datensatz nicht enthalten.&lt;br /&gt;\n",
       "&lt;br /&gt;\n",
       "Weiterhin ist die digitale Erfassung der städtischen Bäume außerhalb des Promenadenringes noch nicht abgeschlossen, weswegen dieser Datensatz im Bereich außerhalb des Promenadenringes noch nicht alle Bäume enthält.&lt;br /&gt;\n",
       "&lt;br /&gt;\n",
       "Die Daten spiegeln den folgenden Stand wieder:&lt;br /&gt;\n",
       "- Innerhalb des Promenadenrings: Stand im Jahr 2020&lt;br /&gt;\n",
       "- Außerhalb des Promenadenrings: Stand im Jahr 2017, unvollständig&lt;/p&gt;\n",
       "</td>\n",
       "<td class=val></td></tr></table><div class=\"tinfo\">Total: 7, Shown: 7</div></div>"
      ]
     },
     "metadata": {},
     "output_type": "display_data"
    }
   ],
   "source": [
    "%endpoint https://www.govdata.de/sparql\n",
    "PREFIX dcat: <http://www.w3.org/ns/dcat#>\n",
    "PREFIX dct: <http://purl.org/dc/terms/>\n",
    "PREFIX dcatde: <http://dcat-ap.de/def/dcatde/>\n",
    "PREFIX rdfs: <http://www.w3.org/2000/01/rdf-schema#>\n",
    "PREFIX pg: <http://dcat-ap.de/def/politicalGeocoding/>\n",
    "\n",
    "SELECT ?datasetURI ?datasetTitle ?datasetDescription ?accessURL\n",
    "WHERE {\n",
    "  ?datasetURI a dcat:Dataset;\n",
    "              dct:title ?datasetTitle;\n",
    "              dct:description ?datasetDescription;\n",
    "              dcatde:contributorID <http://dcat-ap.de/def/contributors/openNRW>;\n",
    "              dct:modified ?modified.\n",
    "  \n",
    "  OPTIONAL { \n",
    "    ?datasetURI dcat:catalog ?catalog. \n",
    "    ?datasetURI dcat:accessURL ?accessURL.\n",
    "  }\n",
    "  \n",
    "  FILTER((LANG(?datasetTitle) = \"\" || LANG(?datasetTitle) = \"de\") && CONTAINS(LCASE(?datasetTitle), \"baumkataster\"))\n",
    "  \n",
    "  FILTER(\n",
    "    CONTAINS(STR(?modified), \"2015\") || \n",
    "    CONTAINS(STR(?modified), \"2016\") ||\n",
    "    CONTAINS(STR(?modified), \"2017\") || \n",
    "    CONTAINS(STR(?modified), \"2018\") || \n",
    "    CONTAINS(STR(?modified), \"2019\") || \n",
    "    CONTAINS(STR(?modified), \"2020\") || \n",
    "    CONTAINS(STR(?modified), \"2021\") || \n",
    "    CONTAINS(STR(?modified), \"2022\") || \n",
    "    CONTAINS(STR(?modified), \"2023\") || \n",
    "    CONTAINS(STR(?modified), \"2024\") || \n",
    "    CONTAINS(STR(?modified), \"2025\")\n",
    "  )\n",
    "}\n",
    "ORDER BY ?datasetTitle\n",
    "\n"
   ]
  },
  {
   "cell_type": "code",
   "execution_count": 8,
   "id": "21de80b1",
   "metadata": {
    "vscode": {
     "languageId": "plaintext"
    }
   },
   "outputs": [
    {
     "data": {
      "text/html": [
       "<div class=\"krn-spql\"><div class=\"magic\">Endpoint set to: https://www.govdata.de/sparql</div></div>"
      ],
      "text/plain": [
       "Endpoint set to: https://www.govdata.de/sparql\n"
      ]
     },
     "metadata": {},
     "output_type": "display_data"
    },
    {
     "data": {
      "text/html": [
       "<div class=\"krn-spql\"><table><tr class=hdr><th>datasetURI</th>\n",
       "<th>datasetTitle</th>\n",
       "<th>datasetDescription</th>\n",
       "<th>accessURL</th></tr><tr class=odd><td class=val><a href=\"https://opendata.ruhr/dataset/200e532c-a381-4611-ba05-4ed7afc31230\" target=\"_other\">https://opendata.ruhr/dataset/200e532c-a381-4611-ba05-4ed7afc31230</a></td>\n",
       "<td class=val>Baumkataster des ASG Wesel</td>\n",
       "<td class=val>Der ASG Wesel führt ein Baumkataster zur Pflege der Bestände auf den Flächen der Stadt Wesel. Der Datensatz wird regelmäßig aktualisiert.</td>\n",
       "<td class=val></td></tr><tr class=even><td class=val><a href=\"https://offenedaten.kdvz.nrw/dataset/d30-baumkataster-der-kreisstadt-bergheim\" target=\"_other\">https://offenedaten.kdvz.nrw/dataset/d30-baumkataster-der-kreisstadt-bergheim</a></td>\n",
       "<td class=val>D30 Baumkataster der Kreisstadt Bergheim</td>\n",
       "<td class=val>&lt;p&gt;Baumkataster der Kreisstadt Bergheim&amp;nbsp;als Shape-, Excel- sowie CSV Datei.&lt;/p&gt;\n",
       "\n",
       "&lt;p&gt;Die Dateien enthalten Angaben zu Standort, Baumnummer, Gattung, deutscher Bezeichnung sowie Stammumfang.&lt;/p&gt;\n",
       "\n",
       "&lt;p&gt;&lt;strong&gt;Hinweis:&lt;/strong&gt;&lt;/p&gt;\n",
       "\n",
       "&lt;p&gt;Es sind noch nicht alle Bäume erfasst, die Erfassung des gesamten städtischen Baumbestandes wird angestrebt. Der Datensatz wird aus diesem Grunde unregelmäßig aktualisiert.&lt;/p&gt;\n",
       "</td>\n",
       "<td class=val></td></tr><tr class=odd><td class=val><a href=\"https://opendata.stadt-muenster.de/dataset/digitales-baumkataster-m%C3%BCnster\" target=\"_other\">https://opendata.stadt-muenster.de/dataset/digitales-baumkataster-m%C3%BCnster</a></td>\n",
       "<td class=val>Digitales Baumkataster Münster</td>\n",
       "<td class=val>&lt;p&gt;Das Amt für Grünflächen, Umwelt und Nachhaltigkeit pflegt alle Bäume auf städtischen Flächen. Sie stehen vorwiegend in Park- und Grünanlagen, entlang von Straßen und Wegen, auf Spielplätzen und Schulhöfen, in Kindertageseinrichtungen und natürlich im Wald. Insgesamt werden rund 100.000 Einzelbäume baumpflegerisch betreut. Knapp die Hälfte der Baum-Standorte davon ist digital erfasst und in diesem Datensatz enthalten.&lt;/p&gt;\n",
       "\n",
       "&lt;p&gt;Dieser Datensatz enthält für einen Teil der städtischen Bäume die Information über: Geokoordinaten des Baumes und Art des Baumes (im Datensatz steht jeweils der lateinische Name der Baumgruppe).&lt;/p&gt;\n",
       "\n",
       "&lt;p&gt;Bitte beachten Sie, dass es im Stadtgebiet auch viele Bäume auf privaten Flächen gibt, oder Bäume, die vermeintlich auf öffentlichen Flächen stehen, aber in anderen Zuständigkeitsbereichen liegen (z.B. Straßen.NRW, Land NRW, Deutsche Bahn). Informationen zu solchen nicht-städtischen Baumstandorten sind in diesem Datensatz nicht enthalten.&lt;br /&gt;\n",
       "&lt;br /&gt;\n",
       "Weiterhin ist die digitale Erfassung der städtischen Bäume außerhalb des Promenadenringes noch nicht abgeschlossen, weswegen dieser Datensatz im Bereich außerhalb des Promenadenringes noch nicht alle Bäume enthält.&lt;br /&gt;\n",
       "&lt;br /&gt;\n",
       "Die Daten spiegeln den folgenden Stand wieder:&lt;br /&gt;\n",
       "- Innerhalb des Promenadenrings: Stand im Jahr 2020&lt;br /&gt;\n",
       "- Außerhalb des Promenadenrings: Stand im Jahr 2017, unvollständig&lt;/p&gt;\n",
       "</td>\n",
       "<td class=val></td></tr><tr class=even><td class=val><a href=\"https://transparenz.karlsruhe.de/dataset/fcdceb2e-d16d-410c-ba0f-521ba8c6effa\" target=\"_other\">https://transparenz.karlsruhe.de/dataset/fcdceb2e-d16d-410c-ba0f-521ba8c6effa</a></td>\n",
       "<td class=val>Fachpläne - Baumkataster</td>\n",
       "<td class=val>Die Daten des Karlsruhe Baumkatasters enthalten Standort und Baumarten (Nadelbaum, Laubbaum, Obstbaum, ...) aller digital erhobenen Bäume, die im städtischen Geodatawarehouse gespeichert sind.\r\n",
       "Dabei sind Bäume im Zuständigkeitsbereich des Gartenbauamts (GBA). Aber auch Bäume in der Zuständigkeit anderer Ämter der Stadtverwaltung, die das Liegenschaftsamt (LA) in der allgemeinen Stadttopografie dokumentiert.\r\n",
       "Im Datenbestand der LA-Bäume sind aber auch Bäume auf Flächen des Landes BW oder von Kirchen. Ebenso sind LA-Bäume auf privaten Flächen möglich.\r\n",
       "Ein Teil der Bäume ist terrestrisch vermessen. Es sind im Einzelfall Lageabweichungen der nicht terrestrisch vermessenen Baumstandorte von mehreren Dezimetern möglich.\r\n",
       "Der Stand der einzelnen Datensätze ist sehr unterschiedlich und kann nicht ganzheitlich benannt werden.\r\n",
       "\r\n",
       "Es kann keine Gewähr über die Vollständigkeit der Daten übernommen werden. Die Erhebung der Daten erfolgt entsprechend den jeweiligen Prozessabläufen in den datengebenden Ämtern der Stadt.\r\n",
       "Zur weiteren Anreicherung des Datenbestandes, können Nutzer des Transparenzportals selbst erfasste neue Baumstandorte der Stadtverwaltung zukommen lassen.\r\n",
       "</td>\n",
       "<td class=val></td></tr><tr class=odd><td class=val><a href=\"https://open.rlp.de/dataset/82545bd5-29fd-48fa-9718-966200436dfd\" target=\"_other\">https://open.rlp.de/dataset/82545bd5-29fd-48fa-9718-966200436dfd</a></td>\n",
       "<td class=val>HP 2021 Naturpark Soonwald-Nahe - Obstbaumpflanzungen Dörrebach</td>\n",
       "<td class=val>Projektförderung auf Grundlage der Naturpark-Handlungsprogramme</td>\n",
       "<td class=val></td></tr><tr class=even><td class=val><a href=\"https://opendata.rhein-kreis-neuss.de/api/v2/catalog/datasets/stadt-neuss-herbstpflanzung-2023\" target=\"_other\">https://opendata.rhein-kreis-neuss.de/api/v2/catalog/datasets/stadt-neuss-herbstpflanzung-2023</a></td>\n",
       "<td class=val>Stadt Neuss: Baumpflanzungen 2023</td>\n",
       "<td class=val>Daten zu Baumpflanzungen im Jahr 2023. Für die Herbstbaumpflanzung wurden zahlreiche verschiedene Baumarten \n",
       "ausgesucht – unter anderem Eichen, Walnuss- und Kirschbäume, \n",
       "verschiedene Lindenarten sowie Amberbäume, die besonders \n",
       "widerstandsfähig gegen Hitze und Trockenheit sind. Aufgrund dieser \n",
       "Eigenschaften gilt der Amberbaum ebenso als „Klimabaum“ wie etwa \n",
       "Zürgelbäume, Mehlbeeren oder Robinien, die alle ebenfalls unter den \n",
       "ausgewählten Arten sind.</td>\n",
       "<td class=val></td></tr><tr class=odd><td class=val><a href=\"https://opendata.rhein-kreis-neuss.de/api/v2/catalog/datasets/stadt-neuss-baumpflanzungen-2024\" target=\"_other\">https://opendata.rhein-kreis-neuss.de/api/v2/catalog/datasets/stadt-neuss-baumpflanzungen-2024</a></td>\n",
       "<td class=val>Stadt Neuss: Baumpflanzungen 2024</td>\n",
       "<td class=val>Für die Herbstbaumpflanzung sind zahlreiche verschiedene Baumarten ausgesucht,\n",
       "die besonders widerstandsfähig gegen Hitze und Trockenheit sind. Die räumlichen\n",
       "Schwerpunkte der Baumpflanzungen liegen im Dreikönigenviertel und Rosellen,\n",
       "aber auch einige andere Stadtteile erhalten natürlich neue Bäume. Stadtteile,\n",
       "die nun kaum oder garnicht neue Bäume erhalten, werden sicherlich in naher\n",
       "Zukunft berücksichtigt.</td>\n",
       "<td class=val></td></tr><tr class=even><td class=val><a href=\"http://suche.transparenz.hamburg.de/dataset/6410cc33-7180-429c-83fd-52e8c1488e08\" target=\"_other\">http://suche.transparenz.hamburg.de/dataset/6410cc33-7180-429c-83fd-52e8c1488e08</a></td>\n",
       "<td class=val>Straßenbaumkataster Hamburg</td>\n",
       "<td class=val>Das Straßenbaumkataster umfasst die flächendeckende Darstellung der Bäume auf öffentlichen Straßenflurstücken als Grundlage der Baumkontrollen zur Verkehrssicherheit und der Planung. Wesentliche Datenfelder sind: Standort, Gattung/Art, Pflanzjahr, Kronenumfang, Stammdurchmesser, biologische Parameter und Schadensmerkmale.\n",
       "Die schnelle grafische Visualisierung der Baumstandorte und Hintergrundkarten leistet eine integrierte GIS-Komponente. Die Sachdaten liegen in einer SQL Server- Datenbank vor. Erfasst wird im Rahmen fortlaufender Vermessungsgänge und Aktualisierungen. Die Fortschreibungen erfolgen auch im Rahmen der vorgeschriebenen Baumkontrollen zur Verkehrssicherheit.\n",
       "\n",
       "Das - Online-Straßenbaumkataster - umfasst die flächendeckende Darstellung der Bäume auf öffentlichen Straßenflurstücken mit wesentlichen Stammattributen sowie die Daten der Hamburger Port Authority, die in einer eigenen Datenbank gespeichert werden. Jedem Baum sind die folgenden Datenfelder zugeordnet: Standort, Gattung/Art, Pflanzjahr, Kronendurchmesser und Stammumfang. Diese im Rahmen regelmäßiger Baumkontrollen erfassten Daten werden für das Internet jährlich mit Stand 1. Januar aktualisiert. Sie stehen als WMS- u. WFS-Dienst sowie im Format GML als Download zur Verfügung.</td>\n",
       "<td class=val></td></tr><tr class=odd><td class=val><a href=\"http://suche.transparenz.hamburg.de/dataset/aea728d3-2b65-4672-9cb8-4c69d4a3c9d6\" target=\"_other\">http://suche.transparenz.hamburg.de/dataset/aea728d3-2b65-4672-9cb8-4c69d4a3c9d6</a></td>\n",
       "<td class=val>Straßenbaumkataster Hamburger Hafen</td>\n",
       "<td class=val>Das Baumkataster umfasst die flächendeckende Darstellung der Bäume auf öffentlichen Straßenflurstücken als Grundlage der Baumkontrollen zur Verkehrssicherheit und der Planung.\n",
       "Wesentliche Datenfelder: Standort, Gattung/Art, Pflanzjahr, Vitalität (ggf.CIR-Befliegung), biologische Parameter,\n",
       "Schadensmerkmale. Die schnelle grafische Visualisierung der Baumstandorte und Hintergrundkarten leistet eine integrierte GIS-Komponente. Die Sachdaten liegen in einer SQL-Datenbank vor.\n",
       "Erfasst werden sie im Rahmen fortlaufender Vermessungsgänge und Aktualisierungen. Fortschreibung im Rahmen der Baumkontrollen zur Verkehrssicherheit.</td>\n",
       "<td class=val></td></tr><tr class=even><td class=val><a href=\"https://datenregister.berlin.de/dataset/324910a8-ee97-489c-a519-8694077e0863\" target=\"_other\">https://datenregister.berlin.de/dataset/324910a8-ee97-489c-a519-8694077e0863</a></td>\n",
       "<td class=val>Straßenbaumpflanzungen in Steglitz-Zehlendorf</td>\n",
       "<td class=val>Diese Liste enthält die bereits erfolgten Pflanzungen. Die bereits beauftragten Pflanzungen werden erst nach der Durchführung in das Baumkataster übernommen.\n",
       "Die enthaltenen Bäume wurden mit Hilfe von Spenden an den Bezirk, durch die Spendenaktion der Stadtbaumkampagne, durch unsere Auszubildenden und durch Firmen im Auftrag des Bezirks zu unterschiedlichen Zeitpunkten gepflanzt.\n",
       "Die Neupflanzungen erhalten eine dreijährige Anwachspflege. Eine beauftragte Gießpflege im 4. und 5. Standjahr schließt sich an. In Trockenperioden können Sie als Anwohnerinnen und Anwohner mit zusätzlichen Wassergaben die “Durststrecke” überwinden helfen und unterstützen uns damit sehr.</td>\n",
       "<td class=val></td></tr><tr class=odd><td class=val><a href=\"https://gdk.gdi-de.org/inspire/srv/eng/xml_iso19139?uuid=73dd7f0f-48e7-4cbd-916f-1f0f79652ad0\" target=\"_other\">https://gdk.gdi-de.org/inspire/srv/eng/xml_iso19139?uuid=73dd7f0f-48e7-4cbd-916f-1f0f79652ad0</a></td>\n",
       "<td class=val>Baumkataster</td>\n",
       "<td class=val>Bäume auf stadteigenen Flächen \n",
       "(alle Angaben ohne Gewähr)\n",
       "\n",
       "Herausgeber: Stadt Norderstedt\n",
       "Fachbereich Stadtpflege und Friedhöfe \n",
       "Fachbereich Gebäude und Außenanlagen</td>\n",
       "<td class=val></td></tr><tr class=even><td class=val><a href=\"https://gdk.gdi-de.org/inspire/srv/eng/xml_iso19139?uuid=45a104e1-2a3e-4b90-9e24-dc97d34b3298\" target=\"_other\">https://gdk.gdi-de.org/inspire/srv/eng/xml_iso19139?uuid=45a104e1-2a3e-4b90-9e24-dc97d34b3298</a></td>\n",
       "<td class=val>Baumkataster - Amt Beetsee Gemeinde Beetzseeheide</td>\n",
       "<td class=val>Datensatz zum Baumkataster (Standort, Baumart, Baummaße) im Bereich der Gemeinde Beetzseeheide</td>\n",
       "<td class=val></td></tr><tr class=odd><td class=val><a href=\"https://piveau.offene.daten-brandenburg.de/api/hub/repo/datasets/45a104e1-2a3e-4b90-9e24-dc97d34b3298\" target=\"_other\">https://piveau.offene.daten-brandenburg.de/api/hub/repo/datasets/45a104e1-2a3e-4b90-9e24-dc97d34b3298</a></td>\n",
       "<td class=val>Baumkataster - Amt Beetsee Gemeinde Beetzseeheide</td>\n",
       "<td class=val>Datensatz zum Baumkataster (Standort, Baumart, Baummaße) im Bereich der Gemeinde Beetzseeheide</td>\n",
       "<td class=val></td></tr><tr class=even><td class=val><a href=\"https://piveau.offene.daten-brandenburg.de/api/hub/repo/datasets/771b3471-f63a-4de8-b930-31dde0d23417\" target=\"_other\">https://piveau.offene.daten-brandenburg.de/api/hub/repo/datasets/771b3471-f63a-4de8-b930-31dde0d23417</a></td>\n",
       "<td class=val>Baumkataster - Amt Beetsee Gemeinde Beetzseeheide (WFS)</td>\n",
       "<td class=val>Geodienst (WFS) zum Baumkataster (Standort, Baumart, Baummaße) im Bereich der Gemeinde Beetzseeheide</td>\n",
       "<td class=val></td></tr><tr class=odd><td class=val><a href=\"https://piveau.offene.daten-brandenburg.de/api/hub/repo/datasets/3a14f846-13a1-47d9-874f-3843007d85b7\" target=\"_other\">https://piveau.offene.daten-brandenburg.de/api/hub/repo/datasets/3a14f846-13a1-47d9-874f-3843007d85b7</a></td>\n",
       "<td class=val>Baumkataster - Amt Beetsee Gemeinde Beetzseeheide (WMS)</td>\n",
       "<td class=val>Geodienst (WMS) zum Baumkataster (Standort, Baumart, Baummaße) im Bereich der Gemeinde Beetzseeheide</td>\n",
       "<td class=val></td></tr><tr class=even><td class=val><a href=\"https://piveau.offene.daten-brandenburg.de/api/hub/repo/datasets/09653fe3-ad6b-44d6-88e2-25b8042ee43d\" target=\"_other\">https://piveau.offene.daten-brandenburg.de/api/hub/repo/datasets/09653fe3-ad6b-44d6-88e2-25b8042ee43d</a></td>\n",
       "<td class=val>Baumkataster Frankfurt (Oder) - (WFS-BAUMKATASTER)</td>\n",
       "<td class=val>Der WFS Baumkataster beinhaltet alle Bäume die im öffentlichen Raum der Stadt Frankfurt (Oder) stehen.</td>\n",
       "<td class=val></td></tr><tr class=odd><td class=val><a href=\"https://gdk.gdi-de.org/inspire/srv/eng/xml_iso19139?uuid=e02ad618-ab42-48b5-8551-849aa936bb99\" target=\"_other\">https://gdk.gdi-de.org/inspire/srv/eng/xml_iso19139?uuid=e02ad618-ab42-48b5-8551-849aa936bb99</a></td>\n",
       "<td class=val>Baumkataster Stadt Köln</td>\n",
       "<td class=val>Das Baumkataster der Stadt Köln enthält ausschließlich von der Stadt Köln verwaltete und betreute Einzelbäume im Straßenland, sowie auf bebauten städtischen Objekten und deckt daher nicht den gesamten städtischen Baumbestand im Stadtgebiet ab. Die dargestellten Bäume werden durch das Amt für Landschaftspflege und Grünflächen regelmäßig kontrolliert und gepflegt. Der Datensatz wird täglich aktualisiert und spiegelt den aktuellen Stand der Datenerfassung wider. Der dargestellte Baumbestand dient nur als Planungsergänzung und ersetzt bei Baumaßnahmen weder die Funktion eines amtlichen Lageplans, noch ist er mit diesem gleichzusetzen. Die Gewährleistung für eine exakte Verortung der Bäume, sowie deren Kronenausformungen in den Datensätzen des Baumkatasters wird nicht übernommen. Diese Informationen sind mittels eines amtlichen Lageplanes zu sichern.</td>\n",
       "<td class=val></td></tr><tr class=even><td class=val><a href=\"https://open.bydata.de/api/hub/repo/datasets/baumkataster-der-stadt-erlangen\" target=\"_other\">https://open.bydata.de/api/hub/repo/datasets/baumkataster-der-stadt-erlangen</a></td>\n",
       "<td class=val>Baumkataster der Stadt Erlangen</td>\n",
       "<td class=val>Das Baumkataster der Stadt Erlangen enthält alle Bäume, die vom Eigenbetrieb für Stadtgrün der Stadt Erlangen gepflegt werden.  \r\n",
       "Im Stadtgebiet gibt es auch viele Bäume auf privaten Flächen oder Bäume, die vermeintlich auf öffentlichen Flächen stehen, die aber in anderen Zuständigkeitsbereichen liegen (z.B. Freistaat Bayern, Bund oder Deutsche Bahn).  \r\n",
       "Informationen zu solchen nicht-städtischen Baumstandorten sind in diesem Datensatz nicht enthalten.</td>\n",
       "<td class=val></td></tr><tr class=odd><td class=val><a href=\"https://open.bydata.de/api/hub/repo/datasets/baumkataster-haar\" target=\"_other\">https://open.bydata.de/api/hub/repo/datasets/baumkataster-haar</a></td>\n",
       "<td class=val>Baumkataster der Stadt Haar</td>\n",
       "<td class=val>Das Baumkataster der Stadt Haar dient als Verzeichnis zur Verwaltung der Daten über den Baumbestand auf öffentlichen Flächen im Stadtgebiet. Neben dem Plakettencode und Art eines Baumes sind auch Daten über seine Höhe, den Kronendurchmesser und -ansatz, den Stammumfang sowie die exakten Koordinaten im Datensatz enthalten. Durch die Nutzung dieser Daten ist es möglich, eine präzise Analyse des Baumbestands durchzuführen sowie die Integration von GIS zur räumlichen Zuordnung.\r\n",
       "\r\n",
       "Nutzungs- und Haftungsbestimmungen: \r\n",
       "Die in diesem Datensatz enthaltenen Informationen dienen als allgemeine Informationen über relevante Themen und stellen einen Service der Stadt Haar dar. Wir bemühen uns, alle angegebenen Informationen kontinuierlich zu aktualisieren und von höchster Qualität bereitzustellen. </td>\n",
       "<td class=val></td></tr><tr class=even><td class=val><a href=\"https://open.bydata.de/api/hub/repo/datasets/baumkataster-der-stadt-hassfurt\" target=\"_other\">https://open.bydata.de/api/hub/repo/datasets/baumkataster-der-stadt-hassfurt</a></td>\n",
       "<td class=val>Baumkataster der Stadt Haßfurt</td>\n",
       "<td class=val>Der Baumkataster der Stadt Haßfurt ist ein Verzeichnis zur  Verwaltung und Pflege des Baumbestands.\n",
       "Es umfasst Informationen wie Größe, Art, Alter und exakte Koordinaten der Bäume. \n",
       "Diese Daten ermöglichen eine präzise Analyse des Baumbestands, die Planung gezielter Pflege- und Entwicklungsmaßnahmen sowie die Integration von GIS zur räumlichen Zuordnung.\n",
       "</td>\n",
       "<td class=val></td></tr></table><div class=\"tinfo\">Total: 27, Shown: 20</div></div>"
      ]
     },
     "metadata": {},
     "output_type": "display_data"
    }
   ],
   "source": [
    "%endpoint https://www.govdata.de/sparql\n",
    "PREFIX dcat: <http://www.w3.org/ns/dcat#>\n",
    "PREFIX dct: <http://purl.org/dc/terms/>\n",
    "PREFIX dcatde: <http://dcat-ap.de/def/dcatde/>\n",
    "PREFIX rdfs: <http://www.w3.org/2000/01/rdf-schema#>\n",
    "PREFIX pg: <http://dcat-ap.de/def/politicalGeocoding/>\n",
    "\n",
    "SELECT ?datasetURI ?datasetTitle ?datasetDescription ?accessURL\n",
    "WHERE {\n",
    "  ?datasetURI a dcat:Dataset;\n",
    "              dct:title ?datasetTitle;\n",
    "              dct:description ?datasetDescription;\n",
    "              dct:modified ?modified.\n",
    "  \n",
    "  OPTIONAL { \n",
    "    ?datasetURI dcat:catalog ?catalog. \n",
    "    ?datasetURI dcat:accessURL ?accessURL.\n",
    "  }\n",
    "  \n",
    "  FILTER(\n",
    "    (LANG(?datasetTitle) = \"\" || LANG(?datasetTitle) = \"de\") &&\n",
    "    (\n",
    "      CONTAINS(LCASE(?datasetTitle), \"baumkataster\") || \n",
    "      CONTAINS(LCASE(?datasetTitle), \"baumpflanzungen\")\n",
    "    )\n",
    "  )\n",
    "  \n",
    "  FILTER(\n",
    "    CONTAINS(STR(?modified), \"2015\") || \n",
    "    CONTAINS(STR(?modified), \"2016\") ||\n",
    "    CONTAINS(STR(?modified), \"2017\") || \n",
    "    CONTAINS(STR(?modified), \"2018\") || \n",
    "    CONTAINS(STR(?modified), \"2019\") || \n",
    "    CONTAINS(STR(?modified), \"2020\") || \n",
    "    CONTAINS(STR(?modified), \"2021\") || \n",
    "    CONTAINS(STR(?modified), \"2022\") || \n",
    "    CONTAINS(STR(?modified), \"2023\") || \n",
    "    CONTAINS(STR(?modified), \"2024\") || \n",
    "    CONTAINS(STR(?modified), \"2025\")\n",
    "  )\n",
    "}\n",
    "ORDER BY ?datasetTitle\n",
    "OFFSET 20"
   ]
  },
  {
   "cell_type": "code",
   "execution_count": 16,
   "id": "fcc6b49b",
   "metadata": {
    "vscode": {
     "languageId": "plaintext"
    }
   },
   "outputs": [
    {
     "data": {
      "text/html": [
       "<div class=\"krn-spql\"><div class=\"magic\">Endpoint set to: https://www.govdata.de/sparql</div></div>"
      ],
      "text/plain": [
       "Endpoint set to: https://www.govdata.de/sparql\n"
      ]
     },
     "metadata": {},
     "output_type": "display_data"
    },
    {
     "data": {
      "text/html": [
       "<div class=\"krn-spql\"><table><tr class=hdr><th>datasetURI</th>\n",
       "<th>datasetTitle</th>\n",
       "<th>datasetDescription</th>\n",
       "<th>accessURL</th></tr><tr class=odd><td class=val><a href=\"http://suche.transparenz.hamburg.de/dataset/aea728d3-2b65-4672-9cb8-4c69d4a3c9d6\" target=\"_other\">http://suche.transparenz.hamburg.de/dataset/aea728d3-2b65-4672-9cb8-4c69d4a3c9d6</a></td>\n",
       "<td class=val>Straßenbaumkataster Hamburger Hafen</td>\n",
       "<td class=val>Das Baumkataster umfasst die flächendeckende Darstellung der Bäume auf öffentlichen Straßenflurstücken als Grundlage der Baumkontrollen zur Verkehrssicherheit und der Planung.\n",
       "Wesentliche Datenfelder: Standort, Gattung/Art, Pflanzjahr, Vitalität (ggf.CIR-Befliegung), biologische Parameter,\n",
       "Schadensmerkmale. Die schnelle grafische Visualisierung der Baumstandorte und Hintergrundkarten leistet eine integrierte GIS-Komponente. Die Sachdaten liegen in einer SQL-Datenbank vor.\n",
       "Erfasst werden sie im Rahmen fortlaufender Vermessungsgänge und Aktualisierungen. Fortschreibung im Rahmen der Baumkontrollen zur Verkehrssicherheit.</td>\n",
       "<td class=val><a href=\"https://api.hamburg.de/datasets/v1/strassenbaumkataster_hafen\" target=\"_other\">https://api.hamburg.de/datasets/v1/strassenbaumkataster_hafen</a></td></tr><tr class=even><td class=val><a href=\"http://suche.transparenz.hamburg.de/dataset/aea728d3-2b65-4672-9cb8-4c69d4a3c9d6\" target=\"_other\">http://suche.transparenz.hamburg.de/dataset/aea728d3-2b65-4672-9cb8-4c69d4a3c9d6</a></td>\n",
       "<td class=val>Straßenbaumkataster Hamburger Hafen</td>\n",
       "<td class=val>Das Baumkataster umfasst die flächendeckende Darstellung der Bäume auf öffentlichen Straßenflurstücken als Grundlage der Baumkontrollen zur Verkehrssicherheit und der Planung.\n",
       "Wesentliche Datenfelder: Standort, Gattung/Art, Pflanzjahr, Vitalität (ggf.CIR-Befliegung), biologische Parameter,\n",
       "Schadensmerkmale. Die schnelle grafische Visualisierung der Baumstandorte und Hintergrundkarten leistet eine integrierte GIS-Komponente. Die Sachdaten liegen in einer SQL-Datenbank vor.\n",
       "Erfasst werden sie im Rahmen fortlaufender Vermessungsgänge und Aktualisierungen. Fortschreibung im Rahmen der Baumkontrollen zur Verkehrssicherheit.</td>\n",
       "<td class=val><a href=\"https://daten-hamburg.de/umwelt_klima/strassenbaumkataster_hafen/Strassenbaumkataster_Hafen_HH_2017-01-06.zip\" target=\"_other\">https://daten-hamburg.de/umwelt_klima/strassenbaumkataster_hafen/Strassenbaumkataster_Hafen_HH_2017-01-06.zip</a></td></tr><tr class=odd><td class=val><a href=\"http://suche.transparenz.hamburg.de/dataset/aea728d3-2b65-4672-9cb8-4c69d4a3c9d6\" target=\"_other\">http://suche.transparenz.hamburg.de/dataset/aea728d3-2b65-4672-9cb8-4c69d4a3c9d6</a></td>\n",
       "<td class=val>Straßenbaumkataster Hamburger Hafen</td>\n",
       "<td class=val>Das Baumkataster umfasst die flächendeckende Darstellung der Bäume auf öffentlichen Straßenflurstücken als Grundlage der Baumkontrollen zur Verkehrssicherheit und der Planung.\n",
       "Wesentliche Datenfelder: Standort, Gattung/Art, Pflanzjahr, Vitalität (ggf.CIR-Befliegung), biologische Parameter,\n",
       "Schadensmerkmale. Die schnelle grafische Visualisierung der Baumstandorte und Hintergrundkarten leistet eine integrierte GIS-Komponente. Die Sachdaten liegen in einer SQL-Datenbank vor.\n",
       "Erfasst werden sie im Rahmen fortlaufender Vermessungsgänge und Aktualisierungen. Fortschreibung im Rahmen der Baumkontrollen zur Verkehrssicherheit.</td>\n",
       "<td class=val><a href=\"https://geodienste.hamburg.de/HH_WFS_Strassenbaumkataster?SERVICE=WFS&REQUEST=GetCapabilities\" target=\"_other\">https://geodienste.hamburg.de/HH_WFS_Strassenbaumkataster?SERVICE=WFS&amp;REQUEST=GetCapabilities</a></td></tr><tr class=even><td class=val><a href=\"http://suche.transparenz.hamburg.de/dataset/aea728d3-2b65-4672-9cb8-4c69d4a3c9d6\" target=\"_other\">http://suche.transparenz.hamburg.de/dataset/aea728d3-2b65-4672-9cb8-4c69d4a3c9d6</a></td>\n",
       "<td class=val>Straßenbaumkataster Hamburger Hafen</td>\n",
       "<td class=val>Das Baumkataster umfasst die flächendeckende Darstellung der Bäume auf öffentlichen Straßenflurstücken als Grundlage der Baumkontrollen zur Verkehrssicherheit und der Planung.\n",
       "Wesentliche Datenfelder: Standort, Gattung/Art, Pflanzjahr, Vitalität (ggf.CIR-Befliegung), biologische Parameter,\n",
       "Schadensmerkmale. Die schnelle grafische Visualisierung der Baumstandorte und Hintergrundkarten leistet eine integrierte GIS-Komponente. Die Sachdaten liegen in einer SQL-Datenbank vor.\n",
       "Erfasst werden sie im Rahmen fortlaufender Vermessungsgänge und Aktualisierungen. Fortschreibung im Rahmen der Baumkontrollen zur Verkehrssicherheit.</td>\n",
       "<td class=val><a href=\"https://geodienste.hamburg.de/HH_WMS_Strassenbaumkataster?SERVICE=WMS&REQUEST=GetCapabilities\" target=\"_other\">https://geodienste.hamburg.de/HH_WMS_Strassenbaumkataster?SERVICE=WMS&amp;REQUEST=GetCapabilities</a></td></tr><tr class=odd><td class=val><a href=\"http://suche.transparenz.hamburg.de/dataset/aea728d3-2b65-4672-9cb8-4c69d4a3c9d6\" target=\"_other\">http://suche.transparenz.hamburg.de/dataset/aea728d3-2b65-4672-9cb8-4c69d4a3c9d6</a></td>\n",
       "<td class=val>Straßenbaumkataster Hamburger Hafen</td>\n",
       "<td class=val>Das Baumkataster umfasst die flächendeckende Darstellung der Bäume auf öffentlichen Straßenflurstücken als Grundlage der Baumkontrollen zur Verkehrssicherheit und der Planung.\n",
       "Wesentliche Datenfelder: Standort, Gattung/Art, Pflanzjahr, Vitalität (ggf.CIR-Befliegung), biologische Parameter,\n",
       "Schadensmerkmale. Die schnelle grafische Visualisierung der Baumstandorte und Hintergrundkarten leistet eine integrierte GIS-Komponente. Die Sachdaten liegen in einer SQL-Datenbank vor.\n",
       "Erfasst werden sie im Rahmen fortlaufender Vermessungsgänge und Aktualisierungen. Fortschreibung im Rahmen der Baumkontrollen zur Verkehrssicherheit.</td>\n",
       "<td class=val><a href=\"https://geodienste.hamburg.de/download?url=https://geodienste.hamburg.de/HH_WFS_Strassenbaumkataster&f=csv\" target=\"_other\">https://geodienste.hamburg.de/download?url=https://geodienste.hamburg.de/HH_WFS_Strassenbaumkataster&amp;f=csv</a></td></tr><tr class=even><td class=val><a href=\"http://suche.transparenz.hamburg.de/dataset/aea728d3-2b65-4672-9cb8-4c69d4a3c9d6\" target=\"_other\">http://suche.transparenz.hamburg.de/dataset/aea728d3-2b65-4672-9cb8-4c69d4a3c9d6</a></td>\n",
       "<td class=val>Straßenbaumkataster Hamburger Hafen</td>\n",
       "<td class=val>Das Baumkataster umfasst die flächendeckende Darstellung der Bäume auf öffentlichen Straßenflurstücken als Grundlage der Baumkontrollen zur Verkehrssicherheit und der Planung.\n",
       "Wesentliche Datenfelder: Standort, Gattung/Art, Pflanzjahr, Vitalität (ggf.CIR-Befliegung), biologische Parameter,\n",
       "Schadensmerkmale. Die schnelle grafische Visualisierung der Baumstandorte und Hintergrundkarten leistet eine integrierte GIS-Komponente. Die Sachdaten liegen in einer SQL-Datenbank vor.\n",
       "Erfasst werden sie im Rahmen fortlaufender Vermessungsgänge und Aktualisierungen. Fortschreibung im Rahmen der Baumkontrollen zur Verkehrssicherheit.</td>\n",
       "<td class=val><a href=\"https://geodienste.hamburg.de/download?url=https://geodienste.hamburg.de/HH_WFS_Strassenbaumkataster&f=json\" target=\"_other\">https://geodienste.hamburg.de/download?url=https://geodienste.hamburg.de/HH_WFS_Strassenbaumkataster&amp;f=json</a></td></tr><tr class=odd><td class=val><a href=\"https://datenregister.berlin.de/dataset/324910a8-ee97-489c-a519-8694077e0863\" target=\"_other\">https://datenregister.berlin.de/dataset/324910a8-ee97-489c-a519-8694077e0863</a></td>\n",
       "<td class=val>Straßenbaumpflanzungen in Steglitz-Zehlendorf</td>\n",
       "<td class=val>Diese Liste enthält die bereits erfolgten Pflanzungen. Die bereits beauftragten Pflanzungen werden erst nach der Durchführung in das Baumkataster übernommen.\n",
       "Die enthaltenen Bäume wurden mit Hilfe von Spenden an den Bezirk, durch die Spendenaktion der Stadtbaumkampagne, durch unsere Auszubildenden und durch Firmen im Auftrag des Bezirks zu unterschiedlichen Zeitpunkten gepflanzt.\n",
       "Die Neupflanzungen erhalten eine dreijährige Anwachspflege. Eine beauftragte Gießpflege im 4. und 5. Standjahr schließt sich an. In Trockenperioden können Sie als Anwohnerinnen und Anwohner mit zusätzlichen Wassergaben die “Durststrecke” überwinden helfen und unterstützen uns damit sehr.</td>\n",
       "<td class=val><a href=\"https://www.berlin.de/ba-steglitz-zehlendorf/politik-und-verwaltung/aemter/strassen-und-gruenflaechenamt/gruenflaechen/baeume/baumpflanzungen/index.php\" target=\"_other\">https://www.berlin.de/ba-steglitz-zehlendorf/politik-und-verwaltung/aemter/strassen-und-gruenflaechenamt/gruenflaechen/baeume/baumpflanzungen/index.php</a></td></tr><tr class=even><td class=val><a href=\"https://datenregister.berlin.de/dataset/324910a8-ee97-489c-a519-8694077e0863\" target=\"_other\">https://datenregister.berlin.de/dataset/324910a8-ee97-489c-a519-8694077e0863</a></td>\n",
       "<td class=val>Straßenbaumpflanzungen in Steglitz-Zehlendorf</td>\n",
       "<td class=val>Diese Liste enthält die bereits erfolgten Pflanzungen. Die bereits beauftragten Pflanzungen werden erst nach der Durchführung in das Baumkataster übernommen.\n",
       "Die enthaltenen Bäume wurden mit Hilfe von Spenden an den Bezirk, durch die Spendenaktion der Stadtbaumkampagne, durch unsere Auszubildenden und durch Firmen im Auftrag des Bezirks zu unterschiedlichen Zeitpunkten gepflanzt.\n",
       "Die Neupflanzungen erhalten eine dreijährige Anwachspflege. Eine beauftragte Gießpflege im 4. und 5. Standjahr schließt sich an. In Trockenperioden können Sie als Anwohnerinnen und Anwohner mit zusätzlichen Wassergaben die “Durststrecke” überwinden helfen und unterstützen uns damit sehr.</td>\n",
       "<td class=val><a href=\"https://www.berlin.de/ba-steglitz-zehlendorf/politik-und-verwaltung/aemter/strassen-und-gruenflaechenamt/gruenflaechen/baeume/baumpflanzungen/index.php/index/all.csv?q=\" target=\"_other\">https://www.berlin.de/ba-steglitz-zehlendorf/politik-und-verwaltung/aemter/strassen-und-gruenflaechenamt/gruenflaechen/baeume/baumpflanzungen/index.php/index/all.csv?q=</a></td></tr><tr class=odd><td class=val><a href=\"https://datenregister.berlin.de/dataset/324910a8-ee97-489c-a519-8694077e0863\" target=\"_other\">https://datenregister.berlin.de/dataset/324910a8-ee97-489c-a519-8694077e0863</a></td>\n",
       "<td class=val>Straßenbaumpflanzungen in Steglitz-Zehlendorf</td>\n",
       "<td class=val>Diese Liste enthält die bereits erfolgten Pflanzungen. Die bereits beauftragten Pflanzungen werden erst nach der Durchführung in das Baumkataster übernommen.\n",
       "Die enthaltenen Bäume wurden mit Hilfe von Spenden an den Bezirk, durch die Spendenaktion der Stadtbaumkampagne, durch unsere Auszubildenden und durch Firmen im Auftrag des Bezirks zu unterschiedlichen Zeitpunkten gepflanzt.\n",
       "Die Neupflanzungen erhalten eine dreijährige Anwachspflege. Eine beauftragte Gießpflege im 4. und 5. Standjahr schließt sich an. In Trockenperioden können Sie als Anwohnerinnen und Anwohner mit zusätzlichen Wassergaben die “Durststrecke” überwinden helfen und unterstützen uns damit sehr.</td>\n",
       "<td class=val><a href=\"https://www.berlin.de/ba-steglitz-zehlendorf/politik-und-verwaltung/aemter/strassen-und-gruenflaechenamt/gruenflaechen/baeume/baumpflanzungen/index.php/index/all.json?q=\" target=\"_other\">https://www.berlin.de/ba-steglitz-zehlendorf/politik-und-verwaltung/aemter/strassen-und-gruenflaechenamt/gruenflaechen/baeume/baumpflanzungen/index.php/index/all.json?q=</a></td></tr><tr class=even><td class=val><a href=\"https://datenregister.berlin.de/dataset/324910a8-ee97-489c-a519-8694077e0863\" target=\"_other\">https://datenregister.berlin.de/dataset/324910a8-ee97-489c-a519-8694077e0863</a></td>\n",
       "<td class=val>Straßenbaumpflanzungen in Steglitz-Zehlendorf</td>\n",
       "<td class=val>Diese Liste enthält die bereits erfolgten Pflanzungen. Die bereits beauftragten Pflanzungen werden erst nach der Durchführung in das Baumkataster übernommen.\n",
       "Die enthaltenen Bäume wurden mit Hilfe von Spenden an den Bezirk, durch die Spendenaktion der Stadtbaumkampagne, durch unsere Auszubildenden und durch Firmen im Auftrag des Bezirks zu unterschiedlichen Zeitpunkten gepflanzt.\n",
       "Die Neupflanzungen erhalten eine dreijährige Anwachspflege. Eine beauftragte Gießpflege im 4. und 5. Standjahr schließt sich an. In Trockenperioden können Sie als Anwohnerinnen und Anwohner mit zusätzlichen Wassergaben die “Durststrecke” überwinden helfen und unterstützen uns damit sehr.</td>\n",
       "<td class=val><a href=\"https://www.berlin.de/ba-steglitz-zehlendorf/politik-und-verwaltung/aemter/strassen-und-gruenflaechenamt/gruenflaechen/baeume/baumpflanzungen/index.php/index/all.xls?q=\" target=\"_other\">https://www.berlin.de/ba-steglitz-zehlendorf/politik-und-verwaltung/aemter/strassen-und-gruenflaechenamt/gruenflaechen/baeume/baumpflanzungen/index.php/index/all.xls?q=</a></td></tr><tr class=odd><td class=val><a href=\"https://datenregister.berlin.de/dataset/324910a8-ee97-489c-a519-8694077e0863\" target=\"_other\">https://datenregister.berlin.de/dataset/324910a8-ee97-489c-a519-8694077e0863</a></td>\n",
       "<td class=val>Straßenbaumpflanzungen in Steglitz-Zehlendorf</td>\n",
       "<td class=val>Diese Liste enthält die bereits erfolgten Pflanzungen. Die bereits beauftragten Pflanzungen werden erst nach der Durchführung in das Baumkataster übernommen.\n",
       "Die enthaltenen Bäume wurden mit Hilfe von Spenden an den Bezirk, durch die Spendenaktion der Stadtbaumkampagne, durch unsere Auszubildenden und durch Firmen im Auftrag des Bezirks zu unterschiedlichen Zeitpunkten gepflanzt.\n",
       "Die Neupflanzungen erhalten eine dreijährige Anwachspflege. Eine beauftragte Gießpflege im 4. und 5. Standjahr schließt sich an. In Trockenperioden können Sie als Anwohnerinnen und Anwohner mit zusätzlichen Wassergaben die “Durststrecke” überwinden helfen und unterstützen uns damit sehr.</td>\n",
       "<td class=val><a href=\"https://www.berlin.de/ba-steglitz-zehlendorf/politik-und-verwaltung/aemter/strassen-und-gruenflaechenamt/gruenflaechen/baeume/baumpflanzungen/index.php/index/all.xml?q=\" target=\"_other\">https://www.berlin.de/ba-steglitz-zehlendorf/politik-und-verwaltung/aemter/strassen-und-gruenflaechenamt/gruenflaechen/baeume/baumpflanzungen/index.php/index/all.xml?q=</a></td></tr><tr class=even><td class=val><a href=\"https://gdk.gdi-de.org/inspire/srv/eng/xml_iso19139?uuid=73dd7f0f-48e7-4cbd-916f-1f0f79652ad0\" target=\"_other\">https://gdk.gdi-de.org/inspire/srv/eng/xml_iso19139?uuid=73dd7f0f-48e7-4cbd-916f-1f0f79652ad0</a></td>\n",
       "<td class=val>Baumkataster</td>\n",
       "<td class=val>Bäume auf stadteigenen Flächen \n",
       "(alle Angaben ohne Gewähr)\n",
       "\n",
       "Herausgeber: Stadt Norderstedt\n",
       "Fachbereich Stadtpflege und Friedhöfe \n",
       "Fachbereich Gebäude und Außenanlagen</td>\n",
       "<td class=val><a href=\"https://geoservice.norderstedt.de/geoserver/gru/ows?service=WFS&version=1.0.0&request=GetFeature&typeName=gru:gruen_baum&outputFormat=CSV\" target=\"_other\">https://geoservice.norderstedt.de/geoserver/gru/ows?service=WFS&amp;version=1.0.0&amp;request=GetFeature&amp;typeName=gru:gruen_baum&amp;outputFormat=CSV</a></td></tr><tr class=odd><td class=val><a href=\"https://gdk.gdi-de.org/inspire/srv/eng/xml_iso19139?uuid=73dd7f0f-48e7-4cbd-916f-1f0f79652ad0\" target=\"_other\">https://gdk.gdi-de.org/inspire/srv/eng/xml_iso19139?uuid=73dd7f0f-48e7-4cbd-916f-1f0f79652ad0</a></td>\n",
       "<td class=val>Baumkataster</td>\n",
       "<td class=val>Bäume auf stadteigenen Flächen \n",
       "(alle Angaben ohne Gewähr)\n",
       "\n",
       "Herausgeber: Stadt Norderstedt\n",
       "Fachbereich Stadtpflege und Friedhöfe \n",
       "Fachbereich Gebäude und Außenanlagen</td>\n",
       "<td class=val><a href=\"https://geoservice.norderstedt.de/geoserver/gru/ows?service=WFS&version=1.0.0&request=GetFeature&typeName=gru:gruen_baum&outputFormat=GML3\" target=\"_other\">https://geoservice.norderstedt.de/geoserver/gru/ows?service=WFS&amp;version=1.0.0&amp;request=GetFeature&amp;typeName=gru:gruen_baum&amp;outputFormat=GML3</a></td></tr><tr class=even><td class=val><a href=\"https://gdk.gdi-de.org/inspire/srv/eng/xml_iso19139?uuid=73dd7f0f-48e7-4cbd-916f-1f0f79652ad0\" target=\"_other\">https://gdk.gdi-de.org/inspire/srv/eng/xml_iso19139?uuid=73dd7f0f-48e7-4cbd-916f-1f0f79652ad0</a></td>\n",
       "<td class=val>Baumkataster</td>\n",
       "<td class=val>Bäume auf stadteigenen Flächen \n",
       "(alle Angaben ohne Gewähr)\n",
       "\n",
       "Herausgeber: Stadt Norderstedt\n",
       "Fachbereich Stadtpflege und Friedhöfe \n",
       "Fachbereich Gebäude und Außenanlagen</td>\n",
       "<td class=val><a href=\"https://geoservice.norderstedt.de/geoserver/gru/ows?service=WFS&version=1.0.0&request=GetFeature&typeName=gru:gruen_baum&outputFormat=SHAPE-ZIP\" target=\"_other\">https://geoservice.norderstedt.de/geoserver/gru/ows?service=WFS&amp;version=1.0.0&amp;request=GetFeature&amp;typeName=gru:gruen_baum&amp;outputFormat=SHAPE-ZIP</a></td></tr><tr class=odd><td class=val><a href=\"https://gdk.gdi-de.org/inspire/srv/eng/xml_iso19139?uuid=73dd7f0f-48e7-4cbd-916f-1f0f79652ad0\" target=\"_other\">https://gdk.gdi-de.org/inspire/srv/eng/xml_iso19139?uuid=73dd7f0f-48e7-4cbd-916f-1f0f79652ad0</a></td>\n",
       "<td class=val>Baumkataster</td>\n",
       "<td class=val>Bäume auf stadteigenen Flächen \n",
       "(alle Angaben ohne Gewähr)\n",
       "\n",
       "Herausgeber: Stadt Norderstedt\n",
       "Fachbereich Stadtpflege und Friedhöfe \n",
       "Fachbereich Gebäude und Außenanlagen</td>\n",
       "<td class=val><a href=\"https://geoservice.norderstedt.de/geoserver/gru/ows?service=WFS&version=1.0.0&request=GetFeature&typeName=gru:gruen_baum&outputFormat=application/json\" target=\"_other\">https://geoservice.norderstedt.de/geoserver/gru/ows?service=WFS&amp;version=1.0.0&amp;request=GetFeature&amp;typeName=gru:gruen_baum&amp;outputFormat=application/json</a></td></tr><tr class=even><td class=val><a href=\"https://gdk.gdi-de.org/inspire/srv/eng/xml_iso19139?uuid=45a104e1-2a3e-4b90-9e24-dc97d34b3298\" target=\"_other\">https://gdk.gdi-de.org/inspire/srv/eng/xml_iso19139?uuid=45a104e1-2a3e-4b90-9e24-dc97d34b3298</a></td>\n",
       "<td class=val>Baumkataster - Amt Beetsee Gemeinde Beetzseeheide</td>\n",
       "<td class=val>Datensatz zum Baumkataster (Standort, Baumart, Baummaße) im Bereich der Gemeinde Beetzseeheide</td>\n",
       "<td class=val><a href=\"https://www.geoportal-amt-beetzsee.de/isk/baumkataster?REQUEST=GetCapabilities&SERVICE=WFS\" target=\"_other\">https://www.geoportal-amt-beetzsee.de/isk/baumkataster?REQUEST=GetCapabilities&amp;SERVICE=WFS</a></td></tr><tr class=odd><td class=val><a href=\"https://piveau.offene.daten-brandenburg.de/api/hub/repo/datasets/45a104e1-2a3e-4b90-9e24-dc97d34b3298\" target=\"_other\">https://piveau.offene.daten-brandenburg.de/api/hub/repo/datasets/45a104e1-2a3e-4b90-9e24-dc97d34b3298</a></td>\n",
       "<td class=val>Baumkataster - Amt Beetsee Gemeinde Beetzseeheide</td>\n",
       "<td class=val>Datensatz zum Baumkataster (Standort, Baumart, Baummaße) im Bereich der Gemeinde Beetzseeheide</td>\n",
       "<td class=val><a href=\"https://www.geoportal-amt-beetzsee.de/isk/baumkataster?REQUEST=GetCapabilities&SERVICE=WFS\" target=\"_other\">https://www.geoportal-amt-beetzsee.de/isk/baumkataster?REQUEST=GetCapabilities&amp;SERVICE=WFS</a></td></tr><tr class=even><td class=val><a href=\"https://piveau.offene.daten-brandenburg.de/api/hub/repo/datasets/45a104e1-2a3e-4b90-9e24-dc97d34b3298\" target=\"_other\">https://piveau.offene.daten-brandenburg.de/api/hub/repo/datasets/45a104e1-2a3e-4b90-9e24-dc97d34b3298</a></td>\n",
       "<td class=val>Baumkataster - Amt Beetsee Gemeinde Beetzseeheide</td>\n",
       "<td class=val>Datensatz zum Baumkataster (Standort, Baumart, Baummaße) im Bereich der Gemeinde Beetzseeheide</td>\n",
       "<td class=val><a href=\"https://www.geoportal-amt-beetzsee.de/katalog.php?view=show&id=236\" target=\"_other\">https://www.geoportal-amt-beetzsee.de/katalog.php?view=show&amp;id=236</a></td></tr><tr class=odd><td class=val><a href=\"https://piveau.offene.daten-brandenburg.de/api/hub/repo/datasets/771b3471-f63a-4de8-b930-31dde0d23417\" target=\"_other\">https://piveau.offene.daten-brandenburg.de/api/hub/repo/datasets/771b3471-f63a-4de8-b930-31dde0d23417</a></td>\n",
       "<td class=val>Baumkataster - Amt Beetsee Gemeinde Beetzseeheide (WFS)</td>\n",
       "<td class=val>Geodienst (WFS) zum Baumkataster (Standort, Baumart, Baummaße) im Bereich der Gemeinde Beetzseeheide</td>\n",
       "<td class=val><a href=\"https://www.geoportal-amt-beetzsee.de/katalog.php?view=show&id=236\" target=\"_other\">https://www.geoportal-amt-beetzsee.de/katalog.php?view=show&amp;id=236</a></td></tr><tr class=even><td class=val><a href=\"https://piveau.offene.daten-brandenburg.de/api/hub/repo/datasets/3a14f846-13a1-47d9-874f-3843007d85b7\" target=\"_other\">https://piveau.offene.daten-brandenburg.de/api/hub/repo/datasets/3a14f846-13a1-47d9-874f-3843007d85b7</a></td>\n",
       "<td class=val>Baumkataster - Amt Beetsee Gemeinde Beetzseeheide (WMS)</td>\n",
       "<td class=val>Geodienst (WMS) zum Baumkataster (Standort, Baumart, Baummaße) im Bereich der Gemeinde Beetzseeheide</td>\n",
       "<td class=val><a href=\"https://www.geoportal-amt-beetzsee.de/katalog.php?view=show&id=236\" target=\"_other\">https://www.geoportal-amt-beetzsee.de/katalog.php?view=show&amp;id=236</a></td></tr></table><div class=\"tinfo\">Total: 81, Shown: 20</div></div>"
      ]
     },
     "metadata": {},
     "output_type": "display_data"
    }
   ],
   "source": [
    "%endpoint https://www.govdata.de/sparql\n",
    "PREFIX dcat: <http://www.w3.org/ns/dcat#>\n",
    "PREFIX dct: <http://purl.org/dc/terms/>\n",
    "PREFIX dcatde: <http://dcat-ap.de/def/dcatde/>\n",
    "PREFIX rdfs: <http://www.w3.org/2000/01/rdf-schema#>\n",
    "PREFIX pg: <http://dcat-ap.de/def/politicalGeocoding/>\n",
    "\n",
    "SELECT ?datasetURI ?datasetTitle ?datasetDescription ?accessURL\n",
    "WHERE {\n",
    "  ?datasetURI a dcat:Dataset;\n",
    "              dct:title ?datasetTitle;\n",
    "              dct:description ?datasetDescription;\n",
    "              dct:modified ?modified;\n",
    "              dcat:distribution ?distribution.\n",
    "\n",
    "  ?distribution dcat:accessURL ?accessURL.\n",
    "\n",
    "  FILTER(\n",
    "    (LANG(?datasetTitle) = \"\" || LANG(?datasetTitle) = \"de\") &&\n",
    "    (\n",
    "      CONTAINS(LCASE(?datasetTitle), \"baumkataster\") || \n",
    "      CONTAINS(LCASE(?datasetTitle), \"baumpflanzungen\")\n",
    "    )\n",
    "  )\n",
    "\n",
    "  FILTER(\n",
    "    CONTAINS(STR(?modified), \"2015\") || \n",
    "    CONTAINS(STR(?modified), \"2016\") ||\n",
    "    CONTAINS(STR(?modified), \"2017\") || \n",
    "    CONTAINS(STR(?modified), \"2018\") || \n",
    "    CONTAINS(STR(?modified), \"2019\") || \n",
    "    CONTAINS(STR(?modified), \"2020\") || \n",
    "    CONTAINS(STR(?modified), \"2021\") || \n",
    "    CONTAINS(STR(?modified), \"2022\") || \n",
    "    CONTAINS(STR(?modified), \"2023\") || \n",
    "    CONTAINS(STR(?modified), \"2024\") || \n",
    "    CONTAINS(STR(?modified), \"2025\")\n",
    "  )\n",
    "}\n",
    "ORDER BY ?datasetTitle\n",
    "OFFSET 140"
   ]
  }
 ],
 "metadata": {
  "kernelspec": {
   "display_name": "SPARQL",
   "language": "sparql",
   "name": "sparql"
  },
  "language_info": {
   "codemirror_mode": {
    "name": "sparql"
   },
   "mimetype": "application/sparql-query",
   "name": "sparql",
   "pygments_lexer": "sparql-nb"
  }
 },
 "nbformat": 4,
 "nbformat_minor": 5
}
